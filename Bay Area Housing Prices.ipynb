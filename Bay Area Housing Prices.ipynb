{
 "cells": [
  {
   "cell_type": "markdown",
   "metadata": {},
   "source": [
    "### Bay Area Housing Prices"
   ]
  },
  {
   "cell_type": "markdown",
   "metadata": {},
   "source": [
    "#### In this case, we come up with 3 findings with each one based on different datasets for house value (Source : Zillow Research data)"
   ]
  },
  {
   "cell_type": "code",
   "execution_count": 1,
   "metadata": {
    "collapsed": true
   },
   "outputs": [],
   "source": [
    "from IPython.core.interactiveshell import InteractiveShell\n",
    "InteractiveShell.ast_node_interactivity = \"all\""
   ]
  },
  {
   "cell_type": "code",
   "execution_count": 2,
   "metadata": {
    "collapsed": true
   },
   "outputs": [],
   "source": [
    "import numpy as np\n",
    "import pandas as pd\n",
    "import seaborn as sn\n",
    "%matplotlib inline\n",
    "import matplotlib.pyplot as plt"
   ]
  },
  {
   "cell_type": "markdown",
   "metadata": {},
   "source": [
    "#### Prospective Investment Regions based on Average growth rate of Home Values and Rental Prices"
   ]
  },
  {
   "cell_type": "markdown",
   "metadata": {},
   "source": [
    "#### Home Values"
   ]
  },
  {
   "cell_type": "markdown",
   "metadata": {},
   "source": [
    "Reading Zillow data"
   ]
  },
  {
   "cell_type": "code",
   "execution_count": 3,
   "metadata": {},
   "outputs": [
    {
     "data": {
      "text/html": [
       "<div>\n",
       "<style>\n",
       "    .dataframe thead tr:only-child th {\n",
       "        text-align: right;\n",
       "    }\n",
       "\n",
       "    .dataframe thead th {\n",
       "        text-align: left;\n",
       "    }\n",
       "\n",
       "    .dataframe tbody tr th {\n",
       "        vertical-align: top;\n",
       "    }\n",
       "</style>\n",
       "<table border=\"1\" class=\"dataframe\">\n",
       "  <thead>\n",
       "    <tr style=\"text-align: right;\">\n",
       "      <th></th>\n",
       "      <th>RegionID</th>\n",
       "      <th>RegionName</th>\n",
       "      <th>City</th>\n",
       "      <th>State</th>\n",
       "      <th>Metro</th>\n",
       "      <th>CountyName</th>\n",
       "      <th>SizeRank</th>\n",
       "      <th>2015-01</th>\n",
       "      <th>2015-02</th>\n",
       "      <th>2015-03</th>\n",
       "      <th>...</th>\n",
       "      <th>2017-04</th>\n",
       "      <th>2017-05</th>\n",
       "      <th>2017-06</th>\n",
       "      <th>2017-07</th>\n",
       "      <th>2017-08</th>\n",
       "      <th>2017-09</th>\n",
       "      <th>2017-10</th>\n",
       "      <th>2017-11</th>\n",
       "      <th>2017-12</th>\n",
       "      <th>2018-01</th>\n",
       "    </tr>\n",
       "  </thead>\n",
       "  <tbody>\n",
       "    <tr>\n",
       "      <th>0</th>\n",
       "      <td>275237.0</td>\n",
       "      <td>Roosevelt</td>\n",
       "      <td>Fresno</td>\n",
       "      <td>CA</td>\n",
       "      <td>Fresno</td>\n",
       "      <td>Fresno</td>\n",
       "      <td>22.0</td>\n",
       "      <td>137600.0</td>\n",
       "      <td>138200.0</td>\n",
       "      <td>139000.0</td>\n",
       "      <td>...</td>\n",
       "      <td>164300.0</td>\n",
       "      <td>167400.0</td>\n",
       "      <td>169500.0</td>\n",
       "      <td>170900.0</td>\n",
       "      <td>172100.0</td>\n",
       "      <td>172800.0</td>\n",
       "      <td>173200.0</td>\n",
       "      <td>173900.0</td>\n",
       "      <td>175500.0</td>\n",
       "      <td>177400.0</td>\n",
       "    </tr>\n",
       "    <tr>\n",
       "      <th>1</th>\n",
       "      <td>273565.0</td>\n",
       "      <td>East San Jose</td>\n",
       "      <td>San Jose</td>\n",
       "      <td>CA</td>\n",
       "      <td>San Jose</td>\n",
       "      <td>Santa Clara</td>\n",
       "      <td>28.0</td>\n",
       "      <td>527800.0</td>\n",
       "      <td>532300.0</td>\n",
       "      <td>538800.0</td>\n",
       "      <td>...</td>\n",
       "      <td>655900.0</td>\n",
       "      <td>665900.0</td>\n",
       "      <td>673800.0</td>\n",
       "      <td>681600.0</td>\n",
       "      <td>690000.0</td>\n",
       "      <td>699000.0</td>\n",
       "      <td>710300.0</td>\n",
       "      <td>723900.0</td>\n",
       "      <td>740500.0</td>\n",
       "      <td>754500.0</td>\n",
       "    </tr>\n",
       "    <tr>\n",
       "      <th>2</th>\n",
       "      <td>273088.0</td>\n",
       "      <td>Bullard</td>\n",
       "      <td>Fresno</td>\n",
       "      <td>CA</td>\n",
       "      <td>Fresno</td>\n",
       "      <td>Fresno</td>\n",
       "      <td>35.0</td>\n",
       "      <td>229900.0</td>\n",
       "      <td>229800.0</td>\n",
       "      <td>229400.0</td>\n",
       "      <td>...</td>\n",
       "      <td>261400.0</td>\n",
       "      <td>264000.0</td>\n",
       "      <td>266500.0</td>\n",
       "      <td>268300.0</td>\n",
       "      <td>269800.0</td>\n",
       "      <td>271600.0</td>\n",
       "      <td>273100.0</td>\n",
       "      <td>274100.0</td>\n",
       "      <td>276000.0</td>\n",
       "      <td>278600.0</td>\n",
       "    </tr>\n",
       "    <tr>\n",
       "      <th>3</th>\n",
       "      <td>276652.0</td>\n",
       "      <td>West San Jose</td>\n",
       "      <td>San Jose</td>\n",
       "      <td>CA</td>\n",
       "      <td>San Jose</td>\n",
       "      <td>Santa Clara</td>\n",
       "      <td>42.0</td>\n",
       "      <td>1038300.0</td>\n",
       "      <td>1057900.0</td>\n",
       "      <td>1076800.0</td>\n",
       "      <td>...</td>\n",
       "      <td>1297000.0</td>\n",
       "      <td>1313600.0</td>\n",
       "      <td>1328000.0</td>\n",
       "      <td>1345400.0</td>\n",
       "      <td>1369200.0</td>\n",
       "      <td>1402300.0</td>\n",
       "      <td>1443100.0</td>\n",
       "      <td>1483900.0</td>\n",
       "      <td>1523800.0</td>\n",
       "      <td>1551500.0</td>\n",
       "    </tr>\n",
       "    <tr>\n",
       "      <th>4</th>\n",
       "      <td>273480.0</td>\n",
       "      <td>Downtown</td>\n",
       "      <td>San Jose</td>\n",
       "      <td>CA</td>\n",
       "      <td>San Jose</td>\n",
       "      <td>Santa Clara</td>\n",
       "      <td>52.0</td>\n",
       "      <td>588200.0</td>\n",
       "      <td>594200.0</td>\n",
       "      <td>600600.0</td>\n",
       "      <td>...</td>\n",
       "      <td>740100.0</td>\n",
       "      <td>749200.0</td>\n",
       "      <td>752900.0</td>\n",
       "      <td>759100.0</td>\n",
       "      <td>769500.0</td>\n",
       "      <td>781500.0</td>\n",
       "      <td>798400.0</td>\n",
       "      <td>822300.0</td>\n",
       "      <td>850100.0</td>\n",
       "      <td>870300.0</td>\n",
       "    </tr>\n",
       "  </tbody>\n",
       "</table>\n",
       "<p>5 rows × 44 columns</p>\n",
       "</div>"
      ],
      "text/plain": [
       "   RegionID     RegionName      City State     Metro   CountyName  SizeRank  \\\n",
       "0  275237.0      Roosevelt    Fresno    CA    Fresno       Fresno      22.0   \n",
       "1  273565.0  East San Jose  San Jose    CA  San Jose  Santa Clara      28.0   \n",
       "2  273088.0        Bullard    Fresno    CA    Fresno       Fresno      35.0   \n",
       "3  276652.0  West San Jose  San Jose    CA  San Jose  Santa Clara      42.0   \n",
       "4  273480.0       Downtown  San Jose    CA  San Jose  Santa Clara      52.0   \n",
       "\n",
       "     2015-01    2015-02    2015-03    ...        2017-04    2017-05  \\\n",
       "0   137600.0   138200.0   139000.0    ...       164300.0   167400.0   \n",
       "1   527800.0   532300.0   538800.0    ...       655900.0   665900.0   \n",
       "2   229900.0   229800.0   229400.0    ...       261400.0   264000.0   \n",
       "3  1038300.0  1057900.0  1076800.0    ...      1297000.0  1313600.0   \n",
       "4   588200.0   594200.0   600600.0    ...       740100.0   749200.0   \n",
       "\n",
       "     2017-06    2017-07    2017-08    2017-09    2017-10    2017-11  \\\n",
       "0   169500.0   170900.0   172100.0   172800.0   173200.0   173900.0   \n",
       "1   673800.0   681600.0   690000.0   699000.0   710300.0   723900.0   \n",
       "2   266500.0   268300.0   269800.0   271600.0   273100.0   274100.0   \n",
       "3  1328000.0  1345400.0  1369200.0  1402300.0  1443100.0  1483900.0   \n",
       "4   752900.0   759100.0   769500.0   781500.0   798400.0   822300.0   \n",
       "\n",
       "     2017-12    2018-01  \n",
       "0   175500.0   177400.0  \n",
       "1   740500.0   754500.0  \n",
       "2   276000.0   278600.0  \n",
       "3  1523800.0  1551500.0  \n",
       "4   850100.0   870300.0  \n",
       "\n",
       "[5 rows x 44 columns]"
      ]
     },
     "execution_count": 3,
     "metadata": {},
     "output_type": "execute_result"
    }
   ],
   "source": [
    "AllHomes = pd.read_csv('Neighborhood_Zhvi_AllHomes.csv')\n",
    "AllHomes.head()"
   ]
  },
  {
   "cell_type": "markdown",
   "metadata": {},
   "source": [
    "Data Cleansing: handling NaN values"
   ]
  },
  {
   "cell_type": "code",
   "execution_count": 4,
   "metadata": {
    "collapsed": true
   },
   "outputs": [],
   "source": [
    "AllHomes.dropna(inplace=True)"
   ]
  },
  {
   "cell_type": "markdown",
   "metadata": {},
   "source": [
    "Calculating average yearly home values"
   ]
  },
  {
   "cell_type": "code",
   "execution_count": 7,
   "metadata": {
    "collapsed": true
   },
   "outputs": [],
   "source": [
    "AllHomes['AverageHomeCostOf2015']= (AllHomes['2015-12']+AllHomes['2015-11']+AllHomes['2015-10']+AllHomes['2015-09']+\n",
    "                                 AllHomes['2015-08']+AllHomes['2015-07']+AllHomes['2015-06']+AllHomes['2015-05']+\n",
    "                                 AllHomes['2015-04']+AllHomes['2015-03']+AllHomes['2015-02']+AllHomes['2015-01'])/12\n",
    "AllHomes['AverageHomeCostOf2016']=(AllHomes['2016-12']+AllHomes['2016-11']+AllHomes['2016-10']+AllHomes['2016-09']+\n",
    "                                AllHomes['2016-08']+AllHomes['2016-07']+AllHomes['2015-06']+AllHomes['2016-05']+\n",
    "                                AllHomes['2016-04']+AllHomes['2016-03']+AllHomes['2016-02']+AllHomes['2016-01'])/12\n",
    "AllHomes['AverageHomeCostOf2017']=(AllHomes['2017-12']+AllHomes['2017-11']+AllHomes['2017-10']+AllHomes['2017-09']+\n",
    "                                AllHomes['2017-08']+AllHomes['2017-07']+AllHomes['2017-06']+AllHomes['2017-05']+\n",
    "                                AllHomes['2017-04']+AllHomes['2017-03']+AllHomes['2017-02']+AllHomes['2017-01'])/12"
   ]
  },
  {
   "cell_type": "markdown",
   "metadata": {},
   "source": [
    "###### Creating a new dataset by formatting and slicing useful columns"
   ]
  },
  {
   "cell_type": "code",
   "execution_count": 8,
   "metadata": {},
   "outputs": [
    {
     "data": {
      "text/html": [
       "<div>\n",
       "<style>\n",
       "    .dataframe thead tr:only-child th {\n",
       "        text-align: right;\n",
       "    }\n",
       "\n",
       "    .dataframe thead th {\n",
       "        text-align: left;\n",
       "    }\n",
       "\n",
       "    .dataframe tbody tr th {\n",
       "        vertical-align: top;\n",
       "    }\n",
       "</style>\n",
       "<table border=\"1\" class=\"dataframe\">\n",
       "  <thead>\n",
       "    <tr style=\"text-align: right;\">\n",
       "      <th></th>\n",
       "      <th>RegionName</th>\n",
       "      <th>City</th>\n",
       "      <th>State</th>\n",
       "      <th>AverageHomeCostOf2015</th>\n",
       "      <th>AverageHomeCostOf2016</th>\n",
       "      <th>AverageHomeCostOf2017</th>\n",
       "    </tr>\n",
       "  </thead>\n",
       "  <tbody>\n",
       "    <tr>\n",
       "      <th>0</th>\n",
       "      <td>Roosevelt</td>\n",
       "      <td>Fresno</td>\n",
       "      <td>CA</td>\n",
       "      <td>141792.0</td>\n",
       "      <td>150383.0</td>\n",
       "      <td>167825.0</td>\n",
       "    </tr>\n",
       "    <tr>\n",
       "      <th>1</th>\n",
       "      <td>East San Jose</td>\n",
       "      <td>San Jose</td>\n",
       "      <td>CA</td>\n",
       "      <td>556308.0</td>\n",
       "      <td>592142.0</td>\n",
       "      <td>678775.0</td>\n",
       "    </tr>\n",
       "    <tr>\n",
       "      <th>2</th>\n",
       "      <td>Bullard</td>\n",
       "      <td>Fresno</td>\n",
       "      <td>CA</td>\n",
       "      <td>232008.0</td>\n",
       "      <td>243200.0</td>\n",
       "      <td>266000.0</td>\n",
       "    </tr>\n",
       "    <tr>\n",
       "      <th>3</th>\n",
       "      <td>West San Jose</td>\n",
       "      <td>San Jose</td>\n",
       "      <td>CA</td>\n",
       "      <td>1128200.0</td>\n",
       "      <td>1219758.0</td>\n",
       "      <td>1357933.0</td>\n",
       "    </tr>\n",
       "    <tr>\n",
       "      <th>4</th>\n",
       "      <td>Downtown</td>\n",
       "      <td>San Jose</td>\n",
       "      <td>CA</td>\n",
       "      <td>625817.0</td>\n",
       "      <td>677925.0</td>\n",
       "      <td>764142.0</td>\n",
       "    </tr>\n",
       "  </tbody>\n",
       "</table>\n",
       "</div>"
      ],
      "text/plain": [
       "      RegionName      City State  AverageHomeCostOf2015  \\\n",
       "0      Roosevelt    Fresno    CA               141792.0   \n",
       "1  East San Jose  San Jose    CA               556308.0   \n",
       "2        Bullard    Fresno    CA               232008.0   \n",
       "3  West San Jose  San Jose    CA              1128200.0   \n",
       "4       Downtown  San Jose    CA               625817.0   \n",
       "\n",
       "   AverageHomeCostOf2016  AverageHomeCostOf2017  \n",
       "0               150383.0               167825.0  \n",
       "1               592142.0               678775.0  \n",
       "2               243200.0               266000.0  \n",
       "3              1219758.0              1357933.0  \n",
       "4               677925.0               764142.0  "
      ]
     },
     "execution_count": 8,
     "metadata": {},
     "output_type": "execute_result"
    }
   ],
   "source": [
    "AllHomes['AverageHomeCostOf2015'] = AllHomes['AverageHomeCostOf2015'].map('{:.0f}'.format).astype('float', copy =False)\n",
    "AllHomes['AverageHomeCostOf2016'] = AllHomes['AverageHomeCostOf2016'].map('{:.0f}'.format).astype('float', copy =False)\n",
    "AllHomes['AverageHomeCostOf2017'] = AllHomes['AverageHomeCostOf2017'].map('{:.0f}'.format).astype('float', copy =False)\n",
    "Homes_Df = AllHomes.iloc[:,[1,2,3,44,45,46]]\n",
    "Homes_Df.head()"
   ]
  },
  {
   "cell_type": "markdown",
   "metadata": {},
   "source": [
    "###### Calculate the growth rate over years 2015 till 2017"
   ]
  },
  {
   "cell_type": "code",
   "execution_count": null,
   "metadata": {},
   "outputs": [],
   "source": [
    "Homes_Df['GrowthRate'] = (Homes_Df.loc[:,'AverageHomeCostOf2017'].div(Homes_Df.loc[:,'AverageHomeCostOf2015']).pow(1/3.0)-1)"
   ]
  },
  {
   "cell_type": "code",
   "execution_count": 11,
   "metadata": {},
   "outputs": [
    {
     "data": {
      "text/html": [
       "<div>\n",
       "<style>\n",
       "    .dataframe thead tr:only-child th {\n",
       "        text-align: right;\n",
       "    }\n",
       "\n",
       "    .dataframe thead th {\n",
       "        text-align: left;\n",
       "    }\n",
       "\n",
       "    .dataframe tbody tr th {\n",
       "        vertical-align: top;\n",
       "    }\n",
       "</style>\n",
       "<table border=\"1\" class=\"dataframe\">\n",
       "  <thead>\n",
       "    <tr style=\"text-align: right;\">\n",
       "      <th></th>\n",
       "      <th>RegionName</th>\n",
       "      <th>City</th>\n",
       "      <th>State</th>\n",
       "      <th>AverageHomeCostOf2015</th>\n",
       "      <th>AverageHomeCostOf2016</th>\n",
       "      <th>AverageHomeCostOf2017</th>\n",
       "      <th>GrowthRate</th>\n",
       "    </tr>\n",
       "  </thead>\n",
       "  <tbody>\n",
       "    <tr>\n",
       "      <th>0</th>\n",
       "      <td>Roosevelt</td>\n",
       "      <td>Fresno</td>\n",
       "      <td>CA</td>\n",
       "      <td>141792.0</td>\n",
       "      <td>150383.0</td>\n",
       "      <td>167825.0</td>\n",
       "      <td>0.057795</td>\n",
       "    </tr>\n",
       "    <tr>\n",
       "      <th>1</th>\n",
       "      <td>East San Jose</td>\n",
       "      <td>San Jose</td>\n",
       "      <td>CA</td>\n",
       "      <td>556308.0</td>\n",
       "      <td>592142.0</td>\n",
       "      <td>678775.0</td>\n",
       "      <td>0.068571</td>\n",
       "    </tr>\n",
       "    <tr>\n",
       "      <th>2</th>\n",
       "      <td>Bullard</td>\n",
       "      <td>Fresno</td>\n",
       "      <td>CA</td>\n",
       "      <td>232008.0</td>\n",
       "      <td>243200.0</td>\n",
       "      <td>266000.0</td>\n",
       "      <td>0.046629</td>\n",
       "    </tr>\n",
       "    <tr>\n",
       "      <th>3</th>\n",
       "      <td>West San Jose</td>\n",
       "      <td>San Jose</td>\n",
       "      <td>CA</td>\n",
       "      <td>1128200.0</td>\n",
       "      <td>1219758.0</td>\n",
       "      <td>1357933.0</td>\n",
       "      <td>0.063728</td>\n",
       "    </tr>\n",
       "    <tr>\n",
       "      <th>4</th>\n",
       "      <td>Downtown</td>\n",
       "      <td>San Jose</td>\n",
       "      <td>CA</td>\n",
       "      <td>625817.0</td>\n",
       "      <td>677925.0</td>\n",
       "      <td>764142.0</td>\n",
       "      <td>0.068831</td>\n",
       "    </tr>\n",
       "  </tbody>\n",
       "</table>\n",
       "</div>"
      ],
      "text/plain": [
       "      RegionName      City State  AverageHomeCostOf2015  \\\n",
       "0      Roosevelt    Fresno    CA               141792.0   \n",
       "1  East San Jose  San Jose    CA               556308.0   \n",
       "2        Bullard    Fresno    CA               232008.0   \n",
       "3  West San Jose  San Jose    CA              1128200.0   \n",
       "4       Downtown  San Jose    CA               625817.0   \n",
       "\n",
       "   AverageHomeCostOf2016  AverageHomeCostOf2017  GrowthRate  \n",
       "0               150383.0               167825.0    0.057795  \n",
       "1               592142.0               678775.0    0.068571  \n",
       "2               243200.0               266000.0    0.046629  \n",
       "3              1219758.0              1357933.0    0.063728  \n",
       "4               677925.0               764142.0    0.068831  "
      ]
     },
     "execution_count": 11,
     "metadata": {},
     "output_type": "execute_result"
    }
   ],
   "source": [
    "Homes_Df.head()"
   ]
  },
  {
   "cell_type": "markdown",
   "metadata": {},
   "source": [
    "###### Estimating region wise 2018 home prices. \n",
    "###### Formula Used: FV(Future Price)= PV(Present Value)*(1+Growth rate)^Number of years"
   ]
  },
  {
   "cell_type": "code",
   "execution_count": null,
   "metadata": {},
   "outputs": [],
   "source": [
    "Homes_Df['EstimatedHomeCostOf2018']=Homes_Df.iloc[:, -2]*(1+Homes_Df.iloc[:, -1]).pow(1)"
   ]
  },
  {
   "cell_type": "code",
   "execution_count": 16,
   "metadata": {},
   "outputs": [
    {
     "data": {
      "text/html": [
       "<div>\n",
       "<style>\n",
       "    .dataframe thead tr:only-child th {\n",
       "        text-align: right;\n",
       "    }\n",
       "\n",
       "    .dataframe thead th {\n",
       "        text-align: left;\n",
       "    }\n",
       "\n",
       "    .dataframe tbody tr th {\n",
       "        vertical-align: top;\n",
       "    }\n",
       "</style>\n",
       "<table border=\"1\" class=\"dataframe\">\n",
       "  <thead>\n",
       "    <tr style=\"text-align: right;\">\n",
       "      <th></th>\n",
       "      <th>RegionName</th>\n",
       "      <th>City</th>\n",
       "      <th>State</th>\n",
       "      <th>AverageHomeCostOf2015</th>\n",
       "      <th>AverageHomeCostOf2016</th>\n",
       "      <th>AverageHomeCostOf2017</th>\n",
       "      <th>GrowthRate</th>\n",
       "      <th>EstimatedHomeCostOf2018</th>\n",
       "    </tr>\n",
       "  </thead>\n",
       "  <tbody>\n",
       "    <tr>\n",
       "      <th>0</th>\n",
       "      <td>Roosevelt</td>\n",
       "      <td>Fresno</td>\n",
       "      <td>CA</td>\n",
       "      <td>141792.0</td>\n",
       "      <td>150383.0</td>\n",
       "      <td>167825.0</td>\n",
       "      <td>0.057795</td>\n",
       "      <td>1.775245e+05</td>\n",
       "    </tr>\n",
       "    <tr>\n",
       "      <th>1</th>\n",
       "      <td>East San Jose</td>\n",
       "      <td>San Jose</td>\n",
       "      <td>CA</td>\n",
       "      <td>556308.0</td>\n",
       "      <td>592142.0</td>\n",
       "      <td>678775.0</td>\n",
       "      <td>0.068571</td>\n",
       "      <td>7.253195e+05</td>\n",
       "    </tr>\n",
       "    <tr>\n",
       "      <th>2</th>\n",
       "      <td>Bullard</td>\n",
       "      <td>Fresno</td>\n",
       "      <td>CA</td>\n",
       "      <td>232008.0</td>\n",
       "      <td>243200.0</td>\n",
       "      <td>266000.0</td>\n",
       "      <td>0.046629</td>\n",
       "      <td>2.784034e+05</td>\n",
       "    </tr>\n",
       "    <tr>\n",
       "      <th>3</th>\n",
       "      <td>West San Jose</td>\n",
       "      <td>San Jose</td>\n",
       "      <td>CA</td>\n",
       "      <td>1128200.0</td>\n",
       "      <td>1219758.0</td>\n",
       "      <td>1357933.0</td>\n",
       "      <td>0.063728</td>\n",
       "      <td>1.444472e+06</td>\n",
       "    </tr>\n",
       "    <tr>\n",
       "      <th>4</th>\n",
       "      <td>Downtown</td>\n",
       "      <td>San Jose</td>\n",
       "      <td>CA</td>\n",
       "      <td>625817.0</td>\n",
       "      <td>677925.0</td>\n",
       "      <td>764142.0</td>\n",
       "      <td>0.068831</td>\n",
       "      <td>8.167384e+05</td>\n",
       "    </tr>\n",
       "  </tbody>\n",
       "</table>\n",
       "</div>"
      ],
      "text/plain": [
       "      RegionName      City State  AverageHomeCostOf2015  \\\n",
       "0      Roosevelt    Fresno    CA               141792.0   \n",
       "1  East San Jose  San Jose    CA               556308.0   \n",
       "2        Bullard    Fresno    CA               232008.0   \n",
       "3  West San Jose  San Jose    CA              1128200.0   \n",
       "4       Downtown  San Jose    CA               625817.0   \n",
       "\n",
       "   AverageHomeCostOf2016  AverageHomeCostOf2017  GrowthRate  \\\n",
       "0               150383.0               167825.0    0.057795   \n",
       "1               592142.0               678775.0    0.068571   \n",
       "2               243200.0               266000.0    0.046629   \n",
       "3              1219758.0              1357933.0    0.063728   \n",
       "4               677925.0               764142.0    0.068831   \n",
       "\n",
       "   EstimatedHomeCostOf2018  \n",
       "0             1.775245e+05  \n",
       "1             7.253195e+05  \n",
       "2             2.784034e+05  \n",
       "3             1.444472e+06  \n",
       "4             8.167384e+05  "
      ]
     },
     "execution_count": 16,
     "metadata": {},
     "output_type": "execute_result"
    }
   ],
   "source": [
    "Homes_Df.head()"
   ]
  },
  {
   "cell_type": "markdown",
   "metadata": {},
   "source": [
    "###### 10 regions with smallest growth rates and home prices from 2015-2018"
   ]
  },
  {
   "cell_type": "code",
   "execution_count": 17,
   "metadata": {},
   "outputs": [
    {
     "data": {
      "image/png": "[encoded data removed]",
      "text/plain": [
       "<matplotlib.figure.Figure at 0x15440b07240>"
      ]
     },
     "metadata": {},
     "output_type": "display_data"
    }
   ],
   "source": [
    "ProspectiveInvestment=Homes_Df.groupby(['City','RegionName'])['AverageHomeCostOf2015','AverageHomeCostOf2016','AverageHomeCostOf2017', 'EstimatedHomeCostOf2018'].mean()\n",
    "ProspectiveInvestment.nsmallest(10,['AverageHomeCostOf2015','AverageHomeCostOf2016','AverageHomeCostOf2017','EstimatedHomeCostOf2018']).plot(kind='bar', figsize=(10,6));"
   ]
  },
  {
   "cell_type": "markdown",
   "metadata": {},
   "source": [
    "###### Growth Rates per city"
   ]
  },
  {
   "cell_type": "code",
   "execution_count": 18,
   "metadata": {
    "scrolled": true
   },
   "outputs": [
    {
     "data": {
      "image/png": "[encoded data removed]",
      "text/plain": [
       "<matplotlib.figure.Figure at 0x15440dd95f8>"
      ]
     },
     "metadata": {},
     "output_type": "display_data"
    }
   ],
   "source": [
    "OrderedGrowthRates= Homes_Df.groupby('City')['GrowthRate'].mean().sort_values(axis=0, ascending=True).plot(kind='bar');"
   ]
  },
  {
   "cell_type": "code",
   "execution_count": 19,
   "metadata": {},
   "outputs": [
    {
     "data": {
      "text/html": [
       "<div>\n",
       "<style>\n",
       "    .dataframe thead tr:only-child th {\n",
       "        text-align: right;\n",
       "    }\n",
       "\n",
       "    .dataframe thead th {\n",
       "        text-align: left;\n",
       "    }\n",
       "\n",
       "    .dataframe tbody tr th {\n",
       "        vertical-align: top;\n",
       "    }\n",
       "</style>\n",
       "<table border=\"1\" class=\"dataframe\">\n",
       "  <thead>\n",
       "    <tr style=\"text-align: right;\">\n",
       "      <th></th>\n",
       "      <th></th>\n",
       "      <th>min</th>\n",
       "    </tr>\n",
       "    <tr>\n",
       "      <th>City</th>\n",
       "      <th>RegionName</th>\n",
       "      <th></th>\n",
       "    </tr>\n",
       "  </thead>\n",
       "  <tbody>\n",
       "    <tr>\n",
       "      <th rowspan=\"7\" valign=\"top\">San Francisco</th>\n",
       "      <th>South Beach</th>\n",
       "      <td>-0.019646</td>\n",
       "    </tr>\n",
       "    <tr>\n",
       "      <th>Marina</th>\n",
       "      <td>-0.009399</td>\n",
       "    </tr>\n",
       "    <tr>\n",
       "      <th>Pacific Heights</th>\n",
       "      <td>-0.009028</td>\n",
       "    </tr>\n",
       "    <tr>\n",
       "      <th>Yerba Buena</th>\n",
       "      <td>-0.007784</td>\n",
       "    </tr>\n",
       "    <tr>\n",
       "      <th>Financial District</th>\n",
       "      <td>-0.007375</td>\n",
       "    </tr>\n",
       "    <tr>\n",
       "      <th>Cow Hollow</th>\n",
       "      <td>0.001589</td>\n",
       "    </tr>\n",
       "    <tr>\n",
       "      <th>Sea Cliff</th>\n",
       "      <td>0.002682</td>\n",
       "    </tr>\n",
       "    <tr>\n",
       "      <th>Davis</th>\n",
       "      <th>Wildhorse</th>\n",
       "      <td>0.002833</td>\n",
       "    </tr>\n",
       "    <tr>\n",
       "      <th rowspan=\"5\" valign=\"top\">San Francisco</th>\n",
       "      <th>South of Market</th>\n",
       "      <td>0.003124</td>\n",
       "    </tr>\n",
       "    <tr>\n",
       "      <th>Telegraph Hill</th>\n",
       "      <td>0.004865</td>\n",
       "    </tr>\n",
       "    <tr>\n",
       "      <th>Nob Hill</th>\n",
       "      <td>0.006638</td>\n",
       "    </tr>\n",
       "    <tr>\n",
       "      <th>Van Ness - Civic Center</th>\n",
       "      <td>0.007131</td>\n",
       "    </tr>\n",
       "    <tr>\n",
       "      <th>Glen Park</th>\n",
       "      <td>0.008242</td>\n",
       "    </tr>\n",
       "    <tr>\n",
       "      <th>Menlo Park</th>\n",
       "      <th>Downtown Menlo Park</th>\n",
       "      <td>0.010420</td>\n",
       "    </tr>\n",
       "    <tr>\n",
       "      <th>San Francisco</th>\n",
       "      <th>North Waterfront</th>\n",
       "      <td>0.012385</td>\n",
       "    </tr>\n",
       "  </tbody>\n",
       "</table>\n",
       "</div>"
      ],
      "text/plain": [
       "                                            min\n",
       "City          RegionName                       \n",
       "San Francisco South Beach             -0.019646\n",
       "              Marina                  -0.009399\n",
       "              Pacific Heights         -0.009028\n",
       "              Yerba Buena             -0.007784\n",
       "              Financial District      -0.007375\n",
       "              Cow Hollow               0.001589\n",
       "              Sea Cliff                0.002682\n",
       "Davis         Wildhorse                0.002833\n",
       "San Francisco South of Market          0.003124\n",
       "              Telegraph Hill           0.004865\n",
       "              Nob Hill                 0.006638\n",
       "              Van Ness - Civic Center  0.007131\n",
       "              Glen Park                0.008242\n",
       "Menlo Park    Downtown Menlo Park      0.010420\n",
       "San Francisco North Waterfront         0.012385"
      ]
     },
     "execution_count": 19,
     "metadata": {},
     "output_type": "execute_result"
    }
   ],
   "source": [
    "LowGrowthRate=Homes_Df.groupby(['City','RegionName'])['GrowthRate'].agg(['min']).sort_values('min', ascending=True)\n",
    "LowGrowthRate.head(15)"
   ]
  },
  {
   "cell_type": "markdown",
   "metadata": {},
   "source": [
    "Determining the lowest growth rates in Bay Area"
   ]
  },
  {
   "cell_type": "code",
   "execution_count": 86,
   "metadata": {},
   "outputs": [
    {
     "data": {
      "image/png": "[encoded data removed]",
      "text/plain": [
       "<matplotlib.figure.Figure at 0x275393e8b00>"
      ]
     },
     "metadata": {},
     "output_type": "display_data"
    }
   ],
   "source": [
    "LowGrowthRate.nsmallest(10,['min']).plot(kind='bar', figsize=(10,6),stacked=True, colormap='Dark2');\n",
    "plt.title('Lowest growth rate in bay area')\n",
    "# Setting x-axis label\n",
    "plt.xlabel('Region Name')\n",
    "# Setting y-axis label\n",
    "plt.ylabel('Growth rate over three years');"
   ]
  },
  {
   "cell_type": "markdown",
   "metadata": {},
   "source": [
    "As per the bar chart above, San Francisco has declining growth rates. This can be due to competition and threat from new construction as well as due to political issues, prices are declining as stated in the News Source : https://www.paragon-re.com/trend/san-francisco-home-prices-market-trends-news."
   ]
  },
  {
   "cell_type": "markdown",
   "metadata": {},
   "source": [
    "#### Rental Prices"
   ]
  },
  {
   "cell_type": "code",
   "execution_count": 23,
   "metadata": {
    "collapsed": true
   },
   "outputs": [],
   "source": [
    "# Read in the dataset for the average rental price of all home types in each neighborhood\n",
    "RentalPrices = pd.read_csv('Final_Zri.csv')"
   ]
  },
  {
   "cell_type": "markdown",
   "metadata": {},
   "source": [
    "###### Calculate the average rental price each year\n"
   ]
  },
  {
   "cell_type": "code",
   "execution_count": 24,
   "metadata": {
    "collapsed": true
   },
   "outputs": [],
   "source": [
    "RentalPrices['Average RentalPrices of 2015']=(RentalPrices['2015-12']+RentalPrices['2015-11']+RentalPrices['2015-10']+RentalPrices['2015-09']+RentalPrices['2015-08']+RentalPrices['2015-07']+\n",
    "RentalPrices['2015-06']+RentalPrices['2015-05']+RentalPrices['2015-04']+RentalPrices['2015-03']+RentalPrices['2015-02']+RentalPrices['2015-01'])/12\n",
    "RentalPrices['Average RentalPrices of 2016']=(RentalPrices['2016-12']+RentalPrices['2016-11']+RentalPrices['2016-10']+RentalPrices['2016-09']+RentalPrices['2016-08']+RentalPrices['2016-07']+\n",
    "RentalPrices['2016-06']+RentalPrices['2016-05']+RentalPrices['2016-04']+RentalPrices['2016-03']+RentalPrices['2016-02']+RentalPrices['2016-01'])/12\n",
    "RentalPrices['Average RentalPrices of 2017']=(RentalPrices['2017-12']+RentalPrices['2017-11']+RentalPrices['2017-10']+RentalPrices['2017-09']+RentalPrices['2017-08']+RentalPrices['2017-07']+\n",
    "RentalPrices['2017-06']+RentalPrices['2017-05']+RentalPrices['2017-04']+RentalPrices['2017-03']+RentalPrices['2017-02']+RentalPrices['2017-01'])/12"
   ]
  },
  {
   "cell_type": "markdown",
   "metadata": {},
   "source": [
    "###### Slice out useful columns to make new dataset"
   ]
  },
  {
   "cell_type": "code",
   "execution_count": 25,
   "metadata": {},
   "outputs": [
    {
     "data": {
      "text/html": [
       "<div>\n",
       "<style>\n",
       "    .dataframe thead tr:only-child th {\n",
       "        text-align: right;\n",
       "    }\n",
       "\n",
       "    .dataframe thead th {\n",
       "        text-align: left;\n",
       "    }\n",
       "\n",
       "    .dataframe tbody tr th {\n",
       "        vertical-align: top;\n",
       "    }\n",
       "</style>\n",
       "<table border=\"1\" class=\"dataframe\">\n",
       "  <thead>\n",
       "    <tr style=\"text-align: right;\">\n",
       "      <th></th>\n",
       "      <th>RegionName</th>\n",
       "      <th>City</th>\n",
       "      <th>State</th>\n",
       "      <th>Average RentalPrices of 2015</th>\n",
       "      <th>Average RentalPrices of 2016</th>\n",
       "      <th>Average RentalPrices of 2017</th>\n",
       "    </tr>\n",
       "  </thead>\n",
       "  <tbody>\n",
       "    <tr>\n",
       "      <th>0</th>\n",
       "      <td>Roosevelt</td>\n",
       "      <td>Fresno</td>\n",
       "      <td>CA</td>\n",
       "      <td>1038.250000</td>\n",
       "      <td>1083.500000</td>\n",
       "      <td>1125.833333</td>\n",
       "    </tr>\n",
       "    <tr>\n",
       "      <th>1</th>\n",
       "      <td>East San Jose</td>\n",
       "      <td>San Jose</td>\n",
       "      <td>CA</td>\n",
       "      <td>2773.750000</td>\n",
       "      <td>3048.166667</td>\n",
       "      <td>3160.916667</td>\n",
       "    </tr>\n",
       "    <tr>\n",
       "      <th>2</th>\n",
       "      <td>Bullard</td>\n",
       "      <td>Fresno</td>\n",
       "      <td>CA</td>\n",
       "      <td>1356.416667</td>\n",
       "      <td>1385.000000</td>\n",
       "      <td>1424.500000</td>\n",
       "    </tr>\n",
       "    <tr>\n",
       "      <th>3</th>\n",
       "      <td>West San Jose</td>\n",
       "      <td>San Jose</td>\n",
       "      <td>CA</td>\n",
       "      <td>3603.166667</td>\n",
       "      <td>3699.750000</td>\n",
       "      <td>3668.916667</td>\n",
       "    </tr>\n",
       "    <tr>\n",
       "      <th>4</th>\n",
       "      <td>Downtown</td>\n",
       "      <td>San Jose</td>\n",
       "      <td>CA</td>\n",
       "      <td>2941.416667</td>\n",
       "      <td>3147.416667</td>\n",
       "      <td>3161.166667</td>\n",
       "    </tr>\n",
       "  </tbody>\n",
       "</table>\n",
       "</div>"
      ],
      "text/plain": [
       "      RegionName      City State  Average RentalPrices of 2015  \\\n",
       "0      Roosevelt    Fresno    CA                   1038.250000   \n",
       "1  East San Jose  San Jose    CA                   2773.750000   \n",
       "2        Bullard    Fresno    CA                   1356.416667   \n",
       "3  West San Jose  San Jose    CA                   3603.166667   \n",
       "4       Downtown  San Jose    CA                   2941.416667   \n",
       "\n",
       "   Average RentalPrices of 2016  Average RentalPrices of 2017  \n",
       "0                   1083.500000                   1125.833333  \n",
       "1                   3048.166667                   3160.916667  \n",
       "2                   1385.000000                   1424.500000  \n",
       "3                   3699.750000                   3668.916667  \n",
       "4                   3147.416667                   3161.166667  "
      ]
     },
     "execution_count": 25,
     "metadata": {},
     "output_type": "execute_result"
    }
   ],
   "source": [
    "RentalPrices2=RentalPrices.iloc[:,[1,2,3,44,45,46]]\n",
    "RentalPrices2.head()"
   ]
  },
  {
   "cell_type": "markdown",
   "metadata": {},
   "source": [
    "###### Calculate the growth rate over years 2015 till 2017\n"
   ]
  },
  {
   "cell_type": "code",
   "execution_count": null,
   "metadata": {
    "collapsed": true
   },
   "outputs": [],
   "source": [
    "# Calculate the growth rate over years 2015 till 2017\n",
    "RentalPrices2['RentalPricesGrowthRate'] = (RentalPrices2.iloc[:,-1].div(RentalPrices2.iloc[:, 3]))**(1/3.0)-1"
   ]
  },
  {
   "cell_type": "code",
   "execution_count": 28,
   "metadata": {},
   "outputs": [
    {
     "data": {
      "text/html": [
       "<div>\n",
       "<style>\n",
       "    .dataframe thead tr:only-child th {\n",
       "        text-align: right;\n",
       "    }\n",
       "\n",
       "    .dataframe thead th {\n",
       "        text-align: left;\n",
       "    }\n",
       "\n",
       "    .dataframe tbody tr th {\n",
       "        vertical-align: top;\n",
       "    }\n",
       "</style>\n",
       "<table border=\"1\" class=\"dataframe\">\n",
       "  <thead>\n",
       "    <tr style=\"text-align: right;\">\n",
       "      <th></th>\n",
       "      <th>RegionName</th>\n",
       "      <th>City</th>\n",
       "      <th>State</th>\n",
       "      <th>Average RentalPrices of 2015</th>\n",
       "      <th>Average RentalPrices of 2016</th>\n",
       "      <th>Average RentalPrices of 2017</th>\n",
       "      <th>RentalPricesGrowthRate</th>\n",
       "    </tr>\n",
       "  </thead>\n",
       "  <tbody>\n",
       "    <tr>\n",
       "      <th>0</th>\n",
       "      <td>Roosevelt</td>\n",
       "      <td>Fresno</td>\n",
       "      <td>CA</td>\n",
       "      <td>1038.250000</td>\n",
       "      <td>1083.500000</td>\n",
       "      <td>1125.833333</td>\n",
       "      <td>-0.970241</td>\n",
       "    </tr>\n",
       "    <tr>\n",
       "      <th>1</th>\n",
       "      <td>East San Jose</td>\n",
       "      <td>San Jose</td>\n",
       "      <td>CA</td>\n",
       "      <td>2773.750000</td>\n",
       "      <td>3048.166667</td>\n",
       "      <td>3160.916667</td>\n",
       "      <td>-0.974776</td>\n",
       "    </tr>\n",
       "    <tr>\n",
       "      <th>2</th>\n",
       "      <td>Bullard</td>\n",
       "      <td>Fresno</td>\n",
       "      <td>CA</td>\n",
       "      <td>1356.416667</td>\n",
       "      <td>1385.000000</td>\n",
       "      <td>1424.500000</td>\n",
       "      <td>-0.977021</td>\n",
       "    </tr>\n",
       "    <tr>\n",
       "      <th>3</th>\n",
       "      <td>West San Jose</td>\n",
       "      <td>San Jose</td>\n",
       "      <td>CA</td>\n",
       "      <td>3603.166667</td>\n",
       "      <td>3699.750000</td>\n",
       "      <td>3668.916667</td>\n",
       "      <td>-0.988117</td>\n",
       "    </tr>\n",
       "    <tr>\n",
       "      <th>4</th>\n",
       "      <td>Downtown</td>\n",
       "      <td>San Jose</td>\n",
       "      <td>CA</td>\n",
       "      <td>2941.416667</td>\n",
       "      <td>3147.416667</td>\n",
       "      <td>3161.166667</td>\n",
       "      <td>-0.979783</td>\n",
       "    </tr>\n",
       "  </tbody>\n",
       "</table>\n",
       "</div>"
      ],
      "text/plain": [
       "      RegionName      City State  Average RentalPrices of 2015  \\\n",
       "0      Roosevelt    Fresno    CA                   1038.250000   \n",
       "1  East San Jose  San Jose    CA                   2773.750000   \n",
       "2        Bullard    Fresno    CA                   1356.416667   \n",
       "3  West San Jose  San Jose    CA                   3603.166667   \n",
       "4       Downtown  San Jose    CA                   2941.416667   \n",
       "\n",
       "   Average RentalPrices of 2016  Average RentalPrices of 2017  \\\n",
       "0                   1083.500000                   1125.833333   \n",
       "1                   3048.166667                   3160.916667   \n",
       "2                   1385.000000                   1424.500000   \n",
       "3                   3699.750000                   3668.916667   \n",
       "4                   3147.416667                   3161.166667   \n",
       "\n",
       "   RentalPricesGrowthRate  \n",
       "0               -0.970241  \n",
       "1               -0.974776  \n",
       "2               -0.977021  \n",
       "3               -0.988117  \n",
       "4               -0.979783  "
      ]
     },
     "execution_count": 28,
     "metadata": {},
     "output_type": "execute_result"
    }
   ],
   "source": [
    "RentalPrices2.head()"
   ]
  },
  {
   "cell_type": "markdown",
   "metadata": {},
   "source": [
    "###### Estimating 2018 rental price per region.\n",
    "###### Formula used : FV(Future Price)= PV(Present Value)*(1+Growth rate)^Number of years"
   ]
  },
  {
   "cell_type": "code",
   "execution_count": null,
   "metadata": {
    "scrolled": true
   },
   "outputs": [],
   "source": [
    "RentalPrices2['EstimatedRentCostOf2018']=RentalPrices2.iloc[:, -2]*(1+RentalPrices2.iloc[:, -1]).pow(1)"
   ]
  },
  {
   "cell_type": "code",
   "execution_count": 30,
   "metadata": {},
   "outputs": [
    {
     "data": {
      "text/html": [
       "<div>\n",
       "<style>\n",
       "    .dataframe thead tr:only-child th {\n",
       "        text-align: right;\n",
       "    }\n",
       "\n",
       "    .dataframe thead th {\n",
       "        text-align: left;\n",
       "    }\n",
       "\n",
       "    .dataframe tbody tr th {\n",
       "        vertical-align: top;\n",
       "    }\n",
       "</style>\n",
       "<table border=\"1\" class=\"dataframe\">\n",
       "  <thead>\n",
       "    <tr style=\"text-align: right;\">\n",
       "      <th></th>\n",
       "      <th>RegionName</th>\n",
       "      <th>City</th>\n",
       "      <th>State</th>\n",
       "      <th>Average RentalPrices of 2015</th>\n",
       "      <th>Average RentalPrices of 2016</th>\n",
       "      <th>Average RentalPrices of 2017</th>\n",
       "      <th>RentalPricesGrowthRate</th>\n",
       "      <th>EstimatedRentCostOf2018</th>\n",
       "    </tr>\n",
       "  </thead>\n",
       "  <tbody>\n",
       "    <tr>\n",
       "      <th>0</th>\n",
       "      <td>Roosevelt</td>\n",
       "      <td>Fresno</td>\n",
       "      <td>CA</td>\n",
       "      <td>1038.250000</td>\n",
       "      <td>1083.500000</td>\n",
       "      <td>1125.833333</td>\n",
       "      <td>-0.970241</td>\n",
       "      <td>33.503977</td>\n",
       "    </tr>\n",
       "    <tr>\n",
       "      <th>1</th>\n",
       "      <td>East San Jose</td>\n",
       "      <td>San Jose</td>\n",
       "      <td>CA</td>\n",
       "      <td>2773.750000</td>\n",
       "      <td>3048.166667</td>\n",
       "      <td>3160.916667</td>\n",
       "      <td>-0.974776</td>\n",
       "      <td>79.731598</td>\n",
       "    </tr>\n",
       "    <tr>\n",
       "      <th>2</th>\n",
       "      <td>Bullard</td>\n",
       "      <td>Fresno</td>\n",
       "      <td>CA</td>\n",
       "      <td>1356.416667</td>\n",
       "      <td>1385.000000</td>\n",
       "      <td>1424.500000</td>\n",
       "      <td>-0.977021</td>\n",
       "      <td>32.733877</td>\n",
       "    </tr>\n",
       "    <tr>\n",
       "      <th>3</th>\n",
       "      <td>West San Jose</td>\n",
       "      <td>San Jose</td>\n",
       "      <td>CA</td>\n",
       "      <td>3603.166667</td>\n",
       "      <td>3699.750000</td>\n",
       "      <td>3668.916667</td>\n",
       "      <td>-0.988117</td>\n",
       "      <td>43.597885</td>\n",
       "    </tr>\n",
       "    <tr>\n",
       "      <th>4</th>\n",
       "      <td>Downtown</td>\n",
       "      <td>San Jose</td>\n",
       "      <td>CA</td>\n",
       "      <td>2941.416667</td>\n",
       "      <td>3147.416667</td>\n",
       "      <td>3161.166667</td>\n",
       "      <td>-0.979783</td>\n",
       "      <td>63.910809</td>\n",
       "    </tr>\n",
       "  </tbody>\n",
       "</table>\n",
       "</div>"
      ],
      "text/plain": [
       "      RegionName      City State  Average RentalPrices of 2015  \\\n",
       "0      Roosevelt    Fresno    CA                   1038.250000   \n",
       "1  East San Jose  San Jose    CA                   2773.750000   \n",
       "2        Bullard    Fresno    CA                   1356.416667   \n",
       "3  West San Jose  San Jose    CA                   3603.166667   \n",
       "4       Downtown  San Jose    CA                   2941.416667   \n",
       "\n",
       "   Average RentalPrices of 2016  Average RentalPrices of 2017  \\\n",
       "0                   1083.500000                   1125.833333   \n",
       "1                   3048.166667                   3160.916667   \n",
       "2                   1385.000000                   1424.500000   \n",
       "3                   3699.750000                   3668.916667   \n",
       "4                   3147.416667                   3161.166667   \n",
       "\n",
       "   RentalPricesGrowthRate  EstimatedRentCostOf2018  \n",
       "0               -0.970241                33.503977  \n",
       "1               -0.974776                79.731598  \n",
       "2               -0.977021                32.733877  \n",
       "3               -0.988117                43.597885  \n",
       "4               -0.979783                63.910809  "
      ]
     },
     "execution_count": 30,
     "metadata": {},
     "output_type": "execute_result"
    }
   ],
   "source": [
    "RentalPrices2.head()"
   ]
  },
  {
   "cell_type": "markdown",
   "metadata": {},
   "source": [
    "###### Top 10 regions with smallest growth rates in rental prices\n"
   ]
  },
  {
   "cell_type": "code",
   "execution_count": 68,
   "metadata": {},
   "outputs": [
    {
     "data": {
      "image/png": "[encoded data removed]",
      "text/plain": [
       "<matplotlib.figure.Figure at 0x27539461390>"
      ]
     },
     "metadata": {},
     "output_type": "display_data"
    }
   ],
   "source": [
    "Rent_Trend=RentalPrices2.groupby(['City','RegionName'])['Average RentalPrices of 2015','Average RentalPrices of 2016','Average RentalPrices of 2017','EstimatedRentCostOf2018'].mean();\n",
    "Rent_Trend.nsmallest(10,['Average RentalPrices of 2015','Average RentalPrices of 2016','Average RentalPrices of 2017','EstimatedRentCostOf2018']).plot(kind='bar', figsize=(10,6));"
   ]
  },
  {
   "cell_type": "markdown",
   "metadata": {},
   "source": [
    "###### Growth Rates region wise"
   ]
  },
  {
   "cell_type": "code",
   "execution_count": 31,
   "metadata": {
    "scrolled": false
   },
   "outputs": [
    {
     "data": {
      "image/png": "[encoded data removed]",
      "text/plain": [
       "<matplotlib.figure.Figure at 0x1543d307b70>"
      ]
     },
     "metadata": {},
     "output_type": "display_data"
    }
   ],
   "source": [
    "OrderedRentalData= RentalPrices2.groupby('City')['RentalPricesGrowthRate'].mean().sort_values(axis=0, ascending=True).plot(kind='bar');"
   ]
  },
  {
   "cell_type": "code",
   "execution_count": 35,
   "metadata": {},
   "outputs": [
    {
     "data": {
      "image/png": "[encoded data removed]",
      "text/plain": [
       "<matplotlib.figure.Figure at 0x15440da9278>"
      ]
     },
     "metadata": {},
     "output_type": "display_data"
    }
   ],
   "source": [
    "LWGrowthRate=RentalPrices2.groupby(['City','RegionName'])['RentalPricesGrowthRate'].agg(['min']).sort_values('min', ascending=True)\n",
    "LWGrowthRate.nsmallest(10,['min']).plot(kind='bar', figsize=(10,6),stacked=True, colormap='Dark2');\n",
    "plt.title('Lowest growth rate in bay area')\n",
    "# Setting x-axis label\n",
    "plt.xlabel('Region Name')\n",
    "# Setting y-axis label\n",
    "plt.ylabel('Growth rate over three years');"
   ]
  },
  {
   "cell_type": "markdown",
   "metadata": {},
   "source": [
    "###### Correlation between growth rate of House values and Rental Prices"
   ]
  },
  {
   "cell_type": "code",
   "execution_count": 37,
   "metadata": {
    "scrolled": false
   },
   "outputs": [],
   "source": [
    "GrowthRateDFAllHomes=Homes_Df.iloc[:,[0,1,6]]\n",
    "GrowthRateDFRentalPrices=RentalPrices2.iloc[:,[0,1,6]]"
   ]
  },
  {
   "cell_type": "code",
   "execution_count": 38,
   "metadata": {
    "scrolled": true
   },
   "outputs": [
    {
     "data": {
      "text/html": [
       "<div>\n",
       "<style>\n",
       "    .dataframe thead tr:only-child th {\n",
       "        text-align: right;\n",
       "    }\n",
       "\n",
       "    .dataframe thead th {\n",
       "        text-align: left;\n",
       "    }\n",
       "\n",
       "    .dataframe tbody tr th {\n",
       "        vertical-align: top;\n",
       "    }\n",
       "</style>\n",
       "<table border=\"1\" class=\"dataframe\">\n",
       "  <thead>\n",
       "    <tr style=\"text-align: right;\">\n",
       "      <th></th>\n",
       "      <th>RegionName</th>\n",
       "      <th>City</th>\n",
       "      <th>GrowthRate</th>\n",
       "      <th>RentalPricesGrowthRate</th>\n",
       "    </tr>\n",
       "  </thead>\n",
       "  <tbody>\n",
       "    <tr>\n",
       "      <th>0</th>\n",
       "      <td>Roosevelt</td>\n",
       "      <td>Fresno</td>\n",
       "      <td>0.057795</td>\n",
       "      <td>-0.970241</td>\n",
       "    </tr>\n",
       "    <tr>\n",
       "      <th>1</th>\n",
       "      <td>East San Jose</td>\n",
       "      <td>San Jose</td>\n",
       "      <td>0.068571</td>\n",
       "      <td>-0.974776</td>\n",
       "    </tr>\n",
       "    <tr>\n",
       "      <th>2</th>\n",
       "      <td>Bullard</td>\n",
       "      <td>Fresno</td>\n",
       "      <td>0.046629</td>\n",
       "      <td>-0.977021</td>\n",
       "    </tr>\n",
       "    <tr>\n",
       "      <th>3</th>\n",
       "      <td>West San Jose</td>\n",
       "      <td>San Jose</td>\n",
       "      <td>0.063728</td>\n",
       "      <td>-0.988117</td>\n",
       "    </tr>\n",
       "    <tr>\n",
       "      <th>4</th>\n",
       "      <td>Downtown</td>\n",
       "      <td>San Jose</td>\n",
       "      <td>0.068831</td>\n",
       "      <td>-0.979783</td>\n",
       "    </tr>\n",
       "  </tbody>\n",
       "</table>\n",
       "</div>"
      ],
      "text/plain": [
       "      RegionName      City  GrowthRate  RentalPricesGrowthRate\n",
       "0      Roosevelt    Fresno    0.057795               -0.970241\n",
       "1  East San Jose  San Jose    0.068571               -0.974776\n",
       "2        Bullard    Fresno    0.046629               -0.977021\n",
       "3  West San Jose  San Jose    0.063728               -0.988117\n",
       "4       Downtown  San Jose    0.068831               -0.979783"
      ]
     },
     "execution_count": 38,
     "metadata": {},
     "output_type": "execute_result"
    }
   ],
   "source": [
    "JointGrowthRate=GrowthRateDFAllHomes.merge(GrowthRateDFRentalPrices, how='inner')\n",
    "JointGrowthRate.head()"
   ]
  },
  {
   "cell_type": "code",
   "execution_count": 39,
   "metadata": {
    "scrolled": true
   },
   "outputs": [
    {
     "data": {
      "image/png": "[encoded data removed]",
      "text/plain": [
       "<matplotlib.figure.Figure at 0x1544107d198>"
      ]
     },
     "metadata": {},
     "output_type": "display_data"
    }
   ],
   "source": [
    "sn.jointplot(x='GrowthRate', y='RentalPricesGrowthRate', data=JointGrowthRate, kind=\"reg\");"
   ]
  },
  {
   "cell_type": "markdown",
   "metadata": {},
   "source": [
    "From graph above we can find the home value growth rate and rental prices growth rate are highly co-related "
   ]
  },
  {
   "cell_type": "markdown",
   "metadata": {},
   "source": [
    "#### Reference links:\n",
    "#### https://www.mercurynews.com/2017/12/03/home-prices-nearly-doubled-in-this-surprising-california-city/\n",
    "\n",
    "#### https://www.mercurynews.com/2017/12/03/home-prices-nearly-doubled-in-this-surprising-california-city/\n",
    "\n",
    "#### http://abc7news.com/business/amazon-narrows-list-for-new-headquarters-edging-out-silicon-valley/2963126/\n",
    "\n",
    "#### http://www.sacbee.com/news/local/news-columns-blogs/city-beat/article198192614.html\n"
   ]
  },
  {
   "cell_type": "markdown",
   "metadata": {},
   "source": [
    "### 3 Bedroom Houses are Preferred more in Bay Area (according to Demand and Home Value)"
   ]
  },
  {
   "cell_type": "markdown",
   "metadata": {},
   "source": [
    "Reading Bedroom data for the average home value of all home types in each neighborhood "
   ]
  },
  {
   "cell_type": "code",
   "execution_count": 97,
   "metadata": {
    "scrolled": true
   },
   "outputs": [
    {
     "data": {
      "text/html": [
       "<div>\n",
       "<style>\n",
       "    .dataframe thead tr:only-child th {\n",
       "        text-align: right;\n",
       "    }\n",
       "\n",
       "    .dataframe thead th {\n",
       "        text-align: left;\n",
       "    }\n",
       "\n",
       "    .dataframe tbody tr th {\n",
       "        vertical-align: top;\n",
       "    }\n",
       "</style>\n",
       "<table border=\"1\" class=\"dataframe\">\n",
       "  <thead>\n",
       "    <tr style=\"text-align: right;\">\n",
       "      <th></th>\n",
       "      <th>RegionID</th>\n",
       "      <th>RegionName</th>\n",
       "      <th>City</th>\n",
       "      <th>State</th>\n",
       "      <th>Metro</th>\n",
       "      <th>CountyName</th>\n",
       "      <th>No of bedrooms</th>\n",
       "      <th>2015-01</th>\n",
       "      <th>2015-02</th>\n",
       "      <th>2015-03</th>\n",
       "      <th>...</th>\n",
       "      <th>2017-04</th>\n",
       "      <th>2017-05</th>\n",
       "      <th>2017-06</th>\n",
       "      <th>2017-07</th>\n",
       "      <th>2017-08</th>\n",
       "      <th>2017-09</th>\n",
       "      <th>2017-10</th>\n",
       "      <th>2017-11</th>\n",
       "      <th>2017-12</th>\n",
       "      <th>2018-01</th>\n",
       "    </tr>\n",
       "  </thead>\n",
       "  <tbody>\n",
       "    <tr>\n",
       "      <th>0</th>\n",
       "      <td>275237</td>\n",
       "      <td>Roosevelt</td>\n",
       "      <td>Fresno</td>\n",
       "      <td>CA</td>\n",
       "      <td>Fresno</td>\n",
       "      <td>Fresno</td>\n",
       "      <td>1</td>\n",
       "      <td>56500</td>\n",
       "      <td>57400</td>\n",
       "      <td>58000</td>\n",
       "      <td>...</td>\n",
       "      <td>62800</td>\n",
       "      <td>63500</td>\n",
       "      <td>64300</td>\n",
       "      <td>66800</td>\n",
       "      <td>69900</td>\n",
       "      <td>71400</td>\n",
       "      <td>72300</td>\n",
       "      <td>74700</td>\n",
       "      <td>77200</td>\n",
       "      <td>78400</td>\n",
       "    </tr>\n",
       "    <tr>\n",
       "      <th>1</th>\n",
       "      <td>273088</td>\n",
       "      <td>Bullard</td>\n",
       "      <td>Fresno</td>\n",
       "      <td>CA</td>\n",
       "      <td>Fresno</td>\n",
       "      <td>Fresno</td>\n",
       "      <td>1</td>\n",
       "      <td>86500</td>\n",
       "      <td>86100</td>\n",
       "      <td>86100</td>\n",
       "      <td>...</td>\n",
       "      <td>92600</td>\n",
       "      <td>92600</td>\n",
       "      <td>94400</td>\n",
       "      <td>97900</td>\n",
       "      <td>99800</td>\n",
       "      <td>102600</td>\n",
       "      <td>106500</td>\n",
       "      <td>110100</td>\n",
       "      <td>110900</td>\n",
       "      <td>110400</td>\n",
       "    </tr>\n",
       "    <tr>\n",
       "      <th>2</th>\n",
       "      <td>276652</td>\n",
       "      <td>West San Jose</td>\n",
       "      <td>San Jose</td>\n",
       "      <td>CA</td>\n",
       "      <td>San Jose</td>\n",
       "      <td>Santa Clara</td>\n",
       "      <td>1</td>\n",
       "      <td>434000</td>\n",
       "      <td>442500</td>\n",
       "      <td>451800</td>\n",
       "      <td>...</td>\n",
       "      <td>611800</td>\n",
       "      <td>611500</td>\n",
       "      <td>607800</td>\n",
       "      <td>607000</td>\n",
       "      <td>610000</td>\n",
       "      <td>611700</td>\n",
       "      <td>621700</td>\n",
       "      <td>641000</td>\n",
       "      <td>654400</td>\n",
       "      <td>659400</td>\n",
       "    </tr>\n",
       "    <tr>\n",
       "      <th>3</th>\n",
       "      <td>273480</td>\n",
       "      <td>Downtown</td>\n",
       "      <td>San Jose</td>\n",
       "      <td>CA</td>\n",
       "      <td>San Jose</td>\n",
       "      <td>Santa Clara</td>\n",
       "      <td>1</td>\n",
       "      <td>474900</td>\n",
       "      <td>477900</td>\n",
       "      <td>481800</td>\n",
       "      <td>...</td>\n",
       "      <td>617300</td>\n",
       "      <td>622600</td>\n",
       "      <td>628100</td>\n",
       "      <td>632800</td>\n",
       "      <td>638000</td>\n",
       "      <td>647800</td>\n",
       "      <td>663000</td>\n",
       "      <td>679400</td>\n",
       "      <td>693500</td>\n",
       "      <td>701700</td>\n",
       "    </tr>\n",
       "    <tr>\n",
       "      <th>4</th>\n",
       "      <td>274756</td>\n",
       "      <td>North Valley</td>\n",
       "      <td>San Jose</td>\n",
       "      <td>CA</td>\n",
       "      <td>San Jose</td>\n",
       "      <td>Santa Clara</td>\n",
       "      <td>1</td>\n",
       "      <td>355000</td>\n",
       "      <td>357800</td>\n",
       "      <td>359300</td>\n",
       "      <td>...</td>\n",
       "      <td>463600</td>\n",
       "      <td>455800</td>\n",
       "      <td>449800</td>\n",
       "      <td>449500</td>\n",
       "      <td>454400</td>\n",
       "      <td>461000</td>\n",
       "      <td>470200</td>\n",
       "      <td>483200</td>\n",
       "      <td>498500</td>\n",
       "      <td>509600</td>\n",
       "    </tr>\n",
       "  </tbody>\n",
       "</table>\n",
       "<p>5 rows × 44 columns</p>\n",
       "</div>"
      ],
      "text/plain": [
       "   RegionID     RegionName      City State     Metro   CountyName  \\\n",
       "0    275237      Roosevelt    Fresno    CA    Fresno       Fresno   \n",
       "1    273088        Bullard    Fresno    CA    Fresno       Fresno   \n",
       "2    276652  West San Jose  San Jose    CA  San Jose  Santa Clara   \n",
       "3    273480       Downtown  San Jose    CA  San Jose  Santa Clara   \n",
       "4    274756   North Valley  San Jose    CA  San Jose  Santa Clara   \n",
       "\n",
       "   No of bedrooms  2015-01  2015-02  2015-03   ...     2017-04  2017-05  \\\n",
       "0               1    56500    57400    58000   ...       62800    63500   \n",
       "1               1    86500    86100    86100   ...       92600    92600   \n",
       "2               1   434000   442500   451800   ...      611800   611500   \n",
       "3               1   474900   477900   481800   ...      617300   622600   \n",
       "4               1   355000   357800   359300   ...      463600   455800   \n",
       "\n",
       "   2017-06  2017-07  2017-08  2017-09  2017-10  2017-11  2017-12  2018-01  \n",
       "0    64300    66800    69900    71400    72300    74700    77200    78400  \n",
       "1    94400    97900    99800   102600   106500   110100   110900   110400  \n",
       "2   607800   607000   610000   611700   621700   641000   654400   659400  \n",
       "3   628100   632800   638000   647800   663000   679400   693500   701700  \n",
       "4   449800   449500   454400   461000   470200   483200   498500   509600  \n",
       "\n",
       "[5 rows x 44 columns]"
      ]
     },
     "execution_count": 97,
     "metadata": {},
     "output_type": "execute_result"
    }
   ],
   "source": [
    "Bedroom_Data= pd.read_csv(\"Bedroom_Data_Final.csv\")\n",
    "Bedroom_Data.head()"
   ]
  },
  {
   "cell_type": "markdown",
   "metadata": {},
   "source": [
    "###### Find the yearly average home value for all regions and for all bedroom types (2015, 2016 and 2017).\n"
   ]
  },
  {
   "cell_type": "code",
   "execution_count": 98,
   "metadata": {
    "collapsed": true
   },
   "outputs": [],
   "source": [
    "Bedroom_Data['Average value of 2015']= (Bedroom_Data['2015-12']+Bedroom_Data['2015-11']+Bedroom_Data['2015-10']+Bedroom_Data['2015-09']+Bedroom_Data['2015-08']+Bedroom_Data['2015-07']+\n",
    "Bedroom_Data['2015-06']+Bedroom_Data['2015-05']+Bedroom_Data['2015-04']+Bedroom_Data['2015-03']+Bedroom_Data['2015-02']+Bedroom_Data['2015-01'])/12\n",
    "Bedroom_Data['Average value of 2016']=(Bedroom_Data['2016-12']+Bedroom_Data['2016-11']+Bedroom_Data['2016-10']+Bedroom_Data['2016-09']+Bedroom_Data['2016-08']+Bedroom_Data['2016-07']+\n",
    "Bedroom_Data['2015-06']+Bedroom_Data['2016-05']+Bedroom_Data['2016-04']+Bedroom_Data['2016-03']+Bedroom_Data['2016-02']+Bedroom_Data['2016-01'])/12\n",
    "Bedroom_Data['Average value of 2017']=(Bedroom_Data['2017-12']+Bedroom_Data['2017-11']+Bedroom_Data['2017-10']+Bedroom_Data['2017-09']+Bedroom_Data['2017-08']+Bedroom_Data['2017-07']+\n",
    "Bedroom_Data['2017-06']+Bedroom_Data['2017-05']+Bedroom_Data['2017-04']+Bedroom_Data['2017-03']+Bedroom_Data['2017-02']+Bedroom_Data['2017-01'])/12"
   ]
  },
  {
   "cell_type": "markdown",
   "metadata": {},
   "source": [
    "###### Format Data"
   ]
  },
  {
   "cell_type": "code",
   "execution_count": 99,
   "metadata": {
    "collapsed": true
   },
   "outputs": [],
   "source": [
    "Bedroom_Data['Average value of 2015'] = Bedroom_Data['Average value of 2015'].map('{:.0f}'.format).astype('float', copy =False)\n",
    "Bedroom_Data['Average value of 2016'] = Bedroom_Data['Average value of 2016'].map('{:.0f}'.format).astype('float', copy =False)\n",
    "Bedroom_Data['Average value of 2017'] = Bedroom_Data['Average value of 2017'].map('{:.0f}'.format).astype('float', copy =False)"
   ]
  },
  {
   "cell_type": "markdown",
   "metadata": {},
   "source": [
    "###### Slice out only columns in need"
   ]
  },
  {
   "cell_type": "code",
   "execution_count": 101,
   "metadata": {},
   "outputs": [
    {
     "data": {
      "text/html": [
       "<div>\n",
       "<style>\n",
       "    .dataframe thead tr:only-child th {\n",
       "        text-align: right;\n",
       "    }\n",
       "\n",
       "    .dataframe thead th {\n",
       "        text-align: left;\n",
       "    }\n",
       "\n",
       "    .dataframe tbody tr th {\n",
       "        vertical-align: top;\n",
       "    }\n",
       "</style>\n",
       "<table border=\"1\" class=\"dataframe\">\n",
       "  <thead>\n",
       "    <tr style=\"text-align: right;\">\n",
       "      <th></th>\n",
       "      <th>RegionName</th>\n",
       "      <th>City</th>\n",
       "      <th>State</th>\n",
       "      <th>Metro</th>\n",
       "      <th>CountyName</th>\n",
       "      <th>No of bedrooms</th>\n",
       "      <th>Average value of 2015</th>\n",
       "      <th>Average value of 2016</th>\n",
       "      <th>Average value of 2017</th>\n",
       "    </tr>\n",
       "  </thead>\n",
       "  <tbody>\n",
       "    <tr>\n",
       "      <th>0</th>\n",
       "      <td>Roosevelt</td>\n",
       "      <td>Fresno</td>\n",
       "      <td>CA</td>\n",
       "      <td>Fresno</td>\n",
       "      <td>Fresno</td>\n",
       "      <td>1</td>\n",
       "      <td>57325.0</td>\n",
       "      <td>60067.0</td>\n",
       "      <td>67842.0</td>\n",
       "    </tr>\n",
       "    <tr>\n",
       "      <th>1</th>\n",
       "      <td>Bullard</td>\n",
       "      <td>Fresno</td>\n",
       "      <td>CA</td>\n",
       "      <td>Fresno</td>\n",
       "      <td>Fresno</td>\n",
       "      <td>1</td>\n",
       "      <td>87025.0</td>\n",
       "      <td>90392.0</td>\n",
       "      <td>98500.0</td>\n",
       "    </tr>\n",
       "    <tr>\n",
       "      <th>2</th>\n",
       "      <td>West San Jose</td>\n",
       "      <td>San Jose</td>\n",
       "      <td>CA</td>\n",
       "      <td>San Jose</td>\n",
       "      <td>Santa Clara</td>\n",
       "      <td>1</td>\n",
       "      <td>475158.0</td>\n",
       "      <td>532233.0</td>\n",
       "      <td>615500.0</td>\n",
       "    </tr>\n",
       "    <tr>\n",
       "      <th>3</th>\n",
       "      <td>Downtown</td>\n",
       "      <td>San Jose</td>\n",
       "      <td>CA</td>\n",
       "      <td>San Jose</td>\n",
       "      <td>Santa Clara</td>\n",
       "      <td>1</td>\n",
       "      <td>503967.0</td>\n",
       "      <td>558858.0</td>\n",
       "      <td>636800.0</td>\n",
       "    </tr>\n",
       "    <tr>\n",
       "      <th>4</th>\n",
       "      <td>North Valley</td>\n",
       "      <td>San Jose</td>\n",
       "      <td>CA</td>\n",
       "      <td>San Jose</td>\n",
       "      <td>Santa Clara</td>\n",
       "      <td>1</td>\n",
       "      <td>389017.0</td>\n",
       "      <td>442417.0</td>\n",
       "      <td>467942.0</td>\n",
       "    </tr>\n",
       "  </tbody>\n",
       "</table>\n",
       "</div>"
      ],
      "text/plain": [
       "      RegionName      City State     Metro   CountyName  No of bedrooms  \\\n",
       "0      Roosevelt    Fresno    CA    Fresno       Fresno               1   \n",
       "1        Bullard    Fresno    CA    Fresno       Fresno               1   \n",
       "2  West San Jose  San Jose    CA  San Jose  Santa Clara               1   \n",
       "3       Downtown  San Jose    CA  San Jose  Santa Clara               1   \n",
       "4   North Valley  San Jose    CA  San Jose  Santa Clara               1   \n",
       "\n",
       "   Average value of 2015  Average value of 2016  Average value of 2017  \n",
       "0                57325.0                60067.0                67842.0  \n",
       "1                87025.0                90392.0                98500.0  \n",
       "2               475158.0               532233.0               615500.0  \n",
       "3               503967.0               558858.0               636800.0  \n",
       "4               389017.0               442417.0               467942.0  "
      ]
     },
     "execution_count": 101,
     "metadata": {},
     "output_type": "execute_result"
    }
   ],
   "source": [
    "bd = Bedroom_Data.iloc[:,[1,2,3,4,5,6,44,45,46]]\n",
    "bd.head()"
   ]
  },
  {
   "cell_type": "markdown",
   "metadata": {},
   "source": [
    "###### Plot the dataset on the bar graph to visualize the market demand for 'number of bedrooms' based on the sale in last three years"
   ]
  },
  {
   "cell_type": "code",
   "execution_count": 102,
   "metadata": {},
   "outputs": [
    {
     "data": {
      "image/png": "[encoded data removed]",
      "text/plain": [
       "<matplotlib.figure.Figure at 0x2753999b978>"
      ]
     },
     "metadata": {},
     "output_type": "display_data"
    }
   ],
   "source": [
    "bd['No of bedrooms'].value_counts().plot(kind = 'bar')\n",
    "plt.title('Count vs Bedroom Houses')\n",
    "plt.xlabel('Bedrooms')\n",
    "plt.ylabel('Count')\n",
    "sn.despine;"
   ]
  },
  {
   "cell_type": "markdown",
   "metadata": {},
   "source": [
    "From graph above we can find that demand for 3 bedroom houses is the highest as the house sale with three bedrooms is highest, followed by 2 bedrooms and 4 and 1."
   ]
  },
  {
   "cell_type": "markdown",
   "metadata": {},
   "source": [
    "###### Plot the box plots to understand how prices influence the decision of 'how many rooms are necessary' for buying a house\n"
   ]
  },
  {
   "cell_type": "code",
   "execution_count": 104,
   "metadata": {},
   "outputs": [
    {
     "data": {
      "image/png": "[encoded data removed]",
      "text/plain": [
       "<matplotlib.figure.Figure at 0x27539ba8cc0>"
      ]
     },
     "metadata": {},
     "output_type": "display_data"
    }
   ],
   "source": [
    "var = 'No of bedrooms'\n",
    "data = pd.concat([bd['Average value of 2015'], bd[var]], axis=1)\n",
    "f, ax = plt.subplots()\n",
    "fig = sn.boxplot(x=var, y=\"Average value of 2015\", data=bd)\n",
    "fig.axis(ymin=0, ymax=4512825);"
   ]
  },
  {
   "cell_type": "code",
   "execution_count": 105,
   "metadata": {},
   "outputs": [
    {
     "data": {
      "image/png": "[encoded data removed]",
      "text/plain": [
       "<matplotlib.figure.Figure at 0x27538787908>"
      ]
     },
     "metadata": {},
     "output_type": "display_data"
    }
   ],
   "source": [
    "var = 'No of bedrooms'\n",
    "data = pd.concat([bd['Average value of 2016'], bd[var]], axis=1)\n",
    "f, ax = plt.subplots()\n",
    "fig = sn.boxplot(x=var, y=\"Average value of 2016\", data=bd)\n",
    "fig.axis(ymin=0, ymax=4512825);"
   ]
  },
  {
   "cell_type": "code",
   "execution_count": 106,
   "metadata": {},
   "outputs": [
    {
     "data": {
      "image/png": "[encoded data removed]",
      "text/plain": [
       "<matplotlib.figure.Figure at 0x27539c33cc0>"
      ]
     },
     "metadata": {},
     "output_type": "display_data"
    }
   ],
   "source": [
    "var = 'No of bedrooms'\n",
    "data = pd.concat([bd['Average value of 2017'], bd[var]], axis=1)\n",
    "f, ax = plt.subplots()\n",
    "fig = sn.boxplot(x=var, y=\"Average value of 2017\", data=bd)\n",
    "fig.axis(ymin=0, ymax=4512825);"
   ]
  },
  {
   "cell_type": "markdown",
   "metadata": {},
   "source": [
    "Box plots shows the distribution of a group, here in case of data for 'number of bedrooms vs average selling prices of particular region'.There is considerable difference in price differences between prices for 1-2 bedrooms and 3 to 4 bedroom houses. Also the upper whiskers for all type of number of bedrooms are higher than lower whiskers that shows the inclinations towards higher ends. People are paying more prices than median  price for one and two bedroom houses. "
   ]
  },
  {
   "cell_type": "markdown",
   "metadata": {},
   "source": [
    "###### Normalizing the Average price of 2017 and performing ranksum test"
   ]
  },
  {
   "cell_type": "code",
   "execution_count": null,
   "metadata": {
    "scrolled": true
   },
   "outputs": [],
   "source": [
    "bd['nrml_data']=bd.groupby('No of bedrooms')['Average value of 2017'].apply(lambda x: (x - x.mean())).map('{:f}'.format).astype('float')"
   ]
  },
  {
   "cell_type": "markdown",
   "metadata": {},
   "source": [
    "###### Ranksum Test"
   ]
  },
  {
   "cell_type": "code",
   "execution_count": 108,
   "metadata": {},
   "outputs": [
    {
     "data": {
      "text/plain": [
       "F_onewayResult(statistic=1.0509607137813656e-23, pvalue=1.0)"
      ]
     },
     "execution_count": 108,
     "metadata": {},
     "output_type": "execute_result"
    },
    {
     "data": {
      "text/plain": [
       "RanksumsResult(statistic=0.91874828528261632, pvalue=0.35822724765008973)"
      ]
     },
     "execution_count": 108,
     "metadata": {},
     "output_type": "execute_result"
    },
    {
     "data": {
      "text/plain": [
       "RanksumsResult(statistic=1.8285732818213336, pvalue=0.067463558285806732)"
      ]
     },
     "execution_count": 108,
     "metadata": {},
     "output_type": "execute_result"
    },
    {
     "data": {
      "text/plain": [
       "RanksumsResult(statistic=2.8627628915193069, pvalue=0.0041996470733828605)"
      ]
     },
     "execution_count": 108,
     "metadata": {},
     "output_type": "execute_result"
    },
    {
     "data": {
      "text/plain": [
       "RanksumsResult(statistic=2.557994651221819, pvalue=0.010527771154933049)"
      ]
     },
     "execution_count": 108,
     "metadata": {},
     "output_type": "execute_result"
    },
    {
     "data": {
      "text/plain": [
       "RanksumsResult(statistic=3.750792938933087, pvalue=0.00017627622730564401)"
      ]
     },
     "execution_count": 108,
     "metadata": {},
     "output_type": "execute_result"
    },
    {
     "data": {
      "text/plain": [
       "RanksumsResult(statistic=2.4842806622710838, pvalue=0.012981345075827837)"
      ]
     },
     "execution_count": 108,
     "metadata": {},
     "output_type": "execute_result"
    }
   ],
   "source": [
    "from scipy.stats import f_oneway, ranksums\n",
    "f_first = bd[(bd['No of bedrooms']==1)]['nrml_data']\n",
    "f_second = bd[(bd['No of bedrooms']==2)]['nrml_data']\n",
    "f_third = bd[(bd['No of bedrooms']==3)]['nrml_data']\n",
    "f_fourth = bd[(bd['No of bedrooms']==4)]['nrml_data']\n",
    "\n",
    "f_oneway(f_first, f_second, f_third,f_fourth)\n",
    "\n",
    "ranksums(f_first, f_second)\n",
    "ranksums(f_first, f_third)\n",
    "ranksums(f_first, f_fourth)\n",
    "ranksums(f_second, f_third)\n",
    "ranksums(f_second, f_fourth)\n",
    "ranksums(f_third, f_fourth)"
   ]
  },
  {
   "cell_type": "markdown",
   "metadata": {},
   "source": [
    "Here we are using ranksum test to find if the prices of individual number of bedrooms affect the selling price per region. \n",
    "If the results for ranksum tests are greater than 0.5 then the two sample data influences each other. \n",
    "\n",
    "From test results above we can find that the ranksum test between selling price of one bedroom houses and three bedroom houses being greater than 0.5, they influences each other to a greater extent. \n",
    "\n",
    "Rest all samples show less than 0.5 pvalues and hence they are independent and does not influence each other. Price fluctuations between these groups does not create any fluctuations in demand for one, two, and four bedroom house sample datas.\n"
   ]
  },
  {
   "cell_type": "markdown",
   "metadata": {},
   "source": [
    "#### Reference links:\n",
    "#### http://www.stat.purdue.edu/~tqin/system101/method/method_wilcoxon_rank_sum_sas.htm"
   ]
  },
  {
   "cell_type": "markdown",
   "metadata": {},
   "source": [
    "### Finding Three - Correlation Between Local Stock Market and Different Home Value"
   ]
  },
  {
   "cell_type": "code",
   "execution_count": 120,
   "metadata": {
    "collapsed": true
   },
   "outputs": [],
   "source": [
    "import datetime\n",
    "import wbdata as wb\n",
    "import seaborn as sn\n",
    "from datetime import timedelta, date\n",
    "from pandas_datareader import data\n",
    "import matplotlib.pyplot as plt\n",
    "pd.options.display.float_format = '{:.2f}'.format"
   ]
  },
  {
   "cell_type": "markdown",
   "metadata": {},
   "source": [
    "#### Get Stock Price"
   ]
  },
  {
   "cell_type": "code",
   "execution_count": null,
   "metadata": {},
   "outputs": [],
   "source": [
    "!pip install wbdata"
   ]
  },
  {
   "cell_type": "code",
   "execution_count": 127,
   "metadata": {
    "collapsed": true
   },
   "outputs": [],
   "source": [
    "stock = {'GFDD.OM.02': 'Global Financial Development'}\n",
    "im = {'SM.POP.NETM': 'Population estimates and projections'}"
   ]
  },
  {
   "cell_type": "markdown",
   "metadata": {},
   "source": [
    "###### Get Applied Material stock, based in Santa Clara"
   ]
  },
  {
   "cell_type": "code",
   "execution_count": 175,
   "metadata": {},
   "outputs": [
    {
     "data": {
      "text/html": [
       "<div>\n",
       "<style>\n",
       "    .dataframe thead tr:only-child th {\n",
       "        text-align: right;\n",
       "    }\n",
       "\n",
       "    .dataframe thead th {\n",
       "        text-align: left;\n",
       "    }\n",
       "\n",
       "    .dataframe tbody tr th {\n",
       "        vertical-align: top;\n",
       "    }\n",
       "</style>\n",
       "<table border=\"1\" class=\"dataframe\">\n",
       "  <thead>\n",
       "    <tr style=\"text-align: right;\">\n",
       "      <th></th>\n",
       "      <th>AppliedMaterial</th>\n",
       "    </tr>\n",
       "    <tr>\n",
       "      <th>Date</th>\n",
       "      <th></th>\n",
       "    </tr>\n",
       "  </thead>\n",
       "  <tbody>\n",
       "    <tr>\n",
       "      <th>2015-01-31</th>\n",
       "      <td>23.77</td>\n",
       "    </tr>\n",
       "    <tr>\n",
       "      <th>2015-02-28</th>\n",
       "      <td>24.32</td>\n",
       "    </tr>\n",
       "    <tr>\n",
       "      <th>2015-03-31</th>\n",
       "      <td>23.82</td>\n",
       "    </tr>\n",
       "    <tr>\n",
       "      <th>2015-04-30</th>\n",
       "      <td>21.75</td>\n",
       "    </tr>\n",
       "    <tr>\n",
       "      <th>2015-05-31</th>\n",
       "      <td>19.95</td>\n",
       "    </tr>\n",
       "  </tbody>\n",
       "</table>\n",
       "</div>"
      ],
      "text/plain": [
       "            AppliedMaterial\n",
       "Date                       \n",
       "2015-01-31            23.77\n",
       "2015-02-28            24.32\n",
       "2015-03-31            23.82\n",
       "2015-04-30            21.75\n",
       "2015-05-31            19.95"
      ]
     },
     "execution_count": 175,
     "metadata": {},
     "output_type": "execute_result"
    }
   ],
   "source": [
    "AppliedM = get('AMAT','1-1-2015', datetime.date.today())\n",
    "\n",
    "# Use only Close Price\n",
    "AppliedM=AppliedM.loc[:,['Close']]\n",
    "\n",
    "# Resample stock price monthly\n",
    "AppliedM=AppliedM.resample('M').mean()\n",
    "\n",
    "# Rename column\n",
    "AppliedM=AppliedM.rename(columns={'Close':'AppliedMaterial'})\n",
    "AppliedM.head()"
   ]
  },
  {
   "cell_type": "markdown",
   "metadata": {},
   "source": [
    "###### Get Cisco stock, based in San Jose"
   ]
  },
  {
   "cell_type": "code",
   "execution_count": 188,
   "metadata": {},
   "outputs": [
    {
     "data": {
      "text/html": [
       "<div>\n",
       "<style>\n",
       "    .dataframe thead tr:only-child th {\n",
       "        text-align: right;\n",
       "    }\n",
       "\n",
       "    .dataframe thead th {\n",
       "        text-align: left;\n",
       "    }\n",
       "\n",
       "    .dataframe tbody tr th {\n",
       "        vertical-align: top;\n",
       "    }\n",
       "</style>\n",
       "<table border=\"1\" class=\"dataframe\">\n",
       "  <thead>\n",
       "    <tr style=\"text-align: right;\">\n",
       "      <th></th>\n",
       "      <th>Cisco</th>\n",
       "    </tr>\n",
       "    <tr>\n",
       "      <th>Date</th>\n",
       "      <th></th>\n",
       "    </tr>\n",
       "  </thead>\n",
       "  <tbody>\n",
       "    <tr>\n",
       "      <th>2015-01-31</th>\n",
       "      <td>27.57</td>\n",
       "    </tr>\n",
       "    <tr>\n",
       "      <th>2015-02-28</th>\n",
       "      <td>28.50</td>\n",
       "    </tr>\n",
       "    <tr>\n",
       "      <th>2015-03-31</th>\n",
       "      <td>28.38</td>\n",
       "    </tr>\n",
       "    <tr>\n",
       "      <th>2015-04-30</th>\n",
       "      <td>28.20</td>\n",
       "    </tr>\n",
       "    <tr>\n",
       "      <th>2015-05-31</th>\n",
       "      <td>29.27</td>\n",
       "    </tr>\n",
       "  </tbody>\n",
       "</table>\n",
       "</div>"
      ],
      "text/plain": [
       "            Cisco\n",
       "Date             \n",
       "2015-01-31  27.57\n",
       "2015-02-28  28.50\n",
       "2015-03-31  28.38\n",
       "2015-04-30  28.20\n",
       "2015-05-31  29.27"
      ]
     },
     "execution_count": 188,
     "metadata": {},
     "output_type": "execute_result"
    }
   ],
   "source": [
    "Cisco = get('CSCO','1-1-2015',datetime.date.today())\n",
    "\n",
    "# Use only Close Price\n",
    "Cisco = Cisco.loc[:,['Close']]\n",
    "\n",
    "# Resample stock price monthly\n",
    "Cisco=Cisco.resample('M').mean()\n",
    "\n",
    "# Rename column\n",
    "Cisco=Cisco.rename(columns={'Close':'Cisco'})\n",
    "Cisco.head()"
   ]
  },
  {
   "cell_type": "markdown",
   "metadata": {},
   "source": [
    "###### Get Juniper stock, based in Sunnyvale"
   ]
  },
  {
   "cell_type": "code",
   "execution_count": 135,
   "metadata": {},
   "outputs": [
    {
     "data": {
      "text/html": [
       "<div>\n",
       "<style>\n",
       "    .dataframe thead tr:only-child th {\n",
       "        text-align: right;\n",
       "    }\n",
       "\n",
       "    .dataframe thead th {\n",
       "        text-align: left;\n",
       "    }\n",
       "\n",
       "    .dataframe tbody tr th {\n",
       "        vertical-align: top;\n",
       "    }\n",
       "</style>\n",
       "<table border=\"1\" class=\"dataframe\">\n",
       "  <thead>\n",
       "    <tr style=\"text-align: right;\">\n",
       "      <th></th>\n",
       "      <th>Juniper</th>\n",
       "    </tr>\n",
       "    <tr>\n",
       "      <th>Date</th>\n",
       "      <th></th>\n",
       "    </tr>\n",
       "  </thead>\n",
       "  <tbody>\n",
       "    <tr>\n",
       "      <th>2015-01-31</th>\n",
       "      <td>22.24</td>\n",
       "    </tr>\n",
       "    <tr>\n",
       "      <th>2015-02-28</th>\n",
       "      <td>23.64</td>\n",
       "    </tr>\n",
       "    <tr>\n",
       "      <th>2015-03-31</th>\n",
       "      <td>23.34</td>\n",
       "    </tr>\n",
       "    <tr>\n",
       "      <th>2015-04-30</th>\n",
       "      <td>24.34</td>\n",
       "    </tr>\n",
       "    <tr>\n",
       "      <th>2015-05-31</th>\n",
       "      <td>27.26</td>\n",
       "    </tr>\n",
       "  </tbody>\n",
       "</table>\n",
       "</div>"
      ],
      "text/plain": [
       "            Juniper\n",
       "Date               \n",
       "2015-01-31    22.24\n",
       "2015-02-28    23.64\n",
       "2015-03-31    23.34\n",
       "2015-04-30    24.34\n",
       "2015-05-31    27.26"
      ]
     },
     "execution_count": 135,
     "metadata": {},
     "output_type": "execute_result"
    }
   ],
   "source": [
    "Juniper = get('JNPR','1-1-2015', datetime.date.today())\n",
    "\n",
    "# Use only Close Price\n",
    "Juniper = Juniper.loc[:,['Close']]\n",
    "\n",
    "# Resample stock price monthly\n",
    "Juniper = Juniper.resample('M').mean()\n",
    "\n",
    "# Rename column\n",
    "Juniper=Juniper.rename(columns={'Close':'Juniper'})\n",
    "Juniper.head()"
   ]
  },
  {
   "cell_type": "markdown",
   "metadata": {},
   "source": [
    "###### Get Facebook stock, based in Menlo Park"
   ]
  },
  {
   "cell_type": "code",
   "execution_count": 136,
   "metadata": {},
   "outputs": [
    {
     "data": {
      "text/html": [
       "<div>\n",
       "<style>\n",
       "    .dataframe thead tr:only-child th {\n",
       "        text-align: right;\n",
       "    }\n",
       "\n",
       "    .dataframe thead th {\n",
       "        text-align: left;\n",
       "    }\n",
       "\n",
       "    .dataframe tbody tr th {\n",
       "        vertical-align: top;\n",
       "    }\n",
       "</style>\n",
       "<table border=\"1\" class=\"dataframe\">\n",
       "  <thead>\n",
       "    <tr style=\"text-align: right;\">\n",
       "      <th></th>\n",
       "      <th>Facebook</th>\n",
       "    </tr>\n",
       "    <tr>\n",
       "      <th>Date</th>\n",
       "      <th></th>\n",
       "    </tr>\n",
       "  </thead>\n",
       "  <tbody>\n",
       "    <tr>\n",
       "      <th>2015-01-31</th>\n",
       "      <td>76.72</td>\n",
       "    </tr>\n",
       "    <tr>\n",
       "      <th>2015-02-28</th>\n",
       "      <td>76.95</td>\n",
       "    </tr>\n",
       "    <tr>\n",
       "      <th>2015-03-31</th>\n",
       "      <td>81.01</td>\n",
       "    </tr>\n",
       "    <tr>\n",
       "      <th>2015-04-30</th>\n",
       "      <td>82.09</td>\n",
       "    </tr>\n",
       "    <tr>\n",
       "      <th>2015-05-31</th>\n",
       "      <td>79.42</td>\n",
       "    </tr>\n",
       "  </tbody>\n",
       "</table>\n",
       "</div>"
      ],
      "text/plain": [
       "            Facebook\n",
       "Date                \n",
       "2015-01-31     76.72\n",
       "2015-02-28     76.95\n",
       "2015-03-31     81.01\n",
       "2015-04-30     82.09\n",
       "2015-05-31     79.42"
      ]
     },
     "execution_count": 136,
     "metadata": {},
     "output_type": "execute_result"
    }
   ],
   "source": [
    "Facebook = get('FB','1-1-2015',datetime.date.today())\n",
    "\n",
    "# Use only Close Price\n",
    "Facebook = Facebook.loc[:,['Close']]\n",
    "\n",
    "# Resample stock price monthly\n",
    "Facebook = Facebook.resample('M').mean()\n",
    "\n",
    "# Rename column\n",
    "Facebook=Facebook.rename(columns={'Close':'Facebook'})\n",
    "Facebook.head()"
   ]
  },
  {
   "cell_type": "markdown",
   "metadata": {},
   "source": [
    "###### Get Google stock, based in Mountain View"
   ]
  },
  {
   "cell_type": "code",
   "execution_count": 137,
   "metadata": {},
   "outputs": [
    {
     "data": {
      "text/html": [
       "<div>\n",
       "<style>\n",
       "    .dataframe thead tr:only-child th {\n",
       "        text-align: right;\n",
       "    }\n",
       "\n",
       "    .dataframe thead th {\n",
       "        text-align: left;\n",
       "    }\n",
       "\n",
       "    .dataframe tbody tr th {\n",
       "        vertical-align: top;\n",
       "    }\n",
       "</style>\n",
       "<table border=\"1\" class=\"dataframe\">\n",
       "  <thead>\n",
       "    <tr style=\"text-align: right;\">\n",
       "      <th></th>\n",
       "      <th>Google</th>\n",
       "    </tr>\n",
       "    <tr>\n",
       "      <th>Date</th>\n",
       "      <th></th>\n",
       "    </tr>\n",
       "  </thead>\n",
       "  <tbody>\n",
       "    <tr>\n",
       "      <th>2015-01-31</th>\n",
       "      <td>515.92</td>\n",
       "    </tr>\n",
       "    <tr>\n",
       "      <th>2015-02-28</th>\n",
       "      <td>540.99</td>\n",
       "    </tr>\n",
       "    <tr>\n",
       "      <th>2015-03-31</th>\n",
       "      <td>565.97</td>\n",
       "    </tr>\n",
       "    <tr>\n",
       "      <th>2015-04-30</th>\n",
       "      <td>549.48</td>\n",
       "    </tr>\n",
       "    <tr>\n",
       "      <th>2015-05-31</th>\n",
       "      <td>547.68</td>\n",
       "    </tr>\n",
       "  </tbody>\n",
       "</table>\n",
       "</div>"
      ],
      "text/plain": [
       "            Google\n",
       "Date              \n",
       "2015-01-31  515.92\n",
       "2015-02-28  540.99\n",
       "2015-03-31  565.97\n",
       "2015-04-30  549.48\n",
       "2015-05-31  547.68"
      ]
     },
     "execution_count": 137,
     "metadata": {},
     "output_type": "execute_result"
    }
   ],
   "source": [
    "Google = get('GOOGL','1-1-2015',datetime.date.today())\n",
    "\n",
    "# Use only Close Price\n",
    "Google = Google.loc[:,['Close']]\n",
    "\n",
    "# Resample stock price monthly\n",
    "Google=Google.resample('M').mean()\n",
    "\n",
    "# Rename column\n",
    "Google=Google.rename(columns={'Close':'Google'})\n",
    "Google.head()"
   ]
  },
  {
   "cell_type": "markdown",
   "metadata": {},
   "source": [
    "#### Getting Single House's Home Value Data"
   ]
  },
  {
   "cell_type": "code",
   "execution_count": 147,
   "metadata": {
    "collapsed": true
   },
   "outputs": [],
   "source": [
    "single = pd.read_csv('Single.csv').rename(columns=lambda x: x.strip())"
   ]
  },
  {
   "cell_type": "code",
   "execution_count": 148,
   "metadata": {},
   "outputs": [
    {
     "data": {
      "text/html": [
       "<div>\n",
       "<style>\n",
       "    .dataframe thead tr:only-child th {\n",
       "        text-align: right;\n",
       "    }\n",
       "\n",
       "    .dataframe thead th {\n",
       "        text-align: left;\n",
       "    }\n",
       "\n",
       "    .dataframe tbody tr th {\n",
       "        vertical-align: top;\n",
       "    }\n",
       "</style>\n",
       "<table border=\"1\" class=\"dataframe\">\n",
       "  <thead>\n",
       "    <tr style=\"text-align: right;\">\n",
       "      <th></th>\n",
       "      <th>RegionID</th>\n",
       "      <th>RegionName</th>\n",
       "      <th>State</th>\n",
       "      <th>Metro</th>\n",
       "      <th>CountyName</th>\n",
       "      <th>SizeRank</th>\n",
       "      <th>2015-01</th>\n",
       "      <th>2015-02</th>\n",
       "      <th>2015-03</th>\n",
       "      <th>2015-04</th>\n",
       "      <th>...</th>\n",
       "      <th>2017-05</th>\n",
       "      <th>2017-06</th>\n",
       "      <th>2017-07</th>\n",
       "      <th>2017-08</th>\n",
       "      <th>2017-09</th>\n",
       "      <th>2017-10</th>\n",
       "      <th>2017-11</th>\n",
       "      <th>2017-12</th>\n",
       "      <th>2018-01</th>\n",
       "      <th>House Type</th>\n",
       "    </tr>\n",
       "  </thead>\n",
       "  <tbody>\n",
       "    <tr>\n",
       "      <th>0</th>\n",
       "      <td>6181</td>\n",
       "      <td>New York</td>\n",
       "      <td>NY</td>\n",
       "      <td>New York</td>\n",
       "      <td>Queens</td>\n",
       "      <td>1</td>\n",
       "      <td>465500</td>\n",
       "      <td>466400</td>\n",
       "      <td>466800</td>\n",
       "      <td>468800</td>\n",
       "      <td>...</td>\n",
       "      <td>559000</td>\n",
       "      <td>563900</td>\n",
       "      <td>567600</td>\n",
       "      <td>571100</td>\n",
       "      <td>574900</td>\n",
       "      <td>578100</td>\n",
       "      <td>580400</td>\n",
       "      <td>584400</td>\n",
       "      <td>588900</td>\n",
       "      <td>single</td>\n",
       "    </tr>\n",
       "    <tr>\n",
       "      <th>1</th>\n",
       "      <td>12447</td>\n",
       "      <td>Los Angeles</td>\n",
       "      <td>CA</td>\n",
       "      <td>Los Angeles-Long Beach-Anaheim</td>\n",
       "      <td>Los Angeles</td>\n",
       "      <td>2</td>\n",
       "      <td>552200</td>\n",
       "      <td>556100</td>\n",
       "      <td>559200</td>\n",
       "      <td>562900</td>\n",
       "      <td>...</td>\n",
       "      <td>665800</td>\n",
       "      <td>669100</td>\n",
       "      <td>671800</td>\n",
       "      <td>675900</td>\n",
       "      <td>681700</td>\n",
       "      <td>686900</td>\n",
       "      <td>692400</td>\n",
       "      <td>698000</td>\n",
       "      <td>701900</td>\n",
       "      <td>single</td>\n",
       "    </tr>\n",
       "    <tr>\n",
       "      <th>2</th>\n",
       "      <td>17426</td>\n",
       "      <td>Chicago</td>\n",
       "      <td>IL</td>\n",
       "      <td>Chicago</td>\n",
       "      <td>Cook</td>\n",
       "      <td>3</td>\n",
       "      <td>168400</td>\n",
       "      <td>168200</td>\n",
       "      <td>168600</td>\n",
       "      <td>169600</td>\n",
       "      <td>...</td>\n",
       "      <td>194200</td>\n",
       "      <td>194700</td>\n",
       "      <td>194800</td>\n",
       "      <td>195500</td>\n",
       "      <td>196700</td>\n",
       "      <td>198000</td>\n",
       "      <td>198500</td>\n",
       "      <td>198700</td>\n",
       "      <td>199600</td>\n",
       "      <td>single</td>\n",
       "    </tr>\n",
       "    <tr>\n",
       "      <th>3</th>\n",
       "      <td>13271</td>\n",
       "      <td>Philadelphia</td>\n",
       "      <td>PA</td>\n",
       "      <td>Philadelphia</td>\n",
       "      <td>Philadelphia</td>\n",
       "      <td>4</td>\n",
       "      <td>173000</td>\n",
       "      <td>172900</td>\n",
       "      <td>173000</td>\n",
       "      <td>173400</td>\n",
       "      <td>...</td>\n",
       "      <td>196400</td>\n",
       "      <td>198000</td>\n",
       "      <td>199600</td>\n",
       "      <td>201300</td>\n",
       "      <td>202900</td>\n",
       "      <td>204200</td>\n",
       "      <td>205800</td>\n",
       "      <td>207500</td>\n",
       "      <td>208900</td>\n",
       "      <td>single</td>\n",
       "    </tr>\n",
       "    <tr>\n",
       "      <th>4</th>\n",
       "      <td>40326</td>\n",
       "      <td>Phoenix</td>\n",
       "      <td>AZ</td>\n",
       "      <td>Phoenix</td>\n",
       "      <td>Maricopa</td>\n",
       "      <td>5</td>\n",
       "      <td>183400</td>\n",
       "      <td>184600</td>\n",
       "      <td>186100</td>\n",
       "      <td>187900</td>\n",
       "      <td>...</td>\n",
       "      <td>225700</td>\n",
       "      <td>227800</td>\n",
       "      <td>229500</td>\n",
       "      <td>230900</td>\n",
       "      <td>232500</td>\n",
       "      <td>234600</td>\n",
       "      <td>236300</td>\n",
       "      <td>237200</td>\n",
       "      <td>238000</td>\n",
       "      <td>single</td>\n",
       "    </tr>\n",
       "  </tbody>\n",
       "</table>\n",
       "<p>5 rows × 44 columns</p>\n",
       "</div>"
      ],
      "text/plain": [
       "   RegionID    RegionName State                           Metro    CountyName  \\\n",
       "0      6181      New York    NY                        New York        Queens   \n",
       "1     12447   Los Angeles    CA  Los Angeles-Long Beach-Anaheim   Los Angeles   \n",
       "2     17426       Chicago    IL                         Chicago          Cook   \n",
       "3     13271  Philadelphia    PA                    Philadelphia  Philadelphia   \n",
       "4     40326       Phoenix    AZ                         Phoenix      Maricopa   \n",
       "\n",
       "   SizeRank  2015-01  2015-02  2015-03  2015-04     ...      2017-05  2017-06  \\\n",
       "0         1   465500   466400   466800   468800     ...       559000   563900   \n",
       "1         2   552200   556100   559200   562900     ...       665800   669100   \n",
       "2         3   168400   168200   168600   169600     ...       194200   194700   \n",
       "3         4   173000   172900   173000   173400     ...       196400   198000   \n",
       "4         5   183400   184600   186100   187900     ...       225700   227800   \n",
       "\n",
       "   2017-07  2017-08  2017-09  2017-10  2017-11  2017-12  2018-01  House Type  \n",
       "0   567600   571100   574900   578100   580400   584400   588900      single  \n",
       "1   671800   675900   681700   686900   692400   698000   701900      single  \n",
       "2   194800   195500   196700   198000   198500   198700   199600      single  \n",
       "3   199600   201300   202900   204200   205800   207500   208900      single  \n",
       "4   229500   230900   232500   234600   236300   237200   238000      single  \n",
       "\n",
       "[5 rows x 44 columns]"
      ]
     },
     "execution_count": 148,
     "metadata": {},
     "output_type": "execute_result"
    }
   ],
   "source": [
    "# Slice out 2015-2018 \n",
    "single=single[single.columns[~single.columns.str.contains('1996-')]]\n",
    "single=single[single.columns[~single.columns.str.contains('1997-')]]\n",
    "single=single[single.columns[~single.columns.str.contains('1998-')]]\n",
    "single=single[single.columns[~single.columns.str.contains('1999-')]]\n",
    "single=single[single.columns[~single.columns.str.contains('2000-')]]\n",
    "single=single[single.columns[~single.columns.str.contains('2001-')]]\n",
    "single=single[single.columns[~single.columns.str.contains('2002-')]]\n",
    "single=single[single.columns[~single.columns.str.contains('2003-')]]\n",
    "single=single[single.columns[~single.columns.str.contains('2004-')]]\n",
    "single=single[single.columns[~single.columns.str.contains('2005-')]]\n",
    "single=single[single.columns[~single.columns.str.contains('2006-')]]\n",
    "single=single[single.columns[~single.columns.str.contains('2007-')]]\n",
    "single=single[single.columns[~single.columns.str.contains('2008-')]]\n",
    "single=single[single.columns[~single.columns.str.contains('2009-')]]\n",
    "single=single[single.columns[~single.columns.str.contains('2010-')]]\n",
    "single=single[single.columns[~single.columns.str.contains('2011-')]]\n",
    "single=single[single.columns[~single.columns.str.contains('2012-')]]\n",
    "single=single[single.columns[~single.columns.str.contains('2013-')]]\n",
    "single=single[single.columns[~single.columns.str.contains('2014-')]]\n",
    "\n",
    "\n",
    "single['House Type']='single'\n",
    "single.head()"
   ]
  },
  {
   "cell_type": "markdown",
   "metadata": {},
   "source": [
    "#### Getting Condo Home Value Data"
   ]
  },
  {
   "cell_type": "code",
   "execution_count": 149,
   "metadata": {
    "collapsed": true
   },
   "outputs": [],
   "source": [
    "condo = pd.read_csv('Condo.csv').rename(columns=lambda x: x.strip())"
   ]
  },
  {
   "cell_type": "code",
   "execution_count": 150,
   "metadata": {},
   "outputs": [
    {
     "data": {
      "text/html": [
       "<div>\n",
       "<style>\n",
       "    .dataframe thead tr:only-child th {\n",
       "        text-align: right;\n",
       "    }\n",
       "\n",
       "    .dataframe thead th {\n",
       "        text-align: left;\n",
       "    }\n",
       "\n",
       "    .dataframe tbody tr th {\n",
       "        vertical-align: top;\n",
       "    }\n",
       "</style>\n",
       "<table border=\"1\" class=\"dataframe\">\n",
       "  <thead>\n",
       "    <tr style=\"text-align: right;\">\n",
       "      <th></th>\n",
       "      <th>RegionID</th>\n",
       "      <th>RegionName</th>\n",
       "      <th>State</th>\n",
       "      <th>Metro</th>\n",
       "      <th>CountyName</th>\n",
       "      <th>SizeRank</th>\n",
       "      <th>2015-01</th>\n",
       "      <th>2015-02</th>\n",
       "      <th>2015-03</th>\n",
       "      <th>2015-04</th>\n",
       "      <th>...</th>\n",
       "      <th>2017-05</th>\n",
       "      <th>2017-06</th>\n",
       "      <th>2017-07</th>\n",
       "      <th>2017-08</th>\n",
       "      <th>2017-09</th>\n",
       "      <th>2017-10</th>\n",
       "      <th>2017-11</th>\n",
       "      <th>2017-12</th>\n",
       "      <th>2018-01</th>\n",
       "      <th>House Type</th>\n",
       "    </tr>\n",
       "  </thead>\n",
       "  <tbody>\n",
       "    <tr>\n",
       "      <th>0</th>\n",
       "      <td>6181</td>\n",
       "      <td>New York</td>\n",
       "      <td>NY</td>\n",
       "      <td>New York</td>\n",
       "      <td>Queens</td>\n",
       "      <td>1</td>\n",
       "      <td>610900</td>\n",
       "      <td>616300</td>\n",
       "      <td>623000</td>\n",
       "      <td>628800</td>\n",
       "      <td>...</td>\n",
       "      <td>803300</td>\n",
       "      <td>828400</td>\n",
       "      <td>838700</td>\n",
       "      <td>843800</td>\n",
       "      <td>851800</td>\n",
       "      <td>862100</td>\n",
       "      <td>868900.00</td>\n",
       "      <td>871900.00</td>\n",
       "      <td>876700.00</td>\n",
       "      <td>condo</td>\n",
       "    </tr>\n",
       "    <tr>\n",
       "      <th>1</th>\n",
       "      <td>12447</td>\n",
       "      <td>Los Angeles</td>\n",
       "      <td>CA</td>\n",
       "      <td>Los Angeles-Long Beach-Anaheim</td>\n",
       "      <td>Los Angeles</td>\n",
       "      <td>2</td>\n",
       "      <td>436000</td>\n",
       "      <td>438600</td>\n",
       "      <td>441600</td>\n",
       "      <td>444300</td>\n",
       "      <td>...</td>\n",
       "      <td>511400</td>\n",
       "      <td>513900</td>\n",
       "      <td>516800</td>\n",
       "      <td>521500</td>\n",
       "      <td>526800</td>\n",
       "      <td>532800</td>\n",
       "      <td>539600.00</td>\n",
       "      <td>545800.00</td>\n",
       "      <td>549500.00</td>\n",
       "      <td>condo</td>\n",
       "    </tr>\n",
       "    <tr>\n",
       "      <th>2</th>\n",
       "      <td>17426</td>\n",
       "      <td>Chicago</td>\n",
       "      <td>IL</td>\n",
       "      <td>Chicago</td>\n",
       "      <td>Cook</td>\n",
       "      <td>3</td>\n",
       "      <td>213300</td>\n",
       "      <td>213700</td>\n",
       "      <td>215700</td>\n",
       "      <td>217900</td>\n",
       "      <td>...</td>\n",
       "      <td>240100</td>\n",
       "      <td>240800</td>\n",
       "      <td>241900</td>\n",
       "      <td>242600</td>\n",
       "      <td>242400</td>\n",
       "      <td>241000</td>\n",
       "      <td>239400.00</td>\n",
       "      <td>238700.00</td>\n",
       "      <td>239100.00</td>\n",
       "      <td>condo</td>\n",
       "    </tr>\n",
       "    <tr>\n",
       "      <th>3</th>\n",
       "      <td>13271</td>\n",
       "      <td>Philadelphia</td>\n",
       "      <td>PA</td>\n",
       "      <td>Philadelphia</td>\n",
       "      <td>Philadelphia</td>\n",
       "      <td>4</td>\n",
       "      <td>96400</td>\n",
       "      <td>96400</td>\n",
       "      <td>96700</td>\n",
       "      <td>97300</td>\n",
       "      <td>...</td>\n",
       "      <td>119600</td>\n",
       "      <td>119900</td>\n",
       "      <td>119800</td>\n",
       "      <td>120600</td>\n",
       "      <td>122200</td>\n",
       "      <td>123400</td>\n",
       "      <td>124200.00</td>\n",
       "      <td>125000.00</td>\n",
       "      <td>125800.00</td>\n",
       "      <td>condo</td>\n",
       "    </tr>\n",
       "    <tr>\n",
       "      <th>4</th>\n",
       "      <td>40326</td>\n",
       "      <td>Phoenix</td>\n",
       "      <td>AZ</td>\n",
       "      <td>Phoenix</td>\n",
       "      <td>Maricopa</td>\n",
       "      <td>5</td>\n",
       "      <td>115000</td>\n",
       "      <td>115300</td>\n",
       "      <td>116100</td>\n",
       "      <td>117000</td>\n",
       "      <td>...</td>\n",
       "      <td>140400</td>\n",
       "      <td>141900</td>\n",
       "      <td>143400</td>\n",
       "      <td>144900</td>\n",
       "      <td>146700</td>\n",
       "      <td>148300</td>\n",
       "      <td>149500.00</td>\n",
       "      <td>150600.00</td>\n",
       "      <td>151500.00</td>\n",
       "      <td>condo</td>\n",
       "    </tr>\n",
       "  </tbody>\n",
       "</table>\n",
       "<p>5 rows × 44 columns</p>\n",
       "</div>"
      ],
      "text/plain": [
       "   RegionID    RegionName State                           Metro    CountyName  \\\n",
       "0      6181      New York    NY                        New York        Queens   \n",
       "1     12447   Los Angeles    CA  Los Angeles-Long Beach-Anaheim   Los Angeles   \n",
       "2     17426       Chicago    IL                         Chicago          Cook   \n",
       "3     13271  Philadelphia    PA                    Philadelphia  Philadelphia   \n",
       "4     40326       Phoenix    AZ                         Phoenix      Maricopa   \n",
       "\n",
       "   SizeRank  2015-01  2015-02  2015-03  2015-04     ...      2017-05  2017-06  \\\n",
       "0         1   610900   616300   623000   628800     ...       803300   828400   \n",
       "1         2   436000   438600   441600   444300     ...       511400   513900   \n",
       "2         3   213300   213700   215700   217900     ...       240100   240800   \n",
       "3         4    96400    96400    96700    97300     ...       119600   119900   \n",
       "4         5   115000   115300   116100   117000     ...       140400   141900   \n",
       "\n",
       "   2017-07  2017-08  2017-09  2017-10   2017-11   2017-12   2018-01  \\\n",
       "0   838700   843800   851800   862100 868900.00 871900.00 876700.00   \n",
       "1   516800   521500   526800   532800 539600.00 545800.00 549500.00   \n",
       "2   241900   242600   242400   241000 239400.00 238700.00 239100.00   \n",
       "3   119800   120600   122200   123400 124200.00 125000.00 125800.00   \n",
       "4   143400   144900   146700   148300 149500.00 150600.00 151500.00   \n",
       "\n",
       "   House Type  \n",
       "0       condo  \n",
       "1       condo  \n",
       "2       condo  \n",
       "3       condo  \n",
       "4       condo  \n",
       "\n",
       "[5 rows x 44 columns]"
      ]
     },
     "execution_count": 150,
     "metadata": {},
     "output_type": "execute_result"
    }
   ],
   "source": [
    "# Slice out 2015-2018 \n",
    "condo=condo[condo.columns[~condo.columns.str.contains('1996-')]]\n",
    "condo=condo[condo.columns[~condo.columns.str.contains('1997-')]]\n",
    "condo=condo[condo.columns[~condo.columns.str.contains('1998-')]]\n",
    "condo=condo[condo.columns[~condo.columns.str.contains('1999-')]]\n",
    "condo=condo[condo.columns[~condo.columns.str.contains('2000-')]]\n",
    "condo=condo[condo.columns[~condo.columns.str.contains('2001-')]]\n",
    "condo=condo[condo.columns[~condo.columns.str.contains('2002-')]]\n",
    "condo=condo[condo.columns[~condo.columns.str.contains('2003-')]]\n",
    "condo=condo[condo.columns[~condo.columns.str.contains('2004-')]]\n",
    "condo=condo[condo.columns[~condo.columns.str.contains('2005-')]]\n",
    "condo=condo[condo.columns[~condo.columns.str.contains('2006-')]]\n",
    "condo=condo[condo.columns[~condo.columns.str.contains('2007-')]]\n",
    "condo=condo[condo.columns[~condo.columns.str.contains('2008-')]]\n",
    "condo=condo[condo.columns[~condo.columns.str.contains('2009-')]]\n",
    "condo=condo[condo.columns[~condo.columns.str.contains('2009-')]]\n",
    "condo=condo[condo.columns[~condo.columns.str.contains('2010-')]]\n",
    "condo=condo[condo.columns[~condo.columns.str.contains('2011-')]]\n",
    "condo=condo[condo.columns[~condo.columns.str.contains('2012-')]]\n",
    "condo=condo[condo.columns[~condo.columns.str.contains('2013-')]]\n",
    "condo=condo[condo.columns[~condo.columns.str.contains('2014-')]]\n",
    "condo['House Type']='condo'\n",
    "condo.head()"
   ]
  },
  {
   "cell_type": "markdown",
   "metadata": {},
   "source": [
    "###### Slice out Santa Clara Part - Single home"
   ]
  },
  {
   "cell_type": "code",
   "execution_count": 165,
   "metadata": {
    "collapsed": true
   },
   "outputs": [],
   "source": [
    "sc=single[(single['RegionName']=='Santa Clara') & (single['State']=='CA')]"
   ]
  },
  {
   "cell_type": "markdown",
   "metadata": {},
   "source": [
    "##### Slice out monthly home value column"
   ]
  },
  {
   "cell_type": "code",
   "execution_count": 166,
   "metadata": {
    "collapsed": true
   },
   "outputs": [],
   "source": [
    "scsingle=sc.loc[:,[ '2015-01', '2015-02', '2015-03', '2015-04', '2015-05', '2015-06',\n",
    "       '2015-07', '2015-08', '2015-09', '2015-10', '2015-11', '2015-12',\n",
    "       '2016-01', '2016-02', '2016-03', '2016-04', '2016-05', '2016-06',\n",
    "       '2016-07', '2016-08', '2016-09', '2016-10', '2016-11', '2016-12',\n",
    "       '2017-01', '2017-02', '2017-03', '2017-04', '2017-05', '2017-06',\n",
    "       '2017-07', '2017-08', '2017-09', '2017-10', '2017-11', '2017-12',\n",
    "       '2018-01']]"
   ]
  },
  {
   "cell_type": "code",
   "execution_count": 167,
   "metadata": {},
   "outputs": [
    {
     "data": {
      "text/html": [
       "<div>\n",
       "<style>\n",
       "    .dataframe thead tr:only-child th {\n",
       "        text-align: right;\n",
       "    }\n",
       "\n",
       "    .dataframe thead th {\n",
       "        text-align: left;\n",
       "    }\n",
       "\n",
       "    .dataframe tbody tr th {\n",
       "        vertical-align: top;\n",
       "    }\n",
       "</style>\n",
       "<table border=\"1\" class=\"dataframe\">\n",
       "  <thead>\n",
       "    <tr style=\"text-align: right;\">\n",
       "      <th></th>\n",
       "      <th>HomeValueSingle</th>\n",
       "    </tr>\n",
       "  </thead>\n",
       "  <tbody>\n",
       "    <tr>\n",
       "      <th>2015-01</th>\n",
       "      <td>886300</td>\n",
       "    </tr>\n",
       "    <tr>\n",
       "      <th>2015-02</th>\n",
       "      <td>899000</td>\n",
       "    </tr>\n",
       "    <tr>\n",
       "      <th>2015-03</th>\n",
       "      <td>915700</td>\n",
       "    </tr>\n",
       "    <tr>\n",
       "      <th>2015-04</th>\n",
       "      <td>933700</td>\n",
       "    </tr>\n",
       "    <tr>\n",
       "      <th>2015-05</th>\n",
       "      <td>949600</td>\n",
       "    </tr>\n",
       "  </tbody>\n",
       "</table>\n",
       "</div>"
      ],
      "text/plain": [
       "         HomeValueSingle\n",
       "2015-01           886300\n",
       "2015-02           899000\n",
       "2015-03           915700\n",
       "2015-04           933700\n",
       "2015-05           949600"
      ]
     },
     "execution_count": 167,
     "metadata": {},
     "output_type": "execute_result"
    }
   ],
   "source": [
    "scsingle.columns = pd.to_datetime(scsingle.columns,format='%Y%m', errors='ignore')\n",
    "scsingle=scsingle.transpose()\n",
    "scsingle.columns=['HomeValueSingle']\n",
    "scsingle.head()"
   ]
  },
  {
   "cell_type": "markdown",
   "metadata": {},
   "source": [
    "###### Slice out Santa Clara Part - Condo"
   ]
  },
  {
   "cell_type": "code",
   "execution_count": 168,
   "metadata": {
    "collapsed": true
   },
   "outputs": [],
   "source": [
    "sc1=condo[(condo['RegionName']=='Santa Clara') & (condo['State']=='CA')]"
   ]
  },
  {
   "cell_type": "markdown",
   "metadata": {},
   "source": [
    "##### Slice out monthly home value column"
   ]
  },
  {
   "cell_type": "code",
   "execution_count": 169,
   "metadata": {
    "collapsed": true
   },
   "outputs": [],
   "source": [
    "sccondo=sc1.loc[:,[ '2015-01', '2015-02', '2015-03', '2015-04', '2015-05', '2015-06',\n",
    "       '2015-07', '2015-08', '2015-09', '2015-10', '2015-11', '2015-12',\n",
    "       '2016-01', '2016-02', '2016-03', '2016-04', '2016-05', '2016-06',\n",
    "       '2016-07', '2016-08', '2016-09', '2016-10', '2016-11', '2016-12',\n",
    "       '2017-01', '2017-02', '2017-03', '2017-04', '2017-05', '2017-06',\n",
    "       '2017-07', '2017-08', '2017-09', '2017-10', '2017-11', '2017-12',\n",
    "       '2018-01']]"
   ]
  },
  {
   "cell_type": "code",
   "execution_count": 170,
   "metadata": {},
   "outputs": [
    {
     "data": {
      "text/html": [
       "<div>\n",
       "<style>\n",
       "    .dataframe thead tr:only-child th {\n",
       "        text-align: right;\n",
       "    }\n",
       "\n",
       "    .dataframe thead th {\n",
       "        text-align: left;\n",
       "    }\n",
       "\n",
       "    .dataframe tbody tr th {\n",
       "        vertical-align: top;\n",
       "    }\n",
       "</style>\n",
       "<table border=\"1\" class=\"dataframe\">\n",
       "  <thead>\n",
       "    <tr style=\"text-align: right;\">\n",
       "      <th></th>\n",
       "      <th>HomeValueCondo</th>\n",
       "    </tr>\n",
       "  </thead>\n",
       "  <tbody>\n",
       "    <tr>\n",
       "      <th>2015-01</th>\n",
       "      <td>594500.00</td>\n",
       "    </tr>\n",
       "    <tr>\n",
       "      <th>2015-02</th>\n",
       "      <td>601300.00</td>\n",
       "    </tr>\n",
       "    <tr>\n",
       "      <th>2015-03</th>\n",
       "      <td>611500.00</td>\n",
       "    </tr>\n",
       "    <tr>\n",
       "      <th>2015-04</th>\n",
       "      <td>625300.00</td>\n",
       "    </tr>\n",
       "    <tr>\n",
       "      <th>2015-05</th>\n",
       "      <td>640600.00</td>\n",
       "    </tr>\n",
       "  </tbody>\n",
       "</table>\n",
       "</div>"
      ],
      "text/plain": [
       "         HomeValueCondo\n",
       "2015-01       594500.00\n",
       "2015-02       601300.00\n",
       "2015-03       611500.00\n",
       "2015-04       625300.00\n",
       "2015-05       640600.00"
      ]
     },
     "execution_count": 170,
     "metadata": {},
     "output_type": "execute_result"
    }
   ],
   "source": [
    "sccondo.columns = pd.to_datetime(sccondo.columns,format='%Y%m', errors='ignore')\n",
    "sccondo=sccondo.transpose()\n",
    "sccondo.columns=['HomeValueCondo']\n",
    "sccondo.head()"
   ]
  },
  {
   "cell_type": "markdown",
   "metadata": {},
   "source": [
    "###### Concatenate SC home value single+condo"
   ]
  },
  {
   "cell_type": "code",
   "execution_count": 173,
   "metadata": {
    "scrolled": true
   },
   "outputs": [
    {
     "data": {
      "text/html": [
       "<div>\n",
       "<style>\n",
       "    .dataframe thead tr:only-child th {\n",
       "        text-align: right;\n",
       "    }\n",
       "\n",
       "    .dataframe thead th {\n",
       "        text-align: left;\n",
       "    }\n",
       "\n",
       "    .dataframe tbody tr th {\n",
       "        vertical-align: top;\n",
       "    }\n",
       "</style>\n",
       "<table border=\"1\" class=\"dataframe\">\n",
       "  <thead>\n",
       "    <tr style=\"text-align: right;\">\n",
       "      <th></th>\n",
       "      <th>HomeValueSingle</th>\n",
       "      <th>HomeValueCondo</th>\n",
       "    </tr>\n",
       "  </thead>\n",
       "  <tbody>\n",
       "    <tr>\n",
       "      <th>2015-01</th>\n",
       "      <td>886300</td>\n",
       "      <td>594500.00</td>\n",
       "    </tr>\n",
       "    <tr>\n",
       "      <th>2015-02</th>\n",
       "      <td>899000</td>\n",
       "      <td>601300.00</td>\n",
       "    </tr>\n",
       "    <tr>\n",
       "      <th>2015-03</th>\n",
       "      <td>915700</td>\n",
       "      <td>611500.00</td>\n",
       "    </tr>\n",
       "    <tr>\n",
       "      <th>2015-04</th>\n",
       "      <td>933700</td>\n",
       "      <td>625300.00</td>\n",
       "    </tr>\n",
       "    <tr>\n",
       "      <th>2015-05</th>\n",
       "      <td>949600</td>\n",
       "      <td>640600.00</td>\n",
       "    </tr>\n",
       "  </tbody>\n",
       "</table>\n",
       "</div>"
      ],
      "text/plain": [
       "         HomeValueSingle  HomeValueCondo\n",
       "2015-01           886300       594500.00\n",
       "2015-02           899000       601300.00\n",
       "2015-03           915700       611500.00\n",
       "2015-04           933700       625300.00\n",
       "2015-05           949600       640600.00"
      ]
     },
     "execution_count": 173,
     "metadata": {},
     "output_type": "execute_result"
    }
   ],
   "source": [
    "AM = pd.concat([scsingle, sccondo], axis=1)\n",
    "AM.index = pd.to_datetime(AM.index,format='%Y%m', errors='ignore')\n",
    "AM.head()"
   ]
  },
  {
   "cell_type": "code",
   "execution_count": 176,
   "metadata": {
    "collapsed": true,
    "scrolled": true
   },
   "outputs": [],
   "source": [
    "# re-format the date before joining\n",
    "AppliedM.index = AppliedM.index.strftime('%Y-%m')"
   ]
  },
  {
   "cell_type": "markdown",
   "metadata": {},
   "source": [
    "###### Concatenate stock with Santa Clara home value"
   ]
  },
  {
   "cell_type": "code",
   "execution_count": 177,
   "metadata": {
    "scrolled": false
   },
   "outputs": [
    {
     "data": {
      "text/html": [
       "<div>\n",
       "<style>\n",
       "    .dataframe thead tr:only-child th {\n",
       "        text-align: right;\n",
       "    }\n",
       "\n",
       "    .dataframe thead th {\n",
       "        text-align: left;\n",
       "    }\n",
       "\n",
       "    .dataframe tbody tr th {\n",
       "        vertical-align: top;\n",
       "    }\n",
       "</style>\n",
       "<table border=\"1\" class=\"dataframe\">\n",
       "  <thead>\n",
       "    <tr style=\"text-align: right;\">\n",
       "      <th></th>\n",
       "      <th>AppliedMaterial</th>\n",
       "      <th>HomeValueSingle</th>\n",
       "      <th>HomeValueCondo</th>\n",
       "    </tr>\n",
       "  </thead>\n",
       "  <tbody>\n",
       "    <tr>\n",
       "      <th>2015-01</th>\n",
       "      <td>23.77</td>\n",
       "      <td>886300.00</td>\n",
       "      <td>594500.00</td>\n",
       "    </tr>\n",
       "    <tr>\n",
       "      <th>2015-02</th>\n",
       "      <td>24.32</td>\n",
       "      <td>899000.00</td>\n",
       "      <td>601300.00</td>\n",
       "    </tr>\n",
       "    <tr>\n",
       "      <th>2015-03</th>\n",
       "      <td>23.82</td>\n",
       "      <td>915700.00</td>\n",
       "      <td>611500.00</td>\n",
       "    </tr>\n",
       "    <tr>\n",
       "      <th>2015-04</th>\n",
       "      <td>21.75</td>\n",
       "      <td>933700.00</td>\n",
       "      <td>625300.00</td>\n",
       "    </tr>\n",
       "    <tr>\n",
       "      <th>2015-05</th>\n",
       "      <td>19.95</td>\n",
       "      <td>949600.00</td>\n",
       "      <td>640600.00</td>\n",
       "    </tr>\n",
       "  </tbody>\n",
       "</table>\n",
       "</div>"
      ],
      "text/plain": [
       "         AppliedMaterial  HomeValueSingle  HomeValueCondo\n",
       "2015-01            23.77        886300.00       594500.00\n",
       "2015-02            24.32        899000.00       601300.00\n",
       "2015-03            23.82        915700.00       611500.00\n",
       "2015-04            21.75        933700.00       625300.00\n",
       "2015-05            19.95        949600.00       640600.00"
      ]
     },
     "execution_count": 177,
     "metadata": {},
     "output_type": "execute_result"
    }
   ],
   "source": [
    "AM1 = pd.concat([AppliedM, AM], axis=1)\n",
    "AM1.head()"
   ]
  },
  {
   "cell_type": "markdown",
   "metadata": {},
   "source": [
    "###### Getting stock and home values for San Jose"
   ]
  },
  {
   "cell_type": "code",
   "execution_count": 197,
   "metadata": {},
   "outputs": [
    {
     "data": {
      "text/html": [
       "<div>\n",
       "<style>\n",
       "    .dataframe thead tr:only-child th {\n",
       "        text-align: right;\n",
       "    }\n",
       "\n",
       "    .dataframe thead th {\n",
       "        text-align: left;\n",
       "    }\n",
       "\n",
       "    .dataframe tbody tr th {\n",
       "        vertical-align: top;\n",
       "    }\n",
       "</style>\n",
       "<table border=\"1\" class=\"dataframe\">\n",
       "  <thead>\n",
       "    <tr style=\"text-align: right;\">\n",
       "      <th></th>\n",
       "      <th>HomeValueSingle</th>\n",
       "      <th>HomeValueCondo</th>\n",
       "    </tr>\n",
       "  </thead>\n",
       "  <tbody>\n",
       "    <tr>\n",
       "      <th>2015-01</th>\n",
       "      <td>783800</td>\n",
       "      <td>594500.00</td>\n",
       "    </tr>\n",
       "    <tr>\n",
       "      <th>2015-02</th>\n",
       "      <td>793000</td>\n",
       "      <td>601300.00</td>\n",
       "    </tr>\n",
       "    <tr>\n",
       "      <th>2015-03</th>\n",
       "      <td>803700</td>\n",
       "      <td>611500.00</td>\n",
       "    </tr>\n",
       "    <tr>\n",
       "      <th>2015-04</th>\n",
       "      <td>815100</td>\n",
       "      <td>625300.00</td>\n",
       "    </tr>\n",
       "    <tr>\n",
       "      <th>2015-05</th>\n",
       "      <td>826200</td>\n",
       "      <td>640600.00</td>\n",
       "    </tr>\n",
       "  </tbody>\n",
       "</table>\n",
       "</div>"
      ],
      "text/plain": [
       "         HomeValueSingle  HomeValueCondo\n",
       "2015-01           783800       594500.00\n",
       "2015-02           793000       601300.00\n",
       "2015-03           803700       611500.00\n",
       "2015-04           815100       625300.00\n",
       "2015-05           826200       640600.00"
      ]
     },
     "execution_count": 197,
     "metadata": {},
     "output_type": "execute_result"
    }
   ],
   "source": [
    "# Single Home\n",
    "sj=single[(single['RegionName']=='San Jose') & (single['State']=='CA')]\n",
    "sjsingle=sj.loc[:,[ '2015-01', '2015-02', '2015-03', '2015-04', '2015-05', '2015-06',\n",
    "       '2015-07', '2015-08', '2015-09', '2015-10', '2015-11', '2015-12',\n",
    "       '2016-01', '2016-02', '2016-03', '2016-04', '2016-05', '2016-06',\n",
    "       '2016-07', '2016-08', '2016-09', '2016-10', '2016-11', '2016-12',\n",
    "       '2017-01', '2017-02', '2017-03', '2017-04', '2017-05', '2017-06',\n",
    "       '2017-07', '2017-08', '2017-09', '2017-10', '2017-11', '2017-12',\n",
    "       '2018-01']]\n",
    "sjsingle.columns = pd.to_datetime(sjsingle.columns,format='%Y%m', errors='ignore')\n",
    "sjsingle=sjsingle.transpose()\n",
    "sjsingle.columns=['HomeValueSingle']\n",
    "\n",
    "# Condo Home\n",
    "sj1=condo[(condo['RegionName']=='Santa Clara') & (condo['State']=='CA')]\n",
    "sjcondo=sj1.loc[:,[ '2015-01', '2015-02', '2015-03', '2015-04', '2015-05', '2015-06',\n",
    "       '2015-07', '2015-08', '2015-09', '2015-10', '2015-11', '2015-12',\n",
    "       '2016-01', '2016-02', '2016-03', '2016-04', '2016-05', '2016-06',\n",
    "       '2016-07', '2016-08', '2016-09', '2016-10', '2016-11', '2016-12',\n",
    "       '2017-01', '2017-02', '2017-03', '2017-04', '2017-05', '2017-06',\n",
    "       '2017-07', '2017-08', '2017-09', '2017-10', '2017-11', '2017-12',\n",
    "       '2018-01']]\n",
    "sjcondo.columns = pd.to_datetime(sjcondo.columns,format='%Y%m', errors='ignore')\n",
    "sjcondo=sjcondo.transpose()\n",
    "sjcondo.columns=['HomeValueCondo']\n",
    "\n",
    "# Concatenate SJ home value single+condo\n",
    "CS = pd.concat([sjsingle, sjcondo], axis=1)\n",
    "CS.index = pd.to_datetime(CS.index,format='%Y%m', errors='ignore')\n",
    "CS.head()"
   ]
  },
  {
   "cell_type": "code",
   "execution_count": 190,
   "metadata": {},
   "outputs": [
    {
     "data": {
      "text/html": [
       "<div>\n",
       "<style>\n",
       "    .dataframe thead tr:only-child th {\n",
       "        text-align: right;\n",
       "    }\n",
       "\n",
       "    .dataframe thead th {\n",
       "        text-align: left;\n",
       "    }\n",
       "\n",
       "    .dataframe tbody tr th {\n",
       "        vertical-align: top;\n",
       "    }\n",
       "</style>\n",
       "<table border=\"1\" class=\"dataframe\">\n",
       "  <thead>\n",
       "    <tr style=\"text-align: right;\">\n",
       "      <th></th>\n",
       "      <th>HomeValueSingle</th>\n",
       "      <th>HomeValueCondo</th>\n",
       "      <th>Cisco</th>\n",
       "    </tr>\n",
       "  </thead>\n",
       "  <tbody>\n",
       "    <tr>\n",
       "      <th>2015-01</th>\n",
       "      <td>783800.00</td>\n",
       "      <td>594500.00</td>\n",
       "      <td>27.57</td>\n",
       "    </tr>\n",
       "    <tr>\n",
       "      <th>2015-02</th>\n",
       "      <td>793000.00</td>\n",
       "      <td>601300.00</td>\n",
       "      <td>28.50</td>\n",
       "    </tr>\n",
       "    <tr>\n",
       "      <th>2015-03</th>\n",
       "      <td>803700.00</td>\n",
       "      <td>611500.00</td>\n",
       "      <td>28.38</td>\n",
       "    </tr>\n",
       "    <tr>\n",
       "      <th>2015-04</th>\n",
       "      <td>815100.00</td>\n",
       "      <td>625300.00</td>\n",
       "      <td>28.20</td>\n",
       "    </tr>\n",
       "    <tr>\n",
       "      <th>2015-05</th>\n",
       "      <td>826200.00</td>\n",
       "      <td>640600.00</td>\n",
       "      <td>29.27</td>\n",
       "    </tr>\n",
       "  </tbody>\n",
       "</table>\n",
       "</div>"
      ],
      "text/plain": [
       "         HomeValueSingle  HomeValueCondo  Cisco\n",
       "2015-01        783800.00       594500.00  27.57\n",
       "2015-02        793000.00       601300.00  28.50\n",
       "2015-03        803700.00       611500.00  28.38\n",
       "2015-04        815100.00       625300.00  28.20\n",
       "2015-05        826200.00       640600.00  29.27"
      ]
     },
     "execution_count": 190,
     "metadata": {},
     "output_type": "execute_result"
    }
   ],
   "source": [
    "# re-format the date before joining\n",
    "Cisco.index = Cisco.index.strftime('%Y-%m')\n",
    "\n",
    "# Concatenate stock with SJ home value\n",
    "CS1 = pd.concat([CS, Cisco], axis=1)\n",
    "CS1.head()"
   ]
  },
  {
   "cell_type": "markdown",
   "metadata": {},
   "source": [
    "###### Getting stock and home values for Sunnyvale"
   ]
  },
  {
   "cell_type": "code",
   "execution_count": 199,
   "metadata": {},
   "outputs": [
    {
     "data": {
      "text/html": [
       "<div>\n",
       "<style>\n",
       "    .dataframe thead tr:only-child th {\n",
       "        text-align: right;\n",
       "    }\n",
       "\n",
       "    .dataframe thead th {\n",
       "        text-align: left;\n",
       "    }\n",
       "\n",
       "    .dataframe tbody tr th {\n",
       "        vertical-align: top;\n",
       "    }\n",
       "</style>\n",
       "<table border=\"1\" class=\"dataframe\">\n",
       "  <thead>\n",
       "    <tr style=\"text-align: right;\">\n",
       "      <th></th>\n",
       "      <th>HomeValueSingle</th>\n",
       "      <th>HomeValueCondo</th>\n",
       "    </tr>\n",
       "  </thead>\n",
       "  <tbody>\n",
       "    <tr>\n",
       "      <th>2015-01</th>\n",
       "      <td>1348600</td>\n",
       "      <td>787300.00</td>\n",
       "    </tr>\n",
       "    <tr>\n",
       "      <th>2015-02</th>\n",
       "      <td>1371000</td>\n",
       "      <td>797300.00</td>\n",
       "    </tr>\n",
       "    <tr>\n",
       "      <th>2015-03</th>\n",
       "      <td>1395900</td>\n",
       "      <td>809100.00</td>\n",
       "    </tr>\n",
       "    <tr>\n",
       "      <th>2015-04</th>\n",
       "      <td>1424200</td>\n",
       "      <td>822100.00</td>\n",
       "    </tr>\n",
       "    <tr>\n",
       "      <th>2015-05</th>\n",
       "      <td>1456900</td>\n",
       "      <td>838100.00</td>\n",
       "    </tr>\n",
       "  </tbody>\n",
       "</table>\n",
       "</div>"
      ],
      "text/plain": [
       "         HomeValueSingle  HomeValueCondo\n",
       "2015-01          1348600       787300.00\n",
       "2015-02          1371000       797300.00\n",
       "2015-03          1395900       809100.00\n",
       "2015-04          1424200       822100.00\n",
       "2015-05          1456900       838100.00"
      ]
     },
     "execution_count": 199,
     "metadata": {},
     "output_type": "execute_result"
    }
   ],
   "source": [
    "# Single Home\n",
    "sv=single[(single['RegionName']=='Sunnyvale') & (single['State']=='CA')]\n",
    "svsingle=sv.loc[:,[ '2015-01', '2015-02', '2015-03', '2015-04', '2015-05', '2015-06',\n",
    "       '2015-07', '2015-08', '2015-09', '2015-10', '2015-11', '2015-12',\n",
    "       '2016-01', '2016-02', '2016-03', '2016-04', '2016-05', '2016-06',\n",
    "       '2016-07', '2016-08', '2016-09', '2016-10', '2016-11', '2016-12',\n",
    "       '2017-01', '2017-02', '2017-03', '2017-04', '2017-05', '2017-06',\n",
    "       '2017-07', '2017-08', '2017-09', '2017-10', '2017-11', '2017-12',\n",
    "       '2018-01']]\n",
    "svsingle.columns = pd.to_datetime(svsingle.columns,format='%Y%m', errors='ignore')\n",
    "svsingle=svsingle.transpose()\n",
    "svsingle.columns=['HomeValueSingle']\n",
    "\n",
    "# Condo Home\n",
    "sv1=condo[(condo['RegionName']=='Sunnyvale') & (condo['State']=='CA')]\n",
    "svcondo=sv1.loc[:,[ '2015-01', '2015-02', '2015-03', '2015-04', '2015-05', '2015-06',\n",
    "       '2015-07', '2015-08', '2015-09', '2015-10', '2015-11', '2015-12',\n",
    "       '2016-01', '2016-02', '2016-03', '2016-04', '2016-05', '2016-06',\n",
    "       '2016-07', '2016-08', '2016-09', '2016-10', '2016-11', '2016-12',\n",
    "       '2017-01', '2017-02', '2017-03', '2017-04', '2017-05', '2017-06',\n",
    "       '2017-07', '2017-08', '2017-09', '2017-10', '2017-11', '2017-12',\n",
    "       '2018-01']]\n",
    "svcondo.columns = pd.to_datetime(svcondo.columns,format='%Y%m', errors='ignore')\n",
    "svcondo=svcondo.transpose()\n",
    "svcondo.columns=['HomeValueCondo']\n",
    "\n",
    "# Concatenate SV home value single+condo\n",
    "JP = pd.concat([svsingle, svcondo], axis=1)\n",
    "JP.index = pd.to_datetime(JP.index,format='%Y%m', errors='ignore')\n",
    "JP.head()"
   ]
  },
  {
   "cell_type": "code",
   "execution_count": 194,
   "metadata": {},
   "outputs": [
    {
     "data": {
      "text/html": [
       "<div>\n",
       "<style>\n",
       "    .dataframe thead tr:only-child th {\n",
       "        text-align: right;\n",
       "    }\n",
       "\n",
       "    .dataframe thead th {\n",
       "        text-align: left;\n",
       "    }\n",
       "\n",
       "    .dataframe tbody tr th {\n",
       "        vertical-align: top;\n",
       "    }\n",
       "</style>\n",
       "<table border=\"1\" class=\"dataframe\">\n",
       "  <thead>\n",
       "    <tr style=\"text-align: right;\">\n",
       "      <th></th>\n",
       "      <th>HomeValueSingle</th>\n",
       "      <th>HomeValueCondo</th>\n",
       "      <th>Juniper</th>\n",
       "    </tr>\n",
       "  </thead>\n",
       "  <tbody>\n",
       "    <tr>\n",
       "      <th>2015-01</th>\n",
       "      <td>1348600.00</td>\n",
       "      <td>787300.00</td>\n",
       "      <td>22.24</td>\n",
       "    </tr>\n",
       "    <tr>\n",
       "      <th>2015-02</th>\n",
       "      <td>1371000.00</td>\n",
       "      <td>797300.00</td>\n",
       "      <td>23.64</td>\n",
       "    </tr>\n",
       "    <tr>\n",
       "      <th>2015-03</th>\n",
       "      <td>1395900.00</td>\n",
       "      <td>809100.00</td>\n",
       "      <td>23.34</td>\n",
       "    </tr>\n",
       "    <tr>\n",
       "      <th>2015-04</th>\n",
       "      <td>1424200.00</td>\n",
       "      <td>822100.00</td>\n",
       "      <td>24.34</td>\n",
       "    </tr>\n",
       "    <tr>\n",
       "      <th>2015-05</th>\n",
       "      <td>1456900.00</td>\n",
       "      <td>838100.00</td>\n",
       "      <td>27.26</td>\n",
       "    </tr>\n",
       "  </tbody>\n",
       "</table>\n",
       "</div>"
      ],
      "text/plain": [
       "         HomeValueSingle  HomeValueCondo  Juniper\n",
       "2015-01       1348600.00       787300.00    22.24\n",
       "2015-02       1371000.00       797300.00    23.64\n",
       "2015-03       1395900.00       809100.00    23.34\n",
       "2015-04       1424200.00       822100.00    24.34\n",
       "2015-05       1456900.00       838100.00    27.26"
      ]
     },
     "execution_count": 194,
     "metadata": {},
     "output_type": "execute_result"
    }
   ],
   "source": [
    "# re-format the date before joining\n",
    "Juniper.index = Juniper.index.strftime('%Y-%m')\n",
    "\n",
    "# Concatenate stock with SV home value\n",
    "JP1 = pd.concat([JP, Juniper], axis=1)\n",
    "JP1.head()"
   ]
  },
  {
   "cell_type": "markdown",
   "metadata": {},
   "source": [
    "###### Getting stock and home values for Menlo Park"
   ]
  },
  {
   "cell_type": "code",
   "execution_count": 195,
   "metadata": {},
   "outputs": [
    {
     "data": {
      "text/html": [
       "<div>\n",
       "<style>\n",
       "    .dataframe thead tr:only-child th {\n",
       "        text-align: right;\n",
       "    }\n",
       "\n",
       "    .dataframe thead th {\n",
       "        text-align: left;\n",
       "    }\n",
       "\n",
       "    .dataframe tbody tr th {\n",
       "        vertical-align: top;\n",
       "    }\n",
       "</style>\n",
       "<table border=\"1\" class=\"dataframe\">\n",
       "  <thead>\n",
       "    <tr style=\"text-align: right;\">\n",
       "      <th></th>\n",
       "      <th>HomeValueSingle</th>\n",
       "      <th>HomeValueCondo</th>\n",
       "    </tr>\n",
       "  </thead>\n",
       "  <tbody>\n",
       "    <tr>\n",
       "      <th>2015-01</th>\n",
       "      <td>1865200</td>\n",
       "      <td>594500.00</td>\n",
       "    </tr>\n",
       "    <tr>\n",
       "      <th>2015-02</th>\n",
       "      <td>1900700</td>\n",
       "      <td>601300.00</td>\n",
       "    </tr>\n",
       "    <tr>\n",
       "      <th>2015-03</th>\n",
       "      <td>1938200</td>\n",
       "      <td>611500.00</td>\n",
       "    </tr>\n",
       "    <tr>\n",
       "      <th>2015-04</th>\n",
       "      <td>1970300</td>\n",
       "      <td>625300.00</td>\n",
       "    </tr>\n",
       "    <tr>\n",
       "      <th>2015-05</th>\n",
       "      <td>1998800</td>\n",
       "      <td>640600.00</td>\n",
       "    </tr>\n",
       "  </tbody>\n",
       "</table>\n",
       "</div>"
      ],
      "text/plain": [
       "         HomeValueSingle  HomeValueCondo\n",
       "2015-01          1865200       594500.00\n",
       "2015-02          1900700       601300.00\n",
       "2015-03          1938200       611500.00\n",
       "2015-04          1970300       625300.00\n",
       "2015-05          1998800       640600.00"
      ]
     },
     "execution_count": 195,
     "metadata": {},
     "output_type": "execute_result"
    }
   ],
   "source": [
    "# Single Home\n",
    "mp=single[(single['RegionName']=='Menlo Park') & (single['State']=='CA')]\n",
    "mpsingle=mp.loc[:,[ '2015-01', '2015-02', '2015-03', '2015-04', '2015-05', '2015-06',\n",
    "       '2015-07', '2015-08', '2015-09', '2015-10', '2015-11', '2015-12',\n",
    "       '2016-01', '2016-02', '2016-03', '2016-04', '2016-05', '2016-06',\n",
    "       '2016-07', '2016-08', '2016-09', '2016-10', '2016-11', '2016-12',\n",
    "       '2017-01', '2017-02', '2017-03', '2017-04', '2017-05', '2017-06',\n",
    "       '2017-07', '2017-08', '2017-09', '2017-10', '2017-11', '2017-12',\n",
    "       '2018-01']]\n",
    "mpsingle.columns = pd.to_datetime(mpsingle.columns,format='%Y%m', errors='ignore')\n",
    "mpsingle=mpsingle.transpose()\n",
    "mpsingle.columns=['HomeValueSingle']\n",
    "\n",
    "# Condo Home\n",
    "mp1=condo[(condo['RegionName']=='Menlo Park') & (condo['State']=='CA')]\n",
    "mpcondo=sc1.loc[:,[ '2015-01', '2015-02', '2015-03', '2015-04', '2015-05', '2015-06',\n",
    "       '2015-07', '2015-08', '2015-09', '2015-10', '2015-11', '2015-12',\n",
    "       '2016-01', '2016-02', '2016-03', '2016-04', '2016-05', '2016-06',\n",
    "       '2016-07', '2016-08', '2016-09', '2016-10', '2016-11', '2016-12',\n",
    "       '2017-01', '2017-02', '2017-03', '2017-04', '2017-05', '2017-06',\n",
    "       '2017-07', '2017-08', '2017-09', '2017-10', '2017-11', '2017-12',\n",
    "       '2018-01']]\n",
    "mpcondo.columns = pd.to_datetime(mpcondo.columns,format='%Y%m', errors='ignore')\n",
    "mpcondo=mpcondo.transpose()\n",
    "mpcondo.columns=['HomeValueCondo']\n",
    "\n",
    "# Concatenate MP home value single+condo\n",
    "FB = pd.concat([mpsingle, mpcondo], axis=1)\n",
    "FB.index = pd.to_datetime(FB.index,format='%Y%m', errors='ignore')\n",
    "FB.head()"
   ]
  },
  {
   "cell_type": "code",
   "execution_count": 196,
   "metadata": {},
   "outputs": [
    {
     "data": {
      "text/html": [
       "<div>\n",
       "<style>\n",
       "    .dataframe thead tr:only-child th {\n",
       "        text-align: right;\n",
       "    }\n",
       "\n",
       "    .dataframe thead th {\n",
       "        text-align: left;\n",
       "    }\n",
       "\n",
       "    .dataframe tbody tr th {\n",
       "        vertical-align: top;\n",
       "    }\n",
       "</style>\n",
       "<table border=\"1\" class=\"dataframe\">\n",
       "  <thead>\n",
       "    <tr style=\"text-align: right;\">\n",
       "      <th></th>\n",
       "      <th>HomeValueSingle</th>\n",
       "      <th>HomeValueCondo</th>\n",
       "      <th>Facebook</th>\n",
       "    </tr>\n",
       "  </thead>\n",
       "  <tbody>\n",
       "    <tr>\n",
       "      <th>2015-01</th>\n",
       "      <td>1865200.00</td>\n",
       "      <td>594500.00</td>\n",
       "      <td>76.72</td>\n",
       "    </tr>\n",
       "    <tr>\n",
       "      <th>2015-02</th>\n",
       "      <td>1900700.00</td>\n",
       "      <td>601300.00</td>\n",
       "      <td>76.95</td>\n",
       "    </tr>\n",
       "    <tr>\n",
       "      <th>2015-03</th>\n",
       "      <td>1938200.00</td>\n",
       "      <td>611500.00</td>\n",
       "      <td>81.01</td>\n",
       "    </tr>\n",
       "    <tr>\n",
       "      <th>2015-04</th>\n",
       "      <td>1970300.00</td>\n",
       "      <td>625300.00</td>\n",
       "      <td>82.09</td>\n",
       "    </tr>\n",
       "    <tr>\n",
       "      <th>2015-05</th>\n",
       "      <td>1998800.00</td>\n",
       "      <td>640600.00</td>\n",
       "      <td>79.42</td>\n",
       "    </tr>\n",
       "  </tbody>\n",
       "</table>\n",
       "</div>"
      ],
      "text/plain": [
       "         HomeValueSingle  HomeValueCondo  Facebook\n",
       "2015-01       1865200.00       594500.00     76.72\n",
       "2015-02       1900700.00       601300.00     76.95\n",
       "2015-03       1938200.00       611500.00     81.01\n",
       "2015-04       1970300.00       625300.00     82.09\n",
       "2015-05       1998800.00       640600.00     79.42"
      ]
     },
     "execution_count": 196,
     "metadata": {},
     "output_type": "execute_result"
    }
   ],
   "source": [
    "# re-format the date before joining\n",
    "Facebook.index = Facebook.index.strftime('%Y-%m')\n",
    "\n",
    "# Concatenate stock with MP home value\n",
    "FB1 = pd.concat([FB, Facebook], axis=1)\n",
    "FB1.head()"
   ]
  },
  {
   "cell_type": "markdown",
   "metadata": {},
   "source": [
    "###### Getting stock and home values for Mountain View"
   ]
  },
  {
   "cell_type": "code",
   "execution_count": 200,
   "metadata": {},
   "outputs": [
    {
     "data": {
      "text/html": [
       "<div>\n",
       "<style>\n",
       "    .dataframe thead tr:only-child th {\n",
       "        text-align: right;\n",
       "    }\n",
       "\n",
       "    .dataframe thead th {\n",
       "        text-align: left;\n",
       "    }\n",
       "\n",
       "    .dataframe tbody tr th {\n",
       "        vertical-align: top;\n",
       "    }\n",
       "</style>\n",
       "<table border=\"1\" class=\"dataframe\">\n",
       "  <thead>\n",
       "    <tr style=\"text-align: right;\">\n",
       "      <th></th>\n",
       "      <th>HomeValueSingle</th>\n",
       "      <th>HomeValueCondo</th>\n",
       "    </tr>\n",
       "  </thead>\n",
       "  <tbody>\n",
       "    <tr>\n",
       "      <th>2015-01</th>\n",
       "      <td>1484200</td>\n",
       "      <td>815600.00</td>\n",
       "    </tr>\n",
       "    <tr>\n",
       "      <th>2015-02</th>\n",
       "      <td>1518300</td>\n",
       "      <td>827700.00</td>\n",
       "    </tr>\n",
       "    <tr>\n",
       "      <th>2015-03</th>\n",
       "      <td>1553000</td>\n",
       "      <td>843300.00</td>\n",
       "    </tr>\n",
       "    <tr>\n",
       "      <th>2015-04</th>\n",
       "      <td>1590200</td>\n",
       "      <td>862100.00</td>\n",
       "    </tr>\n",
       "    <tr>\n",
       "      <th>2015-05</th>\n",
       "      <td>1623500</td>\n",
       "      <td>883800.00</td>\n",
       "    </tr>\n",
       "  </tbody>\n",
       "</table>\n",
       "</div>"
      ],
      "text/plain": [
       "         HomeValueSingle  HomeValueCondo\n",
       "2015-01          1484200       815600.00\n",
       "2015-02          1518300       827700.00\n",
       "2015-03          1553000       843300.00\n",
       "2015-04          1590200       862100.00\n",
       "2015-05          1623500       883800.00"
      ]
     },
     "execution_count": 200,
     "metadata": {},
     "output_type": "execute_result"
    }
   ],
   "source": [
    "# Single Home\n",
    "mv=single[(single['RegionName']=='Mountain View') & (single['State']=='CA')]\n",
    "mvsingle=mv.loc[:,[ '2015-01', '2015-02', '2015-03', '2015-04', '2015-05', '2015-06',\n",
    "       '2015-07', '2015-08', '2015-09', '2015-10', '2015-11', '2015-12',\n",
    "       '2016-01', '2016-02', '2016-03', '2016-04', '2016-05', '2016-06',\n",
    "       '2016-07', '2016-08', '2016-09', '2016-10', '2016-11', '2016-12',\n",
    "       '2017-01', '2017-02', '2017-03', '2017-04', '2017-05', '2017-06',\n",
    "       '2017-07', '2017-08', '2017-09', '2017-10', '2017-11', '2017-12',\n",
    "       '2018-01']]\n",
    "mvsingle.columns = pd.to_datetime(mvsingle.columns,format='%Y%m', errors='ignore')\n",
    "mvsingle=mvsingle.transpose()\n",
    "mvsingle.columns=['HomeValueSingle']\n",
    "\n",
    "# Condo Home\n",
    "mv1=condo[(condo['RegionName']=='Mountain View') & (condo['State']=='CA')]\n",
    "mvcondo=mv1.loc[:,[ '2015-01', '2015-02', '2015-03', '2015-04', '2015-05', '2015-06',\n",
    "       '2015-07', '2015-08', '2015-09', '2015-10', '2015-11', '2015-12',\n",
    "       '2016-01', '2016-02', '2016-03', '2016-04', '2016-05', '2016-06',\n",
    "       '2016-07', '2016-08', '2016-09', '2016-10', '2016-11', '2016-12',\n",
    "       '2017-01', '2017-02', '2017-03', '2017-04', '2017-05', '2017-06',\n",
    "       '2017-07', '2017-08', '2017-09', '2017-10', '2017-11', '2017-12',\n",
    "       '2018-01']]\n",
    "mvcondo.columns = pd.to_datetime(mvcondo.columns,format='%Y%m', errors='ignore')\n",
    "mvcondo=mvcondo.transpose()\n",
    "mvcondo.columns=['HomeValueCondo']\n",
    "# Concatenate MV home value single+condo\n",
    "GG = pd.concat([mvsingle, mvcondo], axis=1)\n",
    "GG.index = pd.to_datetime(GG.index,format='%Y%m', errors='ignore')\n",
    "GG.head()"
   ]
  },
  {
   "cell_type": "code",
   "execution_count": 201,
   "metadata": {},
   "outputs": [
    {
     "data": {
      "text/html": [
       "<div>\n",
       "<style>\n",
       "    .dataframe thead tr:only-child th {\n",
       "        text-align: right;\n",
       "    }\n",
       "\n",
       "    .dataframe thead th {\n",
       "        text-align: left;\n",
       "    }\n",
       "\n",
       "    .dataframe tbody tr th {\n",
       "        vertical-align: top;\n",
       "    }\n",
       "</style>\n",
       "<table border=\"1\" class=\"dataframe\">\n",
       "  <thead>\n",
       "    <tr style=\"text-align: right;\">\n",
       "      <th></th>\n",
       "      <th>HomeValueSingle</th>\n",
       "      <th>HomeValueCondo</th>\n",
       "      <th>Google</th>\n",
       "    </tr>\n",
       "  </thead>\n",
       "  <tbody>\n",
       "    <tr>\n",
       "      <th>2015-01</th>\n",
       "      <td>1484200.00</td>\n",
       "      <td>815600.00</td>\n",
       "      <td>515.92</td>\n",
       "    </tr>\n",
       "    <tr>\n",
       "      <th>2015-02</th>\n",
       "      <td>1518300.00</td>\n",
       "      <td>827700.00</td>\n",
       "      <td>540.99</td>\n",
       "    </tr>\n",
       "    <tr>\n",
       "      <th>2015-03</th>\n",
       "      <td>1553000.00</td>\n",
       "      <td>843300.00</td>\n",
       "      <td>565.97</td>\n",
       "    </tr>\n",
       "    <tr>\n",
       "      <th>2015-04</th>\n",
       "      <td>1590200.00</td>\n",
       "      <td>862100.00</td>\n",
       "      <td>549.48</td>\n",
       "    </tr>\n",
       "    <tr>\n",
       "      <th>2015-05</th>\n",
       "      <td>1623500.00</td>\n",
       "      <td>883800.00</td>\n",
       "      <td>547.68</td>\n",
       "    </tr>\n",
       "  </tbody>\n",
       "</table>\n",
       "</div>"
      ],
      "text/plain": [
       "         HomeValueSingle  HomeValueCondo  Google\n",
       "2015-01       1484200.00       815600.00  515.92\n",
       "2015-02       1518300.00       827700.00  540.99\n",
       "2015-03       1553000.00       843300.00  565.97\n",
       "2015-04       1590200.00       862100.00  549.48\n",
       "2015-05       1623500.00       883800.00  547.68"
      ]
     },
     "execution_count": 201,
     "metadata": {},
     "output_type": "execute_result"
    }
   ],
   "source": [
    "# re-format the date before joining\n",
    "Google.index = Google.index.strftime('%Y-%m')\n",
    "\n",
    "# Concatenate stock with MV home value\n",
    "GG1 = pd.concat([GG, Google], axis=1)\n",
    "GG1.head()"
   ]
  },
  {
   "cell_type": "markdown",
   "metadata": {},
   "source": [
    "#### Find Correlation Between Home Value and Stock Prices"
   ]
  },
  {
   "cell_type": "markdown",
   "metadata": {},
   "source": [
    "Facebook-Menlo Park Correlation"
   ]
  },
  {
   "cell_type": "markdown",
   "metadata": {},
   "source": [
    "###### Normalize data"
   ]
  },
  {
   "cell_type": "code",
   "execution_count": 203,
   "metadata": {},
   "outputs": [
    {
     "data": {
      "text/html": [
       "<div>\n",
       "<style>\n",
       "    .dataframe thead tr:only-child th {\n",
       "        text-align: right;\n",
       "    }\n",
       "\n",
       "    .dataframe thead th {\n",
       "        text-align: left;\n",
       "    }\n",
       "\n",
       "    .dataframe tbody tr th {\n",
       "        vertical-align: top;\n",
       "    }\n",
       "</style>\n",
       "<table border=\"1\" class=\"dataframe\">\n",
       "  <thead>\n",
       "    <tr style=\"text-align: right;\">\n",
       "      <th></th>\n",
       "      <th>HomeValueSingle</th>\n",
       "      <th>HomeValueCondo</th>\n",
       "      <th>Facebook</th>\n",
       "      <th>normst</th>\n",
       "      <th>normsh</th>\n",
       "      <th>normch</th>\n",
       "    </tr>\n",
       "  </thead>\n",
       "  <tbody>\n",
       "    <tr>\n",
       "      <th>2015-01</th>\n",
       "      <td>1865200.00</td>\n",
       "      <td>594500.00</td>\n",
       "      <td>76.72</td>\n",
       "      <td>-0.45</td>\n",
       "      <td>-0.41</td>\n",
       "      <td>-0.42</td>\n",
       "    </tr>\n",
       "    <tr>\n",
       "      <th>2015-02</th>\n",
       "      <td>1900700.00</td>\n",
       "      <td>601300.00</td>\n",
       "      <td>76.95</td>\n",
       "      <td>-0.45</td>\n",
       "      <td>-0.34</td>\n",
       "      <td>-0.40</td>\n",
       "    </tr>\n",
       "    <tr>\n",
       "      <th>2015-03</th>\n",
       "      <td>1938200.00</td>\n",
       "      <td>611500.00</td>\n",
       "      <td>81.01</td>\n",
       "      <td>-0.41</td>\n",
       "      <td>-0.27</td>\n",
       "      <td>-0.37</td>\n",
       "    </tr>\n",
       "    <tr>\n",
       "      <th>2015-04</th>\n",
       "      <td>1970300.00</td>\n",
       "      <td>625300.00</td>\n",
       "      <td>82.09</td>\n",
       "      <td>-0.40</td>\n",
       "      <td>-0.21</td>\n",
       "      <td>-0.33</td>\n",
       "    </tr>\n",
       "    <tr>\n",
       "      <th>2015-05</th>\n",
       "      <td>1998800.00</td>\n",
       "      <td>640600.00</td>\n",
       "      <td>79.42</td>\n",
       "      <td>-0.42</td>\n",
       "      <td>-0.16</td>\n",
       "      <td>-0.28</td>\n",
       "    </tr>\n",
       "  </tbody>\n",
       "</table>\n",
       "</div>"
      ],
      "text/plain": [
       "         HomeValueSingle  HomeValueCondo  Facebook  normst  normsh  normch\n",
       "2015-01       1865200.00       594500.00     76.72   -0.45   -0.41   -0.42\n",
       "2015-02       1900700.00       601300.00     76.95   -0.45   -0.34   -0.40\n",
       "2015-03       1938200.00       611500.00     81.01   -0.41   -0.27   -0.37\n",
       "2015-04       1970300.00       625300.00     82.09   -0.40   -0.21   -0.33\n",
       "2015-05       1998800.00       640600.00     79.42   -0.42   -0.16   -0.28"
      ]
     },
     "execution_count": 203,
     "metadata": {},
     "output_type": "execute_result"
    }
   ],
   "source": [
    "FB2=FB1.copy()\n",
    "FB2['normst']=(FB2['Facebook']-FB2['Facebook'].mean())/(FB2['Facebook'].max()-FB2['Facebook'].min())\n",
    "FB2['normsh']=(FB2['HomeValueSingle']-FB2['HomeValueSingle'].mean())/(FB2['HomeValueSingle'].max()-FB2['HomeValueSingle'].min())\n",
    "FB2['normch']=(FB2['HomeValueCondo']-FB2['HomeValueCondo'].mean())/(FB2['HomeValueCondo'].max()-FB2['HomeValueCondo'].min())\n",
    "\n",
    "FB2.head()"
   ]
  },
  {
   "cell_type": "code",
   "execution_count": 204,
   "metadata": {},
   "outputs": [
    {
     "data": {
      "image/png": "[encoded data removed]",
      "text/plain": [
       "<matplotlib.figure.Figure at 0x27539b70320>"
      ]
     },
     "metadata": {},
     "output_type": "display_data"
    }
   ],
   "source": [
    "%matplotlib inline\n",
    "FB2[['normst','normsh','normch']].plot();"
   ]
  },
  {
   "cell_type": "code",
   "execution_count": 206,
   "metadata": {},
   "outputs": [
    {
     "data": {
      "text/html": [
       "<div>\n",
       "<style>\n",
       "    .dataframe thead tr:only-child th {\n",
       "        text-align: right;\n",
       "    }\n",
       "\n",
       "    .dataframe thead th {\n",
       "        text-align: left;\n",
       "    }\n",
       "\n",
       "    .dataframe tbody tr th {\n",
       "        vertical-align: top;\n",
       "    }\n",
       "</style>\n",
       "<table border=\"1\" class=\"dataframe\">\n",
       "  <thead>\n",
       "    <tr style=\"text-align: right;\">\n",
       "      <th></th>\n",
       "      <th>HomeValueSingle</th>\n",
       "      <th>HomeValueCondo</th>\n",
       "      <th>Facebook</th>\n",
       "    </tr>\n",
       "  </thead>\n",
       "  <tbody>\n",
       "    <tr>\n",
       "      <th>HomeValueSingle</th>\n",
       "      <td>1.00</td>\n",
       "      <td>0.90</td>\n",
       "      <td>0.82</td>\n",
       "    </tr>\n",
       "    <tr>\n",
       "      <th>HomeValueCondo</th>\n",
       "      <td>0.90</td>\n",
       "      <td>1.00</td>\n",
       "      <td>0.98</td>\n",
       "    </tr>\n",
       "    <tr>\n",
       "      <th>Facebook</th>\n",
       "      <td>0.82</td>\n",
       "      <td>0.98</td>\n",
       "      <td>1.00</td>\n",
       "    </tr>\n",
       "  </tbody>\n",
       "</table>\n",
       "</div>"
      ],
      "text/plain": [
       "                 HomeValueSingle  HomeValueCondo  Facebook\n",
       "HomeValueSingle             1.00            0.90      0.82\n",
       "HomeValueCondo              0.90            1.00      0.98\n",
       "Facebook                    0.82            0.98      1.00"
      ]
     },
     "execution_count": 206,
     "metadata": {},
     "output_type": "execute_result"
    }
   ],
   "source": [
    "FB2[['HomeValueSingle','HomeValueCondo','Facebook']].corr()"
   ]
  },
  {
   "cell_type": "markdown",
   "metadata": {},
   "source": [
    "###### Juniper-Sunnyvale Correlation"
   ]
  },
  {
   "cell_type": "code",
   "execution_count": 211,
   "metadata": {
    "scrolled": true
   },
   "outputs": [
    {
     "data": {
      "text/html": [
       "<div>\n",
       "<style>\n",
       "    .dataframe thead tr:only-child th {\n",
       "        text-align: right;\n",
       "    }\n",
       "\n",
       "    .dataframe thead th {\n",
       "        text-align: left;\n",
       "    }\n",
       "\n",
       "    .dataframe tbody tr th {\n",
       "        vertical-align: top;\n",
       "    }\n",
       "</style>\n",
       "<table border=\"1\" class=\"dataframe\">\n",
       "  <thead>\n",
       "    <tr style=\"text-align: right;\">\n",
       "      <th></th>\n",
       "      <th>HomeValueSingle</th>\n",
       "      <th>HomeValueCondo</th>\n",
       "      <th>Juniper</th>\n",
       "      <th>normst</th>\n",
       "      <th>normsh</th>\n",
       "      <th>normch</th>\n",
       "    </tr>\n",
       "  </thead>\n",
       "  <tbody>\n",
       "    <tr>\n",
       "      <th>2015-01</th>\n",
       "      <td>1348600.00</td>\n",
       "      <td>787300.00</td>\n",
       "      <td>22.24</td>\n",
       "      <td>-0.50</td>\n",
       "      <td>-0.40</td>\n",
       "      <td>-0.39</td>\n",
       "    </tr>\n",
       "    <tr>\n",
       "      <th>2015-02</th>\n",
       "      <td>1371000.00</td>\n",
       "      <td>797300.00</td>\n",
       "      <td>23.64</td>\n",
       "      <td>-0.33</td>\n",
       "      <td>-0.37</td>\n",
       "      <td>-0.36</td>\n",
       "    </tr>\n",
       "    <tr>\n",
       "      <th>2015-03</th>\n",
       "      <td>1395900.00</td>\n",
       "      <td>809100.00</td>\n",
       "      <td>23.34</td>\n",
       "      <td>-0.36</td>\n",
       "      <td>-0.33</td>\n",
       "      <td>-0.34</td>\n",
       "    </tr>\n",
       "    <tr>\n",
       "      <th>2015-04</th>\n",
       "      <td>1424200.00</td>\n",
       "      <td>822100.00</td>\n",
       "      <td>24.34</td>\n",
       "      <td>-0.24</td>\n",
       "      <td>-0.28</td>\n",
       "      <td>-0.30</td>\n",
       "    </tr>\n",
       "    <tr>\n",
       "      <th>2015-05</th>\n",
       "      <td>1456900.00</td>\n",
       "      <td>838100.00</td>\n",
       "      <td>27.26</td>\n",
       "      <td>0.12</td>\n",
       "      <td>-0.23</td>\n",
       "      <td>-0.27</td>\n",
       "    </tr>\n",
       "  </tbody>\n",
       "</table>\n",
       "</div>"
      ],
      "text/plain": [
       "         HomeValueSingle  HomeValueCondo  Juniper  normst  normsh  normch\n",
       "2015-01       1348600.00       787300.00    22.24   -0.50   -0.40   -0.39\n",
       "2015-02       1371000.00       797300.00    23.64   -0.33   -0.37   -0.36\n",
       "2015-03       1395900.00       809100.00    23.34   -0.36   -0.33   -0.34\n",
       "2015-04       1424200.00       822100.00    24.34   -0.24   -0.28   -0.30\n",
       "2015-05       1456900.00       838100.00    27.26    0.12   -0.23   -0.27"
      ]
     },
     "execution_count": 211,
     "metadata": {},
     "output_type": "execute_result"
    }
   ],
   "source": [
    "# Normalize data\n",
    "\n",
    "JP2=JP1.copy()\n",
    "JP2['normst']=(JP2['Juniper']-JP2['Juniper'].mean())/(JP2['Juniper'].max()-JP2['Juniper'].min())\n",
    "JP2['normsh']=(JP2['HomeValueSingle']-JP2['HomeValueSingle'].mean())/(JP2['HomeValueSingle'].max()-JP2['HomeValueSingle'].min())\n",
    "JP2['normch']=(JP2['HomeValueCondo']-JP2['HomeValueCondo'].mean())/(JP2['HomeValueCondo'].max()-JP2['HomeValueCondo'].min())\n",
    "\n",
    "JP2.head()"
   ]
  },
  {
   "cell_type": "code",
   "execution_count": 209,
   "metadata": {},
   "outputs": [
    {
     "data": {
      "image/png": "[encoded data removed]",
      "text/plain": [
       "<matplotlib.figure.Figure at 0x2753af79eb8>"
      ]
     },
     "metadata": {},
     "output_type": "display_data"
    }
   ],
   "source": [
    "JP2[['normst','normsh','normch']].plot();"
   ]
  },
  {
   "cell_type": "code",
   "execution_count": 210,
   "metadata": {},
   "outputs": [
    {
     "data": {
      "text/html": [
       "<div>\n",
       "<style>\n",
       "    .dataframe thead tr:only-child th {\n",
       "        text-align: right;\n",
       "    }\n",
       "\n",
       "    .dataframe thead th {\n",
       "        text-align: left;\n",
       "    }\n",
       "\n",
       "    .dataframe tbody tr th {\n",
       "        vertical-align: top;\n",
       "    }\n",
       "</style>\n",
       "<table border=\"1\" class=\"dataframe\">\n",
       "  <thead>\n",
       "    <tr style=\"text-align: right;\">\n",
       "      <th></th>\n",
       "      <th>HomeValueSingle</th>\n",
       "      <th>HomeValueCondo</th>\n",
       "      <th>Juniper</th>\n",
       "    </tr>\n",
       "  </thead>\n",
       "  <tbody>\n",
       "    <tr>\n",
       "      <th>HomeValueSingle</th>\n",
       "      <td>1.00</td>\n",
       "      <td>1.00</td>\n",
       "      <td>0.47</td>\n",
       "    </tr>\n",
       "    <tr>\n",
       "      <th>HomeValueCondo</th>\n",
       "      <td>1.00</td>\n",
       "      <td>1.00</td>\n",
       "      <td>0.43</td>\n",
       "    </tr>\n",
       "    <tr>\n",
       "      <th>Juniper</th>\n",
       "      <td>0.47</td>\n",
       "      <td>0.43</td>\n",
       "      <td>1.00</td>\n",
       "    </tr>\n",
       "  </tbody>\n",
       "</table>\n",
       "</div>"
      ],
      "text/plain": [
       "                 HomeValueSingle  HomeValueCondo  Juniper\n",
       "HomeValueSingle             1.00            1.00     0.47\n",
       "HomeValueCondo              1.00            1.00     0.43\n",
       "Juniper                     0.47            0.43     1.00"
      ]
     },
     "execution_count": 210,
     "metadata": {},
     "output_type": "execute_result"
    }
   ],
   "source": [
    "JP2[['HomeValueSingle','HomeValueCondo','Juniper']].corr()"
   ]
  },
  {
   "cell_type": "markdown",
   "metadata": {},
   "source": [
    "As seen, Juniper stock prices have a lower correlation with Single Homes and Condos"
   ]
  },
  {
   "cell_type": "markdown",
   "metadata": {},
   "source": [
    "###### Cisco-San Jose Correlation "
   ]
  },
  {
   "cell_type": "code",
   "execution_count": 212,
   "metadata": {},
   "outputs": [
    {
     "data": {
      "text/html": [
       "<div>\n",
       "<style>\n",
       "    .dataframe thead tr:only-child th {\n",
       "        text-align: right;\n",
       "    }\n",
       "\n",
       "    .dataframe thead th {\n",
       "        text-align: left;\n",
       "    }\n",
       "\n",
       "    .dataframe tbody tr th {\n",
       "        vertical-align: top;\n",
       "    }\n",
       "</style>\n",
       "<table border=\"1\" class=\"dataframe\">\n",
       "  <thead>\n",
       "    <tr style=\"text-align: right;\">\n",
       "      <th></th>\n",
       "      <th>HomeValueSingle</th>\n",
       "      <th>HomeValueCondo</th>\n",
       "      <th>Cisco</th>\n",
       "      <th>normst</th>\n",
       "      <th>normsh</th>\n",
       "      <th>normch</th>\n",
       "    </tr>\n",
       "  </thead>\n",
       "  <tbody>\n",
       "    <tr>\n",
       "      <th>2015-01</th>\n",
       "      <td>783800.00</td>\n",
       "      <td>594500.00</td>\n",
       "      <td>27.57</td>\n",
       "      <td>-0.16</td>\n",
       "      <td>-0.38</td>\n",
       "      <td>-0.42</td>\n",
       "    </tr>\n",
       "    <tr>\n",
       "      <th>2015-02</th>\n",
       "      <td>793000.00</td>\n",
       "      <td>601300.00</td>\n",
       "      <td>28.50</td>\n",
       "      <td>-0.12</td>\n",
       "      <td>-0.35</td>\n",
       "      <td>-0.40</td>\n",
       "    </tr>\n",
       "    <tr>\n",
       "      <th>2015-03</th>\n",
       "      <td>803700.00</td>\n",
       "      <td>611500.00</td>\n",
       "      <td>28.38</td>\n",
       "      <td>-0.12</td>\n",
       "      <td>-0.32</td>\n",
       "      <td>-0.37</td>\n",
       "    </tr>\n",
       "    <tr>\n",
       "      <th>2015-04</th>\n",
       "      <td>815100.00</td>\n",
       "      <td>625300.00</td>\n",
       "      <td>28.20</td>\n",
       "      <td>-0.13</td>\n",
       "      <td>-0.29</td>\n",
       "      <td>-0.33</td>\n",
       "    </tr>\n",
       "    <tr>\n",
       "      <th>2015-05</th>\n",
       "      <td>826200.00</td>\n",
       "      <td>640600.00</td>\n",
       "      <td>29.27</td>\n",
       "      <td>-0.08</td>\n",
       "      <td>-0.25</td>\n",
       "      <td>-0.28</td>\n",
       "    </tr>\n",
       "  </tbody>\n",
       "</table>\n",
       "</div>"
      ],
      "text/plain": [
       "         HomeValueSingle  HomeValueCondo  Cisco  normst  normsh  normch\n",
       "2015-01        783800.00       594500.00  27.57   -0.16   -0.38   -0.42\n",
       "2015-02        793000.00       601300.00  28.50   -0.12   -0.35   -0.40\n",
       "2015-03        803700.00       611500.00  28.38   -0.12   -0.32   -0.37\n",
       "2015-04        815100.00       625300.00  28.20   -0.13   -0.29   -0.33\n",
       "2015-05        826200.00       640600.00  29.27   -0.08   -0.25   -0.28"
      ]
     },
     "execution_count": 212,
     "metadata": {},
     "output_type": "execute_result"
    }
   ],
   "source": [
    "# Normalize data\n",
    "CS2=CS1.copy()\n",
    "CS2['normst']=(CS2['Cisco']-CS2['Cisco'].mean())/(CS2['Cisco'].max()-CS2['Cisco'].min())\n",
    "CS2['normsh']=(CS2['HomeValueSingle']-CS2['HomeValueSingle'].mean())/(CS2['HomeValueSingle'].max()-CS2['HomeValueSingle'].min())\n",
    "CS2['normch']=(CS2['HomeValueCondo']-CS2['HomeValueCondo'].mean())/(CS2['HomeValueCondo'].max()-CS2['HomeValueCondo'].min())\n",
    "CS2.head()"
   ]
  },
  {
   "cell_type": "code",
   "execution_count": 213,
   "metadata": {},
   "outputs": [
    {
     "data": {
      "image/png": "[encoded data removed]",
      "text/plain": [
       "<matplotlib.figure.Figure at 0x2753af79cc0>"
      ]
     },
     "metadata": {},
     "output_type": "display_data"
    }
   ],
   "source": [
    "CS2[['normst','normsh','normch']].plot();"
   ]
  },
  {
   "cell_type": "code",
   "execution_count": 214,
   "metadata": {},
   "outputs": [
    {
     "data": {
      "text/html": [
       "<div>\n",
       "<style>\n",
       "    .dataframe thead tr:only-child th {\n",
       "        text-align: right;\n",
       "    }\n",
       "\n",
       "    .dataframe thead th {\n",
       "        text-align: left;\n",
       "    }\n",
       "\n",
       "    .dataframe tbody tr th {\n",
       "        vertical-align: top;\n",
       "    }\n",
       "</style>\n",
       "<table border=\"1\" class=\"dataframe\">\n",
       "  <thead>\n",
       "    <tr style=\"text-align: right;\">\n",
       "      <th></th>\n",
       "      <th>HomeValueSingle</th>\n",
       "      <th>HomeValueCondo</th>\n",
       "      <th>Cisco</th>\n",
       "    </tr>\n",
       "  </thead>\n",
       "  <tbody>\n",
       "    <tr>\n",
       "      <th>HomeValueSingle</th>\n",
       "      <td>1.00</td>\n",
       "      <td>1.00</td>\n",
       "      <td>0.86</td>\n",
       "    </tr>\n",
       "    <tr>\n",
       "      <th>HomeValueCondo</th>\n",
       "      <td>1.00</td>\n",
       "      <td>1.00</td>\n",
       "      <td>0.82</td>\n",
       "    </tr>\n",
       "    <tr>\n",
       "      <th>Cisco</th>\n",
       "      <td>0.86</td>\n",
       "      <td>0.82</td>\n",
       "      <td>1.00</td>\n",
       "    </tr>\n",
       "  </tbody>\n",
       "</table>\n",
       "</div>"
      ],
      "text/plain": [
       "                 HomeValueSingle  HomeValueCondo  Cisco\n",
       "HomeValueSingle             1.00            1.00   0.86\n",
       "HomeValueCondo              1.00            1.00   0.82\n",
       "Cisco                       0.86            0.82   1.00"
      ]
     },
     "execution_count": 214,
     "metadata": {},
     "output_type": "execute_result"
    }
   ],
   "source": [
    "CS2[['HomeValueSingle','HomeValueCondo','Cisco']].corr()"
   ]
  },
  {
   "cell_type": "markdown",
   "metadata": {},
   "source": [
    "###### Applied Materials-Santa Clara  Correlation "
   ]
  },
  {
   "cell_type": "code",
   "execution_count": 218,
   "metadata": {
    "scrolled": false
   },
   "outputs": [
    {
     "data": {
      "text/html": [
       "<div>\n",
       "<style>\n",
       "    .dataframe thead tr:only-child th {\n",
       "        text-align: right;\n",
       "    }\n",
       "\n",
       "    .dataframe thead th {\n",
       "        text-align: left;\n",
       "    }\n",
       "\n",
       "    .dataframe tbody tr th {\n",
       "        vertical-align: top;\n",
       "    }\n",
       "</style>\n",
       "<table border=\"1\" class=\"dataframe\">\n",
       "  <thead>\n",
       "    <tr style=\"text-align: right;\">\n",
       "      <th></th>\n",
       "      <th>AppliedMaterial</th>\n",
       "      <th>HomeValueSingle</th>\n",
       "      <th>HomeValueCondo</th>\n",
       "      <th>normst</th>\n",
       "      <th>normsh</th>\n",
       "      <th>normch</th>\n",
       "    </tr>\n",
       "  </thead>\n",
       "  <tbody>\n",
       "    <tr>\n",
       "      <th>2015-01</th>\n",
       "      <td>23.77</td>\n",
       "      <td>886300.00</td>\n",
       "      <td>594500.00</td>\n",
       "      <td>-0.18</td>\n",
       "      <td>-0.39</td>\n",
       "      <td>-0.42</td>\n",
       "    </tr>\n",
       "    <tr>\n",
       "      <th>2015-02</th>\n",
       "      <td>24.32</td>\n",
       "      <td>899000.00</td>\n",
       "      <td>601300.00</td>\n",
       "      <td>-0.16</td>\n",
       "      <td>-0.36</td>\n",
       "      <td>-0.40</td>\n",
       "    </tr>\n",
       "    <tr>\n",
       "      <th>2015-03</th>\n",
       "      <td>23.82</td>\n",
       "      <td>915700.00</td>\n",
       "      <td>611500.00</td>\n",
       "      <td>-0.18</td>\n",
       "      <td>-0.33</td>\n",
       "      <td>-0.37</td>\n",
       "    </tr>\n",
       "    <tr>\n",
       "      <th>2015-04</th>\n",
       "      <td>21.75</td>\n",
       "      <td>933700.00</td>\n",
       "      <td>625300.00</td>\n",
       "      <td>-0.22</td>\n",
       "      <td>-0.30</td>\n",
       "      <td>-0.33</td>\n",
       "    </tr>\n",
       "    <tr>\n",
       "      <th>2015-05</th>\n",
       "      <td>19.95</td>\n",
       "      <td>949600.00</td>\n",
       "      <td>640600.00</td>\n",
       "      <td>-0.26</td>\n",
       "      <td>-0.27</td>\n",
       "      <td>-0.28</td>\n",
       "    </tr>\n",
       "  </tbody>\n",
       "</table>\n",
       "</div>"
      ],
      "text/plain": [
       "         AppliedMaterial  HomeValueSingle  HomeValueCondo  normst  normsh  \\\n",
       "2015-01            23.77        886300.00       594500.00   -0.18   -0.39   \n",
       "2015-02            24.32        899000.00       601300.00   -0.16   -0.36   \n",
       "2015-03            23.82        915700.00       611500.00   -0.18   -0.33   \n",
       "2015-04            21.75        933700.00       625300.00   -0.22   -0.30   \n",
       "2015-05            19.95        949600.00       640600.00   -0.26   -0.27   \n",
       "\n",
       "         normch  \n",
       "2015-01   -0.42  \n",
       "2015-02   -0.40  \n",
       "2015-03   -0.37  \n",
       "2015-04   -0.33  \n",
       "2015-05   -0.28  "
      ]
     },
     "execution_count": 218,
     "metadata": {},
     "output_type": "execute_result"
    }
   ],
   "source": [
    "# Normalize data\n",
    "\n",
    "AM2=AM1.copy()\n",
    "AM2['normst']=(AM2['AppliedMaterial']-AM2['AppliedMaterial'].mean())/(AM2['AppliedMaterial'].max()-AM2['AppliedMaterial'].min())\n",
    "AM2['normsh']=(AM2['HomeValueSingle']-AM2['HomeValueSingle'].mean())/(AM2['HomeValueSingle'].max()-AM2['HomeValueSingle'].min())\n",
    "AM2['normch']=(AM2['HomeValueCondo']-AM2['HomeValueCondo'].mean())/(AM2['HomeValueCondo'].max()-AM2['HomeValueCondo'].min())\n",
    "AM2.head()"
   ]
  },
  {
   "cell_type": "code",
   "execution_count": 219,
   "metadata": {},
   "outputs": [
    {
     "data": {
      "image/png": "[encoded data removed]",
      "text/plain": [
       "<matplotlib.figure.Figure at 0x2753b0846d8>"
      ]
     },
     "metadata": {},
     "output_type": "display_data"
    }
   ],
   "source": [
    "AM2[['normst','normsh','normch']].plot();"
   ]
  },
  {
   "cell_type": "code",
   "execution_count": 220,
   "metadata": {},
   "outputs": [
    {
     "data": {
      "text/html": [
       "<div>\n",
       "<style>\n",
       "    .dataframe thead tr:only-child th {\n",
       "        text-align: right;\n",
       "    }\n",
       "\n",
       "    .dataframe thead th {\n",
       "        text-align: left;\n",
       "    }\n",
       "\n",
       "    .dataframe tbody tr th {\n",
       "        vertical-align: top;\n",
       "    }\n",
       "</style>\n",
       "<table border=\"1\" class=\"dataframe\">\n",
       "  <thead>\n",
       "    <tr style=\"text-align: right;\">\n",
       "      <th></th>\n",
       "      <th>HomeValueSingle</th>\n",
       "      <th>HomeValueCondo</th>\n",
       "      <th>AppliedMaterial</th>\n",
       "    </tr>\n",
       "  </thead>\n",
       "  <tbody>\n",
       "    <tr>\n",
       "      <th>HomeValueSingle</th>\n",
       "      <td>1.00</td>\n",
       "      <td>0.99</td>\n",
       "      <td>0.89</td>\n",
       "    </tr>\n",
       "    <tr>\n",
       "      <th>HomeValueCondo</th>\n",
       "      <td>0.99</td>\n",
       "      <td>1.00</td>\n",
       "      <td>0.88</td>\n",
       "    </tr>\n",
       "    <tr>\n",
       "      <th>AppliedMaterial</th>\n",
       "      <td>0.89</td>\n",
       "      <td>0.88</td>\n",
       "      <td>1.00</td>\n",
       "    </tr>\n",
       "  </tbody>\n",
       "</table>\n",
       "</div>"
      ],
      "text/plain": [
       "                 HomeValueSingle  HomeValueCondo  AppliedMaterial\n",
       "HomeValueSingle             1.00            0.99             0.89\n",
       "HomeValueCondo              0.99            1.00             0.88\n",
       "AppliedMaterial             0.89            0.88             1.00"
      ]
     },
     "execution_count": 220,
     "metadata": {},
     "output_type": "execute_result"
    }
   ],
   "source": [
    "AM2[['HomeValueSingle','HomeValueCondo','AppliedMaterial']].corr()"
   ]
  },
  {
   "cell_type": "markdown",
   "metadata": {},
   "source": [
    "###### Google-Mountain View Correlation "
   ]
  },
  {
   "cell_type": "code",
   "execution_count": 240,
   "metadata": {},
   "outputs": [
    {
     "data": {
      "text/html": [
       "<div>\n",
       "<style>\n",
       "    .dataframe thead tr:only-child th {\n",
       "        text-align: right;\n",
       "    }\n",
       "\n",
       "    .dataframe thead th {\n",
       "        text-align: left;\n",
       "    }\n",
       "\n",
       "    .dataframe tbody tr th {\n",
       "        vertical-align: top;\n",
       "    }\n",
       "</style>\n",
       "<table border=\"1\" class=\"dataframe\">\n",
       "  <thead>\n",
       "    <tr style=\"text-align: right;\">\n",
       "      <th></th>\n",
       "      <th>HomeValueSingle</th>\n",
       "      <th>HomeValueCondo</th>\n",
       "      <th>Google</th>\n",
       "      <th>normst</th>\n",
       "      <th>normsh</th>\n",
       "      <th>normch</th>\n",
       "    </tr>\n",
       "  </thead>\n",
       "  <tbody>\n",
       "    <tr>\n",
       "      <th>2015-01</th>\n",
       "      <td>1484200.00</td>\n",
       "      <td>815600.00</td>\n",
       "      <td>515.92</td>\n",
       "      <td>-0.46</td>\n",
       "      <td>-0.41</td>\n",
       "      <td>-0.44</td>\n",
       "    </tr>\n",
       "    <tr>\n",
       "      <th>2015-02</th>\n",
       "      <td>1518300.00</td>\n",
       "      <td>827700.00</td>\n",
       "      <td>540.99</td>\n",
       "      <td>-0.42</td>\n",
       "      <td>-0.36</td>\n",
       "      <td>-0.41</td>\n",
       "    </tr>\n",
       "    <tr>\n",
       "      <th>2015-03</th>\n",
       "      <td>1553000.00</td>\n",
       "      <td>843300.00</td>\n",
       "      <td>565.97</td>\n",
       "      <td>-0.38</td>\n",
       "      <td>-0.31</td>\n",
       "      <td>-0.38</td>\n",
       "    </tr>\n",
       "    <tr>\n",
       "      <th>2015-04</th>\n",
       "      <td>1590200.00</td>\n",
       "      <td>862100.00</td>\n",
       "      <td>549.48</td>\n",
       "      <td>-0.40</td>\n",
       "      <td>-0.26</td>\n",
       "      <td>-0.34</td>\n",
       "    </tr>\n",
       "    <tr>\n",
       "      <th>2015-05</th>\n",
       "      <td>1623500.00</td>\n",
       "      <td>883800.00</td>\n",
       "      <td>547.68</td>\n",
       "      <td>-0.40</td>\n",
       "      <td>-0.21</td>\n",
       "      <td>-0.29</td>\n",
       "    </tr>\n",
       "  </tbody>\n",
       "</table>\n",
       "</div>"
      ],
      "text/plain": [
       "         HomeValueSingle  HomeValueCondo  Google  normst  normsh  normch\n",
       "2015-01       1484200.00       815600.00  515.92   -0.46   -0.41   -0.44\n",
       "2015-02       1518300.00       827700.00  540.99   -0.42   -0.36   -0.41\n",
       "2015-03       1553000.00       843300.00  565.97   -0.38   -0.31   -0.38\n",
       "2015-04       1590200.00       862100.00  549.48   -0.40   -0.26   -0.34\n",
       "2015-05       1623500.00       883800.00  547.68   -0.40   -0.21   -0.29"
      ]
     },
     "execution_count": 240,
     "metadata": {},
     "output_type": "execute_result"
    }
   ],
   "source": [
    "# Normalize data\n",
    "\n",
    "GG2=GG1.copy()\n",
    "GG2['normst']=(GG2['Google']-GG2['Google'].mean())/(GG2['Google'].max()-GG2['Google'].min())\n",
    "GG2['normsh']=(GG2['HomeValueSingle']-GG2['HomeValueSingle'].mean())/(GG2['HomeValueSingle'].max()-GG2['HomeValueSingle'].min())\n",
    "GG2['normch']=(GG2['HomeValueCondo']-GG2['HomeValueCondo'].mean())/(GG2['HomeValueCondo'].max()-GG2['HomeValueCondo'].min())\n",
    "GG2.head()"
   ]
  },
  {
   "cell_type": "code",
   "execution_count": 241,
   "metadata": {
    "scrolled": true
   },
   "outputs": [
    {
     "data": {
      "image/png": "[encoded data removed]",
      "text/plain": [
       "<matplotlib.figure.Figure at 0x2753b1b25c0>"
      ]
     },
     "metadata": {},
     "output_type": "display_data"
    }
   ],
   "source": [
    "GG2[['normst','normsh','normch']].plot();"
   ]
  },
  {
   "cell_type": "code",
   "execution_count": 242,
   "metadata": {},
   "outputs": [
    {
     "data": {
      "text/html": [
       "<div>\n",
       "<style>\n",
       "    .dataframe thead tr:only-child th {\n",
       "        text-align: right;\n",
       "    }\n",
       "\n",
       "    .dataframe thead th {\n",
       "        text-align: left;\n",
       "    }\n",
       "\n",
       "    .dataframe tbody tr th {\n",
       "        vertical-align: top;\n",
       "    }\n",
       "</style>\n",
       "<table border=\"1\" class=\"dataframe\">\n",
       "  <thead>\n",
       "    <tr style=\"text-align: right;\">\n",
       "      <th></th>\n",
       "      <th>HomeValueSingle</th>\n",
       "      <th>HomeValueCondo</th>\n",
       "      <th>Google</th>\n",
       "    </tr>\n",
       "  </thead>\n",
       "  <tbody>\n",
       "    <tr>\n",
       "      <th>HomeValueSingle</th>\n",
       "      <td>1.00</td>\n",
       "      <td>0.99</td>\n",
       "      <td>0.95</td>\n",
       "    </tr>\n",
       "    <tr>\n",
       "      <th>HomeValueCondo</th>\n",
       "      <td>0.99</td>\n",
       "      <td>1.00</td>\n",
       "      <td>0.98</td>\n",
       "    </tr>\n",
       "    <tr>\n",
       "      <th>Google</th>\n",
       "      <td>0.95</td>\n",
       "      <td>0.98</td>\n",
       "      <td>1.00</td>\n",
       "    </tr>\n",
       "  </tbody>\n",
       "</table>\n",
       "</div>"
      ],
      "text/plain": [
       "                 HomeValueSingle  HomeValueCondo  Google\n",
       "HomeValueSingle             1.00            0.99    0.95\n",
       "HomeValueCondo              0.99            1.00    0.98\n",
       "Google                      0.95            0.98    1.00"
      ]
     },
     "execution_count": 242,
     "metadata": {},
     "output_type": "execute_result"
    }
   ],
   "source": [
    "GG2[['HomeValueSingle','HomeValueCondo','Google']].corr()"
   ]
  },
  {
   "cell_type": "markdown",
   "metadata": {},
   "source": [
    "From the correlation data and the graph above in five regions, most of the case, stock price is highly related to Home Value, no matter what house type or which area.\n",
    "\n",
    "However, Sunnyvale part is an exception due to certain government policy that home value is severely controlled, and in this case, correlation in Suunyvale part cannot be viewed as representative."
   ]
  },
  {
   "cell_type": "markdown",
   "metadata": {},
   "source": [
    "#### How Google stock price influence home values in Santa Clara and San Jose regions"
   ]
  },
  {
   "cell_type": "markdown",
   "metadata": {},
   "source": [
    "###### Google - Santa Clara"
   ]
  },
  {
   "cell_type": "code",
   "execution_count": 243,
   "metadata": {
    "scrolled": true
   },
   "outputs": [
    {
     "data": {
      "text/html": [
       "<div>\n",
       "<style>\n",
       "    .dataframe thead tr:only-child th {\n",
       "        text-align: right;\n",
       "    }\n",
       "\n",
       "    .dataframe thead th {\n",
       "        text-align: left;\n",
       "    }\n",
       "\n",
       "    .dataframe tbody tr th {\n",
       "        vertical-align: top;\n",
       "    }\n",
       "</style>\n",
       "<table border=\"1\" class=\"dataframe\">\n",
       "  <thead>\n",
       "    <tr style=\"text-align: right;\">\n",
       "      <th></th>\n",
       "      <th>Google</th>\n",
       "      <th>HomeValueSingle</th>\n",
       "      <th>HomeValueCondo</th>\n",
       "    </tr>\n",
       "  </thead>\n",
       "  <tbody>\n",
       "    <tr>\n",
       "      <th>2015-01</th>\n",
       "      <td>515.92</td>\n",
       "      <td>886300.00</td>\n",
       "      <td>594500.00</td>\n",
       "    </tr>\n",
       "    <tr>\n",
       "      <th>2015-02</th>\n",
       "      <td>540.99</td>\n",
       "      <td>899000.00</td>\n",
       "      <td>601300.00</td>\n",
       "    </tr>\n",
       "    <tr>\n",
       "      <th>2015-03</th>\n",
       "      <td>565.97</td>\n",
       "      <td>915700.00</td>\n",
       "      <td>611500.00</td>\n",
       "    </tr>\n",
       "    <tr>\n",
       "      <th>2015-04</th>\n",
       "      <td>549.48</td>\n",
       "      <td>933700.00</td>\n",
       "      <td>625300.00</td>\n",
       "    </tr>\n",
       "    <tr>\n",
       "      <th>2015-05</th>\n",
       "      <td>547.68</td>\n",
       "      <td>949600.00</td>\n",
       "      <td>640600.00</td>\n",
       "    </tr>\n",
       "  </tbody>\n",
       "</table>\n",
       "</div>"
      ],
      "text/plain": [
       "         Google  HomeValueSingle  HomeValueCondo\n",
       "2015-01  515.92        886300.00       594500.00\n",
       "2015-02  540.99        899000.00       601300.00\n",
       "2015-03  565.97        915700.00       611500.00\n",
       "2015-04  549.48        933700.00       625300.00\n",
       "2015-05  547.68        949600.00       640600.00"
      ]
     },
     "execution_count": 243,
     "metadata": {},
     "output_type": "execute_result"
    }
   ],
   "source": [
    "AM3 = pd.concat([Google, AM], axis=1)\n",
    "AM3.head()"
   ]
  },
  {
   "cell_type": "code",
   "execution_count": 244,
   "metadata": {},
   "outputs": [
    {
     "data": {
      "text/html": [
       "<div>\n",
       "<style>\n",
       "    .dataframe thead tr:only-child th {\n",
       "        text-align: right;\n",
       "    }\n",
       "\n",
       "    .dataframe thead th {\n",
       "        text-align: left;\n",
       "    }\n",
       "\n",
       "    .dataframe tbody tr th {\n",
       "        vertical-align: top;\n",
       "    }\n",
       "</style>\n",
       "<table border=\"1\" class=\"dataframe\">\n",
       "  <thead>\n",
       "    <tr style=\"text-align: right;\">\n",
       "      <th></th>\n",
       "      <th>Google</th>\n",
       "      <th>HomeValueSingle</th>\n",
       "      <th>HomeValueCondo</th>\n",
       "      <th>normst</th>\n",
       "      <th>normsh</th>\n",
       "      <th>normch</th>\n",
       "    </tr>\n",
       "  </thead>\n",
       "  <tbody>\n",
       "    <tr>\n",
       "      <th>2015-01</th>\n",
       "      <td>515.92</td>\n",
       "      <td>886300.00</td>\n",
       "      <td>594500.00</td>\n",
       "      <td>-0.46</td>\n",
       "      <td>-0.39</td>\n",
       "      <td>-0.42</td>\n",
       "    </tr>\n",
       "    <tr>\n",
       "      <th>2015-02</th>\n",
       "      <td>540.99</td>\n",
       "      <td>899000.00</td>\n",
       "      <td>601300.00</td>\n",
       "      <td>-0.42</td>\n",
       "      <td>-0.36</td>\n",
       "      <td>-0.40</td>\n",
       "    </tr>\n",
       "    <tr>\n",
       "      <th>2015-03</th>\n",
       "      <td>565.97</td>\n",
       "      <td>915700.00</td>\n",
       "      <td>611500.00</td>\n",
       "      <td>-0.38</td>\n",
       "      <td>-0.33</td>\n",
       "      <td>-0.37</td>\n",
       "    </tr>\n",
       "    <tr>\n",
       "      <th>2015-04</th>\n",
       "      <td>549.48</td>\n",
       "      <td>933700.00</td>\n",
       "      <td>625300.00</td>\n",
       "      <td>-0.40</td>\n",
       "      <td>-0.30</td>\n",
       "      <td>-0.33</td>\n",
       "    </tr>\n",
       "    <tr>\n",
       "      <th>2015-05</th>\n",
       "      <td>547.68</td>\n",
       "      <td>949600.00</td>\n",
       "      <td>640600.00</td>\n",
       "      <td>-0.40</td>\n",
       "      <td>-0.27</td>\n",
       "      <td>-0.28</td>\n",
       "    </tr>\n",
       "  </tbody>\n",
       "</table>\n",
       "</div>"
      ],
      "text/plain": [
       "         Google  HomeValueSingle  HomeValueCondo  normst  normsh  normch\n",
       "2015-01  515.92        886300.00       594500.00   -0.46   -0.39   -0.42\n",
       "2015-02  540.99        899000.00       601300.00   -0.42   -0.36   -0.40\n",
       "2015-03  565.97        915700.00       611500.00   -0.38   -0.33   -0.37\n",
       "2015-04  549.48        933700.00       625300.00   -0.40   -0.30   -0.33\n",
       "2015-05  547.68        949600.00       640600.00   -0.40   -0.27   -0.28"
      ]
     },
     "execution_count": 244,
     "metadata": {},
     "output_type": "execute_result"
    }
   ],
   "source": [
    "# Normalize data\n",
    "AM4=AM3.copy()\n",
    "AM4['normst']=(AM4['Google']-AM4['Google'].mean())/(AM4['Google'].max()-AM4['Google'].min())\n",
    "AM4['normsh']=(AM4['HomeValueSingle']-AM4['HomeValueSingle'].mean())/(AM4['HomeValueSingle'].max()-AM4['HomeValueSingle'].min())\n",
    "AM4['normch']=(AM4['HomeValueCondo']-AM4['HomeValueCondo'].mean())/(AM4['HomeValueCondo'].max()-AM4['HomeValueCondo'].min())\n",
    "AM4.head()"
   ]
  },
  {
   "cell_type": "code",
   "execution_count": 246,
   "metadata": {},
   "outputs": [
    {
     "data": {
      "image/png": "[encoded data removed]",
      "text/plain": [
       "<matplotlib.figure.Figure at 0x2753b2d5978>"
      ]
     },
     "metadata": {},
     "output_type": "display_data"
    }
   ],
   "source": [
    "AM4[['normst','normsh','normch']].plot();"
   ]
  },
  {
   "cell_type": "code",
   "execution_count": 247,
   "metadata": {},
   "outputs": [
    {
     "data": {
      "text/html": [
       "<div>\n",
       "<style>\n",
       "    .dataframe thead tr:only-child th {\n",
       "        text-align: right;\n",
       "    }\n",
       "\n",
       "    .dataframe thead th {\n",
       "        text-align: left;\n",
       "    }\n",
       "\n",
       "    .dataframe tbody tr th {\n",
       "        vertical-align: top;\n",
       "    }\n",
       "</style>\n",
       "<table border=\"1\" class=\"dataframe\">\n",
       "  <thead>\n",
       "    <tr style=\"text-align: right;\">\n",
       "      <th></th>\n",
       "      <th>HomeValueSingle</th>\n",
       "      <th>HomeValueCondo</th>\n",
       "      <th>Google</th>\n",
       "    </tr>\n",
       "  </thead>\n",
       "  <tbody>\n",
       "    <tr>\n",
       "      <th>HomeValueSingle</th>\n",
       "      <td>1.00</td>\n",
       "      <td>0.99</td>\n",
       "      <td>0.96</td>\n",
       "    </tr>\n",
       "    <tr>\n",
       "      <th>HomeValueCondo</th>\n",
       "      <td>0.99</td>\n",
       "      <td>1.00</td>\n",
       "      <td>0.97</td>\n",
       "    </tr>\n",
       "    <tr>\n",
       "      <th>Google</th>\n",
       "      <td>0.96</td>\n",
       "      <td>0.97</td>\n",
       "      <td>1.00</td>\n",
       "    </tr>\n",
       "  </tbody>\n",
       "</table>\n",
       "</div>"
      ],
      "text/plain": [
       "                 HomeValueSingle  HomeValueCondo  Google\n",
       "HomeValueSingle             1.00            0.99    0.96\n",
       "HomeValueCondo              0.99            1.00    0.97\n",
       "Google                      0.96            0.97    1.00"
      ]
     },
     "execution_count": 247,
     "metadata": {},
     "output_type": "execute_result"
    }
   ],
   "source": [
    "AM4[['HomeValueSingle','HomeValueCondo','Google']].corr()"
   ]
  },
  {
   "cell_type": "markdown",
   "metadata": {},
   "source": [
    "###### Google - San Jose"
   ]
  },
  {
   "cell_type": "code",
   "execution_count": 248,
   "metadata": {
    "scrolled": true
   },
   "outputs": [
    {
     "data": {
      "text/html": [
       "<div>\n",
       "<style>\n",
       "    .dataframe thead tr:only-child th {\n",
       "        text-align: right;\n",
       "    }\n",
       "\n",
       "    .dataframe thead th {\n",
       "        text-align: left;\n",
       "    }\n",
       "\n",
       "    .dataframe tbody tr th {\n",
       "        vertical-align: top;\n",
       "    }\n",
       "</style>\n",
       "<table border=\"1\" class=\"dataframe\">\n",
       "  <thead>\n",
       "    <tr style=\"text-align: right;\">\n",
       "      <th></th>\n",
       "      <th>HomeValueSingle</th>\n",
       "      <th>HomeValueCondo</th>\n",
       "      <th>Google</th>\n",
       "    </tr>\n",
       "  </thead>\n",
       "  <tbody>\n",
       "    <tr>\n",
       "      <th>2015-01</th>\n",
       "      <td>783800.00</td>\n",
       "      <td>594500.00</td>\n",
       "      <td>515.92</td>\n",
       "    </tr>\n",
       "    <tr>\n",
       "      <th>2015-02</th>\n",
       "      <td>793000.00</td>\n",
       "      <td>601300.00</td>\n",
       "      <td>540.99</td>\n",
       "    </tr>\n",
       "    <tr>\n",
       "      <th>2015-03</th>\n",
       "      <td>803700.00</td>\n",
       "      <td>611500.00</td>\n",
       "      <td>565.97</td>\n",
       "    </tr>\n",
       "    <tr>\n",
       "      <th>2015-04</th>\n",
       "      <td>815100.00</td>\n",
       "      <td>625300.00</td>\n",
       "      <td>549.48</td>\n",
       "    </tr>\n",
       "    <tr>\n",
       "      <th>2015-05</th>\n",
       "      <td>826200.00</td>\n",
       "      <td>640600.00</td>\n",
       "      <td>547.68</td>\n",
       "    </tr>\n",
       "  </tbody>\n",
       "</table>\n",
       "</div>"
      ],
      "text/plain": [
       "         HomeValueSingle  HomeValueCondo  Google\n",
       "2015-01        783800.00       594500.00  515.92\n",
       "2015-02        793000.00       601300.00  540.99\n",
       "2015-03        803700.00       611500.00  565.97\n",
       "2015-04        815100.00       625300.00  549.48\n",
       "2015-05        826200.00       640600.00  547.68"
      ]
     },
     "execution_count": 248,
     "metadata": {},
     "output_type": "execute_result"
    }
   ],
   "source": [
    "CS3 = pd.concat([CS, Google], axis=1)\n",
    "CS3.head()"
   ]
  },
  {
   "cell_type": "code",
   "execution_count": 249,
   "metadata": {
    "scrolled": true
   },
   "outputs": [
    {
     "data": {
      "text/html": [
       "<div>\n",
       "<style>\n",
       "    .dataframe thead tr:only-child th {\n",
       "        text-align: right;\n",
       "    }\n",
       "\n",
       "    .dataframe thead th {\n",
       "        text-align: left;\n",
       "    }\n",
       "\n",
       "    .dataframe tbody tr th {\n",
       "        vertical-align: top;\n",
       "    }\n",
       "</style>\n",
       "<table border=\"1\" class=\"dataframe\">\n",
       "  <thead>\n",
       "    <tr style=\"text-align: right;\">\n",
       "      <th></th>\n",
       "      <th>HomeValueSingle</th>\n",
       "      <th>HomeValueCondo</th>\n",
       "      <th>Google</th>\n",
       "      <th>normst</th>\n",
       "      <th>normsh</th>\n",
       "      <th>normch</th>\n",
       "    </tr>\n",
       "  </thead>\n",
       "  <tbody>\n",
       "    <tr>\n",
       "      <th>2015-01</th>\n",
       "      <td>783800.00</td>\n",
       "      <td>594500.00</td>\n",
       "      <td>515.92</td>\n",
       "      <td>-0.46</td>\n",
       "      <td>-0.38</td>\n",
       "      <td>-0.42</td>\n",
       "    </tr>\n",
       "    <tr>\n",
       "      <th>2015-02</th>\n",
       "      <td>793000.00</td>\n",
       "      <td>601300.00</td>\n",
       "      <td>540.99</td>\n",
       "      <td>-0.42</td>\n",
       "      <td>-0.35</td>\n",
       "      <td>-0.40</td>\n",
       "    </tr>\n",
       "    <tr>\n",
       "      <th>2015-03</th>\n",
       "      <td>803700.00</td>\n",
       "      <td>611500.00</td>\n",
       "      <td>565.97</td>\n",
       "      <td>-0.38</td>\n",
       "      <td>-0.32</td>\n",
       "      <td>-0.37</td>\n",
       "    </tr>\n",
       "    <tr>\n",
       "      <th>2015-04</th>\n",
       "      <td>815100.00</td>\n",
       "      <td>625300.00</td>\n",
       "      <td>549.48</td>\n",
       "      <td>-0.40</td>\n",
       "      <td>-0.29</td>\n",
       "      <td>-0.33</td>\n",
       "    </tr>\n",
       "    <tr>\n",
       "      <th>2015-05</th>\n",
       "      <td>826200.00</td>\n",
       "      <td>640600.00</td>\n",
       "      <td>547.68</td>\n",
       "      <td>-0.40</td>\n",
       "      <td>-0.25</td>\n",
       "      <td>-0.28</td>\n",
       "    </tr>\n",
       "  </tbody>\n",
       "</table>\n",
       "</div>"
      ],
      "text/plain": [
       "         HomeValueSingle  HomeValueCondo  Google  normst  normsh  normch\n",
       "2015-01        783800.00       594500.00  515.92   -0.46   -0.38   -0.42\n",
       "2015-02        793000.00       601300.00  540.99   -0.42   -0.35   -0.40\n",
       "2015-03        803700.00       611500.00  565.97   -0.38   -0.32   -0.37\n",
       "2015-04        815100.00       625300.00  549.48   -0.40   -0.29   -0.33\n",
       "2015-05        826200.00       640600.00  547.68   -0.40   -0.25   -0.28"
      ]
     },
     "execution_count": 249,
     "metadata": {},
     "output_type": "execute_result"
    }
   ],
   "source": [
    "# Normalize data\n",
    "\n",
    "CS4=CS3.copy()\n",
    "CS4['normst']=(CS4['Google']-CS4['Google'].mean())/(CS4['Google'].max()-CS4['Google'].min())\n",
    "CS4['normsh']=(CS4['HomeValueSingle']-CS4['HomeValueSingle'].mean())/(CS4['HomeValueSingle'].max()-CS4['HomeValueSingle'].min())\n",
    "CS4['normch']=(CS4['HomeValueCondo']-CS4['HomeValueCondo'].mean())/(CS4['HomeValueCondo'].max()-CS4['HomeValueCondo'].min())\n",
    "CS4.head()"
   ]
  },
  {
   "cell_type": "code",
   "execution_count": 250,
   "metadata": {},
   "outputs": [
    {
     "data": {
      "image/png": "[encoded data removed]",
      "text/plain": [
       "<matplotlib.figure.Figure at 0x2753b2cf278>"
      ]
     },
     "metadata": {},
     "output_type": "display_data"
    }
   ],
   "source": [
    "CS4[['normst','normsh','normch']].plot();"
   ]
  },
  {
   "cell_type": "code",
   "execution_count": 251,
   "metadata": {
    "scrolled": false
   },
   "outputs": [
    {
     "data": {
      "text/html": [
       "<div>\n",
       "<style>\n",
       "    .dataframe thead tr:only-child th {\n",
       "        text-align: right;\n",
       "    }\n",
       "\n",
       "    .dataframe thead th {\n",
       "        text-align: left;\n",
       "    }\n",
       "\n",
       "    .dataframe tbody tr th {\n",
       "        vertical-align: top;\n",
       "    }\n",
       "</style>\n",
       "<table border=\"1\" class=\"dataframe\">\n",
       "  <thead>\n",
       "    <tr style=\"text-align: right;\">\n",
       "      <th></th>\n",
       "      <th>HomeValueSingle</th>\n",
       "      <th>HomeValueCondo</th>\n",
       "      <th>Google</th>\n",
       "    </tr>\n",
       "  </thead>\n",
       "  <tbody>\n",
       "    <tr>\n",
       "      <th>HomeValueSingle</th>\n",
       "      <td>1.00</td>\n",
       "      <td>1.00</td>\n",
       "      <td>0.96</td>\n",
       "    </tr>\n",
       "    <tr>\n",
       "      <th>HomeValueCondo</th>\n",
       "      <td>1.00</td>\n",
       "      <td>1.00</td>\n",
       "      <td>0.97</td>\n",
       "    </tr>\n",
       "    <tr>\n",
       "      <th>Google</th>\n",
       "      <td>0.96</td>\n",
       "      <td>0.97</td>\n",
       "      <td>1.00</td>\n",
       "    </tr>\n",
       "  </tbody>\n",
       "</table>\n",
       "</div>"
      ],
      "text/plain": [
       "                 HomeValueSingle  HomeValueCondo  Google\n",
       "HomeValueSingle             1.00            1.00    0.96\n",
       "HomeValueCondo              1.00            1.00    0.97\n",
       "Google                      0.96            0.97    1.00"
      ]
     },
     "execution_count": 251,
     "metadata": {},
     "output_type": "execute_result"
    }
   ],
   "source": [
    "CS4[['HomeValueSingle','HomeValueCondo','Google']].corr()"
   ]
  },
  {
   "cell_type": "markdown",
   "metadata": {},
   "source": [
    "From the tables and graphs above, we can see that Google stock price is still highly correlated to home vValues in Santa Clara and San Jose and not just Mountain View, where Google is based. \n",
    "Thus, we can safely conclude that 'Google Magic' is all through the Bay Area with regards to home values."
   ]
  }
 ],
 "metadata": {
  "kernelspec": {
   "display_name": "Python 3",
   "language": "python",
   "name": "python3"
  },
  "language_info": {
   "codemirror_mode": {
    "name": "ipython",
    "version": 3
   },
   "file_extension": ".py",
   "mimetype": "text/x-python",
   "name": "python",
   "nbconvert_exporter": "python",
   "pygments_lexer": "ipython3",
   "version": "3.6.3"
  }
 },
 "nbformat": 4,
 "nbformat_minor": 2
}
